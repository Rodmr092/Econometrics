{
 "cells": [
  {
   "cell_type": "markdown",
   "metadata": {},
   "source": [
    "# Chapter 4, inference / hypothesis testing"
   ]
  },
  {
   "cell_type": "markdown",
   "metadata": {},
   "source": [
    "## C1"
   ]
  },
  {
   "cell_type": "code",
   "execution_count": null,
   "metadata": {},
   "outputs": [],
   "source": [
    "import wooldridge\n",
    "import pandas as pd\n",
    "import numpy as np\n",
    "from statsmodels.formula.api import ols\n",
    "import matplotlib.pyplot as plt\n",
    "\n",
    "\n",
    "# Cargar datos\n",
    "data = wooldridge.data('vote1')\n",
    "\n",
    "vote = pd.DataFrame(data)\n"
   ]
  },
  {
   "cell_type": "code",
   "execution_count": 16,
   "metadata": {},
   "outputs": [],
   "source": [
    "# Crear el modelo \n",
    "model = ols('voteA ~ lexpendA + lexpendB + prtystrA', data=vote).fit()"
   ]
  },
  {
   "cell_type": "code",
   "execution_count": 18,
   "metadata": {},
   "outputs": [
    {
     "name": "stdout",
     "output_type": "stream",
     "text": [
      "                            OLS Regression Results                            \n",
      "==============================================================================\n",
      "Dep. Variable:                  voteA   R-squared:                       0.793\n",
      "Model:                            OLS   Adj. R-squared:                  0.789\n",
      "Method:                 Least Squares   F-statistic:                     215.2\n",
      "Date:                Mon, 11 Nov 2024   Prob (F-statistic):           1.76e-57\n",
      "Time:                        17:27:40   Log-Likelihood:                -596.86\n",
      "No. Observations:                 173   AIC:                             1202.\n",
      "Df Residuals:                     169   BIC:                             1214.\n",
      "Df Model:                           3                                         \n",
      "Covariance Type:            nonrobust                                         \n",
      "==============================================================================\n",
      "                 coef    std err          t      P>|t|      [0.025      0.975]\n",
      "------------------------------------------------------------------------------\n",
      "Intercept     45.0789      3.926     11.481      0.000      37.328      52.830\n",
      "lexpendA       6.0833      0.382     15.919      0.000       5.329       6.838\n",
      "lexpendB      -6.6154      0.379    -17.463      0.000      -7.363      -5.868\n",
      "prtystrA       0.1520      0.062      2.450      0.015       0.030       0.274\n",
      "==============================================================================\n",
      "Omnibus:                        8.900   Durbin-Watson:                   1.604\n",
      "Prob(Omnibus):                  0.012   Jarque-Bera (JB):                8.832\n",
      "Skew:                           0.493   Prob(JB):                       0.0121\n",
      "Kurtosis:                       3.505   Cond. No.                         344.\n",
      "==============================================================================\n",
      "\n",
      "Notes:\n",
      "[1] Standard Errors assume that the covariance matrix of the errors is correctly specified.\n"
     ]
    }
   ],
   "source": [
    "# Print model summary\n",
    "print (model.summary())"
   ]
  },
  {
   "cell_type": "markdown",
   "metadata": {},
   "source": [
    "(i) **interpretation of b1**\n",
    "b1 models a level-log relationship, but vote is a percentage, a change of 1% in expendA changes the predicted percentage of vote by .06% in a similar direction of the change.\n",
    "\n",
    "(ii)**In terms of the parameters, state the null hypothesis that a 1% increase in A’s expenditures is offset by a 1% increase in B’s expenditures.** H0 : B1 = -B2\n",
    "\n",
    "(iii) **Estimate the given model using the data in VOTE1.RAW and report the results \n",
    "in usual form. Do A’s expenditures affect the outcome? What about B’s expenditures? Can you use these results to test the hypothesis in part (ii)?** lexpendA has a coef of 6.08 and a std error of .382, which gives us a t statistic of 15.9 which means it is very significant both practically as statistically. Similarly, lexpendB has a coef of -6.61, a SD of .379 and a t of -17.463. It is also both practically and statistically significant and important. Both have similar results in the opposite direction, which is expected due to the non-zero sum aspect of an election. Further analysis is required to quantify and reject the hypothesis that a 1% increase in A is offset by 1% increase in B, such as applying a t test between the two parameters, which would require us to estimate a model that gives the t statistic for testing the hypothesis by reparametrization or to compute the standard error of B1-B2\n",
    "\n",
    "(iv) Estimate a model that directly gives the t statistic for testing the hypothesis in part \n",
    "(ii). What do you conclude? (Use a two-sided alternative.)\n",
    "\n",
    "\n"
   ]
  },
  {
   "cell_type": "markdown",
   "metadata": {},
   "source": [
    "voteA = β₀ + β₁lexpendA + β₂lexpendB + β₃prtystrA + u\n",
    "\n",
    "Hypothesis: H0:B1=-B2\n",
    "\n",
    "we sum and substract B2expend, to obtain the coefficient B1+B2 and prove if it is 0\n",
    "\n",
    "voteA = β₀ + β₁lexpendA + β₂lexpendB + β₂lexpendA - β₂lexpendA + β₃prtystrA + u\n",
    "\n",
    "voteA = β₀ + β₂(lexpendA + lexpendB) + (β₁ + β₂)lexpendA + β₃prtystrA + u\n",
    "\n",
    "θ = β₂ (coeficiente de sum_expend)\n",
    "γ = β₁ + β₂ (coeficiente de lexpendA)\n",
    "\n",
    "voteA = β₀ + θ(lexpendA + lexpendB) + γ(lexpendA) + β₃prtystrA + u\n",
    "\n"
   ]
  },
  {
   "cell_type": "code",
   "execution_count": 23,
   "metadata": {},
   "outputs": [
    {
     "name": "stdout",
     "output_type": "stream",
     "text": [
      "Resultados del modelo reparametrizado:\n",
      "=====================================\n",
      "                            OLS Regression Results                            \n",
      "==============================================================================\n",
      "Dep. Variable:                  voteA   R-squared:                       0.793\n",
      "Model:                            OLS   Adj. R-squared:                  0.789\n",
      "Method:                 Least Squares   F-statistic:                     215.2\n",
      "Date:                Mon, 11 Nov 2024   Prob (F-statistic):           1.76e-57\n",
      "Time:                        17:58:27   Log-Likelihood:                -596.86\n",
      "No. Observations:                 173   AIC:                             1202.\n",
      "Df Residuals:                     169   BIC:                             1214.\n",
      "Df Model:                           3                                         \n",
      "Covariance Type:            nonrobust                                         \n",
      "==============================================================================\n",
      "                 coef    std err          t      P>|t|      [0.025      0.975]\n",
      "------------------------------------------------------------------------------\n",
      "Intercept     45.0789      3.926     11.481      0.000      37.328      52.830\n",
      "sum_expend    -6.6154      0.379    -17.463      0.000      -7.363      -5.868\n",
      "lexpendA      12.6987      0.543     23.384      0.000      11.627      13.771\n",
      "prtystrA       0.1520      0.062      2.450      0.015       0.030       0.274\n",
      "==============================================================================\n",
      "Omnibus:                        8.900   Durbin-Watson:                   1.604\n",
      "Prob(Omnibus):                  0.012   Jarque-Bera (JB):                8.832\n",
      "Skew:                           0.493   Prob(JB):                       0.0121\n",
      "Kurtosis:                       3.505   Cond. No.                         349.\n",
      "==============================================================================\n",
      "\n",
      "Notes:\n",
      "[1] Standard Errors assume that the covariance matrix of the errors is correctly specified.\n",
      "\n",
      "Prueba de hipótesis H₀: β₁ = -β₂\n",
      "===================================\n",
      "t-estadístico: 23.3840\n",
      "p-valor: 0.0000e+00\n"
     ]
    }
   ],
   "source": [
    "# Answer to 4:\n",
    "from scipy import stats  \n",
    "\n",
    "# Crear nueva variable que representa la suma de los coeficientes\n",
    "vote['sum_expend'] = vote['lexpendA'] + vote['lexpendB']\n",
    "\n",
    "# Modelo reparametrizado\n",
    "# voteA = β₀ + θ(lexpendA + lexpendB) + γ(lexpendA) + β₃prtystrA + u\n",
    "# donde γ = (β₁ + β₂)/2 es el coeficiente que queremos probar si es 0\n",
    "modelo_rep = ols('voteA ~ sum_expend + lexpendA + prtystrA', data=vote).fit()\n",
    "\n",
    "print(\"Resultados del modelo reparametrizado:\")\n",
    "print(\"=====================================\")\n",
    "print(modelo_rep.summary())\n",
    "\n",
    "# Calcular el p-valor para la prueba de dos colas\n",
    "t_stat = modelo_rep.tvalues['lexpendA']\n",
    "p_valor = 2 * (1 - stats.t.cdf(abs(t_stat), df=modelo_rep.df_resid))\n",
    "\n",
    "print(\"\\nPrueba de hipótesis H₀: β₁ = -β₂\")\n",
    "print(\"===================================\")\n",
    "print(f\"t-estadístico: {t_stat:.4f}\")\n",
    "print(f\"p-valor: {p_valor:.4e}\")"
   ]
  },
  {
   "cell_type": "markdown",
   "metadata": {},
   "source": [
    "(iv) with a t statistic of 23.38 and a p value of almost 0, we can reject the null hipothesis that B1 = -B2. This means that the effects in expenditure aren't symmetric, where the expenditures by candidate B have a marginally bigger effect in voting."
   ]
  },
  {
   "cell_type": "markdown",
   "metadata": {},
   "source": [
    "## C2 \n",
    "LSAT is the median LSAT score for the graduating class, GPA is the median college \n",
    "GPA for the class, libvol is the number of volumes in the law school library, cost is the an\u0002nual cost of attending law school, and rank is a law school ranking (with rank 5 1 being \n",
    "the best)."
   ]
  },
  {
   "cell_type": "code",
   "execution_count": 29,
   "metadata": {},
   "outputs": [],
   "source": [
    "import wooldridge as woo\n",
    "import numpy as np\n",
    "import pandas as pd\n",
    "import statsmodels.api as sm\n",
    "import matplotlib.pyplot as plt\n",
    "from statsmodels.formula.api import ols\n",
    "import seaborn as sns\n",
    "\n",
    "data = woo.data('lawsch85')\n",
    "\n"
   ]
  },
  {
   "cell_type": "code",
   "execution_count": 30,
   "metadata": {},
   "outputs": [
    {
     "name": "stdout",
     "output_type": "stream",
     "text": [
      "\n",
      "Resultados de la Regresión:\n",
      "                            OLS Regression Results                            \n",
      "==============================================================================\n",
      "Dep. Variable:                lsalary   R-squared:                       0.842\n",
      "Model:                            OLS   Adj. R-squared:                  0.836\n",
      "Method:                 Least Squares   F-statistic:                     138.2\n",
      "Date:                Mon, 11 Nov 2024   Prob (F-statistic):           2.93e-50\n",
      "Time:                        18:28:35   Log-Likelihood:                 107.33\n",
      "No. Observations:                 136   AIC:                            -202.7\n",
      "Df Residuals:                     130   BIC:                            -185.2\n",
      "Df Model:                           5                                         \n",
      "Covariance Type:            nonrobust                                         \n",
      "==============================================================================\n",
      "                 coef    std err          t      P>|t|      [0.025      0.975]\n",
      "------------------------------------------------------------------------------\n",
      "Intercept      8.3432      0.533     15.667      0.000       7.290       9.397\n",
      "LSAT           0.0047      0.004      1.171      0.244      -0.003       0.013\n",
      "GPA            0.2475      0.090      2.749      0.007       0.069       0.426\n",
      "llibvol        0.0950      0.033      2.857      0.005       0.029       0.161\n",
      "lcost          0.0376      0.032      1.170      0.244      -0.026       0.101\n",
      "rank          -0.0033      0.000     -9.541      0.000      -0.004      -0.003\n",
      "==============================================================================\n",
      "Omnibus:                        0.198   Durbin-Watson:                   1.706\n",
      "Prob(Omnibus):                  0.906   Jarque-Bera (JB):                0.365\n",
      "Skew:                           0.037   Prob(JB):                        0.833\n",
      "Kurtosis:                       2.757   Cond. No.                     9.89e+03\n",
      "==============================================================================\n",
      "\n",
      "Notes:\n",
      "[1] Standard Errors assume that the covariance matrix of the errors is correctly specified.\n",
      "[2] The condition number is large, 9.89e+03. This might indicate that there are\n",
      "strong multicollinearity or other numerical problems.\n"
     ]
    }
   ],
   "source": [
    "modelo = ols('lsalary ~ LSAT + GPA + llibvol + lcost + rank', data=data)\n",
    "\n",
    "resultados = modelo.fit()\n",
    "\n",
    "\n",
    "print(\"\\nResultados de la Regresión:\")\n",
    "print(resultados.summary())"
   ]
  },
  {
   "cell_type": "markdown",
   "metadata": {},
   "source": [
    "(i)state and test the null hypothesis \n",
    "that the rank of law schools has no ceteris paribus effect on median starting salary.\n",
    "\n",
    "H0: Brank = 0\n",
    "\n",
    "the t statistic of rank is -9.541, which indicates that the rank of the school has a statistically significant effect on salary.The effect is low when compared to other variables. As it is a log-level relationship, each ranking point is equal to .33% in a change in the salary.\n",
    "\n",
    "(ii) Are features of the incoming class of students—namely, LSAT and GPA—\n",
    "individually or jointly significant for explaining salary? (Be sure to account for \n",
    "missing data on LSAT and GPA.)\n",
    "\n",
    "Lsat doesn't seem to have individual significancy. To evaluate joint significance, one may use the F test to evaluate this."
   ]
  },
  {
   "cell_type": "code",
   "execution_count": 33,
   "metadata": {},
   "outputs": [
    {
     "name": "stdout",
     "output_type": "stream",
     "text": [
      "Sample size: 136.0\n",
      "\n",
      "F-statistic: 9.9518\n",
      "p-value: 0.0001\n"
     ]
    }
   ],
   "source": [
    "import wooldridge as woo\n",
    "import numpy as np\n",
    "from statsmodels.formula.api import ols\n",
    "import scipy.stats as stats\n",
    "\n",
    "# Load and clean data\n",
    "data = woo.data('lawsch85')\n",
    "data_clean = data.dropna(subset=['LSAT', 'GPA', 'lsalary', 'llibvol', 'lcost', 'rank'])\n",
    "\n",
    "# Estimate models\n",
    "full_model = ols('lsalary ~ LSAT + GPA + llibvol + lcost + rank', data=data_clean).fit()\n",
    "restricted_model = ols('lsalary ~ llibvol + lcost + rank', data=data_clean).fit()\n",
    "\n",
    "# F-test for joint significance\n",
    "n = full_model.nobs\n",
    "k_full = full_model.df_model\n",
    "k_restricted = restricted_model.df_model\n",
    "q = k_full - k_restricted  # number of restrictions\n",
    "\n",
    "F = ((full_model.rsquared - restricted_model.rsquared) / q) / \\\n",
    "    ((1 - full_model.rsquared) / (n - k_full - 1))\n",
    "p_value = 1 - stats.f.cdf(F, q, n - k_full - 1)\n",
    "\n",
    "# Print results\n",
    "print(f\"Sample size: {n}\")\n",
    "print(f\"\\nF-statistic: {F:.4f}\")\n",
    "print(f\"p-value: {p_value:.4f}\")"
   ]
  },
  {
   "cell_type": "markdown",
   "metadata": {},
   "source": [
    "Both are jointly significant.\n",
    "\n",
    "(iii) Test whether the size of the entering class (clsize) or the size of the faculty \n",
    "( faculty) needs to be added to this equation; carry out a single test. (Be careful to \n",
    "account for missing data on clsize and faculty.)\n",
    "\n",
    "H0 : Bclsize, Bfaculty = 0\n",
    "H1 : Bclsize, Bfaculty =/ 0\n",
    "\n"
   ]
  },
  {
   "cell_type": "code",
   "execution_count": 36,
   "metadata": {},
   "outputs": [
    {
     "name": "stdout",
     "output_type": "stream",
     "text": [
      "Sample size: 131.0\n",
      "\n",
      "F-test for joint significance of class size and faculty:\n",
      "F-statistic: 0.9484\n",
      "p-value: 0.3902\n",
      "\n",
      "Coefficients for added variables:\n",
      "Variable    Coefficient    Std Error     t-stat    p-value\n",
      "-------------------------------------------------------\n",
      "clsize           0.0001       0.0002     0.8741     0.3838\n",
      "faculty          0.0001       0.0004     0.1687     0.8663\n"
     ]
    }
   ],
   "source": [
    "import wooldridge as woo\n",
    "from statsmodels.formula.api import ols\n",
    "import scipy.stats as stats\n",
    "\n",
    "# Load and clean data\n",
    "data = woo.data('lawsch85')\n",
    "data_clean = data.dropna(subset=['LSAT', 'GPA', 'lsalary', 'llibvol', 'lcost', 'rank', 'clsize', 'faculty'])\n",
    "\n",
    "# Extended model\n",
    "extended_model = ols('lsalary ~ LSAT + GPA + llibvol + lcost + rank + clsize + faculty', \n",
    "                    data=data_clean).fit()\n",
    "\n",
    "# Base model\n",
    "base_model = ols('lsalary ~ LSAT + GPA + llibvol + lcost + rank', \n",
    "                data=data_clean).fit()\n",
    "\n",
    "# F-test\n",
    "n = base_model.nobs\n",
    "k_extended = extended_model.df_model\n",
    "k_base = base_model.df_model\n",
    "q = k_extended - k_base\n",
    "\n",
    "F = ((extended_model.rsquared - base_model.rsquared) / q) / \\\n",
    "    ((1 - extended_model.rsquared) / (n - k_extended - 1))\n",
    "p_value = 1 - stats.f.cdf(F, q, n - k_extended - 1)\n",
    "\n",
    "# Print results\n",
    "print(f\"Sample size: {n}\")\n",
    "print(f\"\\nF-test for joint significance of class size and faculty:\")\n",
    "print(f\"F-statistic: {F:.4f}\")\n",
    "print(f\"p-value: {p_value:.4f}\")\n",
    "\n",
    "print(\"\\nCoefficients for added variables:\")\n",
    "print(f\"{'Variable':<10} {'Coefficient':>12} {'Std Error':>12} {'t-stat':>10} {'p-value':>10}\")\n",
    "print(\"-\" * 55)\n",
    "print(f\"{'clsize':<10} {extended_model.params['clsize']:12.4f} \"\n",
    "      f\"{extended_model.bse['clsize']:12.4f} \"\n",
    "      f\"{(extended_model.params['clsize']/extended_model.bse['clsize']):10.4f} \"\n",
    "      f\"{extended_model.pvalues['clsize']:10.4f}\")\n",
    "print(f\"{'faculty':<10} {extended_model.params['faculty']:12.4f} \"\n",
    "      f\"{extended_model.bse['faculty']:12.4f} \"\n",
    "      f\"{(extended_model.params['faculty']/extended_model.bse['faculty']):10.4f} \"\n",
    "      f\"{extended_model.pvalues['faculty']:10.4f}\")"
   ]
  },
  {
   "cell_type": "markdown",
   "metadata": {},
   "source": [
    "The F statistic is .9484 and the p-value is .3902\n",
    "There is very little evidence that adding clsize and faculty will improve the model, so we fail to reject H0\n"
   ]
  },
  {
   "cell_type": "markdown",
   "metadata": {},
   "source": [
    "(iv) What factors might influence the rank of the law school that are not included in the model?\n",
    "\n",
    "- Bar passage rate\n",
    "- Student acceptance ratio\n",
    "- Number and quality of academic papers\n",
    "- Ratio of employment after graduation"
   ]
  },
  {
   "cell_type": "markdown",
   "metadata": {},
   "source": [
    "## C3"
   ]
  },
  {
   "cell_type": "code",
   "execution_count": null,
   "metadata": {},
   "outputs": [],
   "source": []
  }
 ],
 "metadata": {
  "kernelspec": {
   "display_name": "scikitlearn_tutorial_venv",
   "language": "python",
   "name": "python3"
  },
  "language_info": {
   "codemirror_mode": {
    "name": "ipython",
    "version": 3
   },
   "file_extension": ".py",
   "mimetype": "text/x-python",
   "name": "python",
   "nbconvert_exporter": "python",
   "pygments_lexer": "ipython3",
   "version": "3.12.1"
  }
 },
 "nbformat": 4,
 "nbformat_minor": 2
}
