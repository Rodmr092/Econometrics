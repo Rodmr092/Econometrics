{
 "cells": [
  {
   "cell_type": "markdown",
   "metadata": {},
   "source": [
    "# Chapter 4, inference / hypothesis testing"
   ]
  },
  {
   "cell_type": "markdown",
   "metadata": {},
   "source": [
    "## C1"
   ]
  },
  {
   "cell_type": "code",
   "execution_count": null,
   "metadata": {},
   "outputs": [],
   "source": [
    "import wooldridge\n",
    "import pandas as pd\n",
    "import numpy as np\n",
    "from statsmodels.formula.api import ols\n",
    "import matplotlib.pyplot as plt\n",
    "\n",
    "\n",
    "# Cargar datos\n",
    "data = wooldridge.data('vote1')\n",
    "\n",
    "vote = pd.DataFrame(data)\n"
   ]
  },
  {
   "cell_type": "code",
   "execution_count": 16,
   "metadata": {},
   "outputs": [],
   "source": [
    "# Crear el modelo \n",
    "model = ols('voteA ~ lexpendA + lexpendB + prtystrA', data=vote).fit()"
   ]
  },
  {
   "cell_type": "code",
   "execution_count": 18,
   "metadata": {},
   "outputs": [
    {
     "name": "stdout",
     "output_type": "stream",
     "text": [
      "                            OLS Regression Results                            \n",
      "==============================================================================\n",
      "Dep. Variable:                  voteA   R-squared:                       0.793\n",
      "Model:                            OLS   Adj. R-squared:                  0.789\n",
      "Method:                 Least Squares   F-statistic:                     215.2\n",
      "Date:                Mon, 11 Nov 2024   Prob (F-statistic):           1.76e-57\n",
      "Time:                        17:27:40   Log-Likelihood:                -596.86\n",
      "No. Observations:                 173   AIC:                             1202.\n",
      "Df Residuals:                     169   BIC:                             1214.\n",
      "Df Model:                           3                                         \n",
      "Covariance Type:            nonrobust                                         \n",
      "==============================================================================\n",
      "                 coef    std err          t      P>|t|      [0.025      0.975]\n",
      "------------------------------------------------------------------------------\n",
      "Intercept     45.0789      3.926     11.481      0.000      37.328      52.830\n",
      "lexpendA       6.0833      0.382     15.919      0.000       5.329       6.838\n",
      "lexpendB      -6.6154      0.379    -17.463      0.000      -7.363      -5.868\n",
      "prtystrA       0.1520      0.062      2.450      0.015       0.030       0.274\n",
      "==============================================================================\n",
      "Omnibus:                        8.900   Durbin-Watson:                   1.604\n",
      "Prob(Omnibus):                  0.012   Jarque-Bera (JB):                8.832\n",
      "Skew:                           0.493   Prob(JB):                       0.0121\n",
      "Kurtosis:                       3.505   Cond. No.                         344.\n",
      "==============================================================================\n",
      "\n",
      "Notes:\n",
      "[1] Standard Errors assume that the covariance matrix of the errors is correctly specified.\n"
     ]
    }
   ],
   "source": [
    "# Print model summary\n",
    "print (model.summary())"
   ]
  },
  {
   "cell_type": "markdown",
   "metadata": {},
   "source": [
    "(i) **interpretation of b1**\n",
    "b1 models a level-log relationship, but vote is a percentage, a change of 1% in expendA changes the predicted percentage of vote by .06% in a similar direction of the change.\n",
    "\n",
    "(ii)**In terms of the parameters, state the null hypothesis that a 1% increase in A’s expenditures is offset by a 1% increase in B’s expenditures.** H0 : B1 = -B2\n",
    "\n",
    "(iii) **Estimate the given model using the data in VOTE1.RAW and report the results \n",
    "in usual form. Do A’s expenditures affect the outcome? What about B’s expenditures? Can you use these results to test the hypothesis in part (ii)?** lexpendA has a coef of 6.08 and a std error of .382, which gives us a t statistic of 15.9 which means it is very significant both practically as statistically. Similarly, lexpendB has a coef of -6.61, a SD of .379 and a t of -17.463. It is also both practically and statistically significant and important. Both have similar results in the opposite direction, which is expected due to the non-zero sum aspect of an election. Further analysis is required to quantify and reject the hypothesis that a 1% increase in A is offset by 1% increase in B, such as applying a t test between the two parameters, which would require us to estimate a model that gives the t statistic for testing the hypothesis by reparametrization or to compute the standard error of B1-B2\n",
    "\n",
    "(iv) Estimate a model that directly gives the t statistic for testing the hypothesis in part \n",
    "(ii). What do you conclude? (Use a two-sided alternative.)\n",
    "\n",
    "\n"
   ]
  },
  {
   "cell_type": "markdown",
   "metadata": {},
   "source": [
    "voteA = β₀ + β₁lexpendA + β₂lexpendB + β₃prtystrA + u\n",
    "\n",
    "Hypothesis: H0:B1=-B2\n",
    "\n",
    "we sum and substract B2expend, to obtain the coefficient B1+B2 and prove if it is 0\n",
    "\n",
    "voteA = β₀ + β₁lexpendA + β₂lexpendB + β₂lexpendA - β₂lexpendA + β₃prtystrA + u\n",
    "\n",
    "voteA = β₀ + β₂(lexpendA + lexpendB) + (β₁ + β₂)lexpendA + β₃prtystrA + u\n",
    "\n",
    "θ = β₂ (coeficiente de sum_expend)\n",
    "γ = β₁ + β₂ (coeficiente de lexpendA)\n",
    "\n",
    "voteA = β₀ + θ(lexpendA + lexpendB) + γ(lexpendA) + β₃prtystrA + u\n",
    "\n"
   ]
  },
  {
   "cell_type": "code",
   "execution_count": 23,
   "metadata": {},
   "outputs": [
    {
     "name": "stdout",
     "output_type": "stream",
     "text": [
      "Resultados del modelo reparametrizado:\n",
      "=====================================\n",
      "                            OLS Regression Results                            \n",
      "==============================================================================\n",
      "Dep. Variable:                  voteA   R-squared:                       0.793\n",
      "Model:                            OLS   Adj. R-squared:                  0.789\n",
      "Method:                 Least Squares   F-statistic:                     215.2\n",
      "Date:                Mon, 11 Nov 2024   Prob (F-statistic):           1.76e-57\n",
      "Time:                        17:58:27   Log-Likelihood:                -596.86\n",
      "No. Observations:                 173   AIC:                             1202.\n",
      "Df Residuals:                     169   BIC:                             1214.\n",
      "Df Model:                           3                                         \n",
      "Covariance Type:            nonrobust                                         \n",
      "==============================================================================\n",
      "                 coef    std err          t      P>|t|      [0.025      0.975]\n",
      "------------------------------------------------------------------------------\n",
      "Intercept     45.0789      3.926     11.481      0.000      37.328      52.830\n",
      "sum_expend    -6.6154      0.379    -17.463      0.000      -7.363      -5.868\n",
      "lexpendA      12.6987      0.543     23.384      0.000      11.627      13.771\n",
      "prtystrA       0.1520      0.062      2.450      0.015       0.030       0.274\n",
      "==============================================================================\n",
      "Omnibus:                        8.900   Durbin-Watson:                   1.604\n",
      "Prob(Omnibus):                  0.012   Jarque-Bera (JB):                8.832\n",
      "Skew:                           0.493   Prob(JB):                       0.0121\n",
      "Kurtosis:                       3.505   Cond. No.                         349.\n",
      "==============================================================================\n",
      "\n",
      "Notes:\n",
      "[1] Standard Errors assume that the covariance matrix of the errors is correctly specified.\n",
      "\n",
      "Prueba de hipótesis H₀: β₁ = -β₂\n",
      "===================================\n",
      "t-estadístico: 23.3840\n",
      "p-valor: 0.0000e+00\n"
     ]
    }
   ],
   "source": [
    "# Answer to 4:\n",
    "from scipy import stats  \n",
    "\n",
    "# Crear nueva variable que representa la suma de los coeficientes\n",
    "vote['sum_expend'] = vote['lexpendA'] + vote['lexpendB']\n",
    "\n",
    "# Modelo reparametrizado\n",
    "# voteA = β₀ + θ(lexpendA + lexpendB) + γ(lexpendA) + β₃prtystrA + u\n",
    "# donde γ = (β₁ + β₂)/2 es el coeficiente que queremos probar si es 0\n",
    "modelo_rep = ols('voteA ~ sum_expend + lexpendA + prtystrA', data=vote).fit()\n",
    "\n",
    "print(\"Resultados del modelo reparametrizado:\")\n",
    "print(\"=====================================\")\n",
    "print(modelo_rep.summary())\n",
    "\n",
    "# Calcular el p-valor para la prueba de dos colas\n",
    "t_stat = modelo_rep.tvalues['lexpendA']\n",
    "p_valor = 2 * (1 - stats.t.cdf(abs(t_stat), df=modelo_rep.df_resid))\n",
    "\n",
    "print(\"\\nPrueba de hipótesis H₀: β₁ = -β₂\")\n",
    "print(\"===================================\")\n",
    "print(f\"t-estadístico: {t_stat:.4f}\")\n",
    "print(f\"p-valor: {p_valor:.4e}\")"
   ]
  },
  {
   "cell_type": "markdown",
   "metadata": {},
   "source": [
    "(iv) with a t statistic of 23.38 and a p value of almost 0, we can reject the null hipothesis that B1 = -B2. This means that the effects in expenditure aren't symmetric, where the expenditures by candidate B have a marginally bigger effect in voting."
   ]
  },
  {
   "cell_type": "markdown",
   "metadata": {},
   "source": [
    "## C2 \n",
    "LSAT is the median LSAT score for the graduating class, GPA is the median college \n",
    "GPA for the class, libvol is the number of volumes in the law school library, cost is the an\u0002nual cost of attending law school, and rank is a law school ranking (with rank 5 1 being \n",
    "the best)."
   ]
  },
  {
   "cell_type": "code",
   "execution_count": 29,
   "metadata": {},
   "outputs": [],
   "source": [
    "import wooldridge as woo\n",
    "import numpy as np\n",
    "import pandas as pd\n",
    "import statsmodels.api as sm\n",
    "import matplotlib.pyplot as plt\n",
    "from statsmodels.formula.api import ols\n",
    "import seaborn as sns\n",
    "\n",
    "data = woo.data('lawsch85')\n",
    "\n"
   ]
  },
  {
   "cell_type": "code",
   "execution_count": 30,
   "metadata": {},
   "outputs": [
    {
     "name": "stdout",
     "output_type": "stream",
     "text": [
      "\n",
      "Resultados de la Regresión:\n",
      "                            OLS Regression Results                            \n",
      "==============================================================================\n",
      "Dep. Variable:                lsalary   R-squared:                       0.842\n",
      "Model:                            OLS   Adj. R-squared:                  0.836\n",
      "Method:                 Least Squares   F-statistic:                     138.2\n",
      "Date:                Mon, 11 Nov 2024   Prob (F-statistic):           2.93e-50\n",
      "Time:                        18:28:35   Log-Likelihood:                 107.33\n",
      "No. Observations:                 136   AIC:                            -202.7\n",
      "Df Residuals:                     130   BIC:                            -185.2\n",
      "Df Model:                           5                                         \n",
      "Covariance Type:            nonrobust                                         \n",
      "==============================================================================\n",
      "                 coef    std err          t      P>|t|      [0.025      0.975]\n",
      "------------------------------------------------------------------------------\n",
      "Intercept      8.3432      0.533     15.667      0.000       7.290       9.397\n",
      "LSAT           0.0047      0.004      1.171      0.244      -0.003       0.013\n",
      "GPA            0.2475      0.090      2.749      0.007       0.069       0.426\n",
      "llibvol        0.0950      0.033      2.857      0.005       0.029       0.161\n",
      "lcost          0.0376      0.032      1.170      0.244      -0.026       0.101\n",
      "rank          -0.0033      0.000     -9.541      0.000      -0.004      -0.003\n",
      "==============================================================================\n",
      "Omnibus:                        0.198   Durbin-Watson:                   1.706\n",
      "Prob(Omnibus):                  0.906   Jarque-Bera (JB):                0.365\n",
      "Skew:                           0.037   Prob(JB):                        0.833\n",
      "Kurtosis:                       2.757   Cond. No.                     9.89e+03\n",
      "==============================================================================\n",
      "\n",
      "Notes:\n",
      "[1] Standard Errors assume that the covariance matrix of the errors is correctly specified.\n",
      "[2] The condition number is large, 9.89e+03. This might indicate that there are\n",
      "strong multicollinearity or other numerical problems.\n"
     ]
    }
   ],
   "source": [
    "modelo = ols('lsalary ~ LSAT + GPA + llibvol + lcost + rank', data=data)\n",
    "\n",
    "resultados = modelo.fit()\n",
    "\n",
    "\n",
    "print(\"\\nResultados de la Regresión:\")\n",
    "print(resultados.summary())"
   ]
  },
  {
   "cell_type": "markdown",
   "metadata": {},
   "source": [
    "(i)state and test the null hypothesis \n",
    "that the rank of law schools has no ceteris paribus effect on median starting salary.\n",
    "\n",
    "H0: Brank = 0\n",
    "\n",
    "the t statistic of rank is -9.541, which indicates that the rank of the school has a statistically significant effect on salary.The effect is low when compared to other variables. As it is a log-level relationship, each ranking point is equal to .33% in a change in the salary.\n",
    "\n",
    "(ii) Are features of the incoming class of students—namely, LSAT and GPA—\n",
    "individually or jointly significant for explaining salary? (Be sure to account for \n",
    "missing data on LSAT and GPA.)\n",
    "\n",
    "Lsat doesn't seem to have individual significancy. To evaluate joint significance, one may use the F test to evaluate this."
   ]
  },
  {
   "cell_type": "code",
   "execution_count": 33,
   "metadata": {},
   "outputs": [
    {
     "name": "stdout",
     "output_type": "stream",
     "text": [
      "Sample size: 136.0\n",
      "\n",
      "F-statistic: 9.9518\n",
      "p-value: 0.0001\n"
     ]
    }
   ],
   "source": [
    "import wooldridge as woo\n",
    "import numpy as np\n",
    "from statsmodels.formula.api import ols\n",
    "import scipy.stats as stats\n",
    "\n",
    "# Load and clean data\n",
    "data = woo.data('lawsch85')\n",
    "data_clean = data.dropna(subset=['LSAT', 'GPA', 'lsalary', 'llibvol', 'lcost', 'rank'])\n",
    "\n",
    "# Estimate models\n",
    "full_model = ols('lsalary ~ LSAT + GPA + llibvol + lcost + rank', data=data_clean).fit()\n",
    "restricted_model = ols('lsalary ~ llibvol + lcost + rank', data=data_clean).fit()\n",
    "\n",
    "# F-test for joint significance\n",
    "n = full_model.nobs\n",
    "k_full = full_model.df_model\n",
    "k_restricted = restricted_model.df_model\n",
    "q = k_full - k_restricted  # number of restrictions\n",
    "\n",
    "F = ((full_model.rsquared - restricted_model.rsquared) / q) / \\\n",
    "    ((1 - full_model.rsquared) / (n - k_full - 1))\n",
    "p_value = 1 - stats.f.cdf(F, q, n - k_full - 1)\n",
    "\n",
    "# Print results\n",
    "print(f\"Sample size: {n}\")\n",
    "print(f\"\\nF-statistic: {F:.4f}\")\n",
    "print(f\"p-value: {p_value:.4f}\")"
   ]
  },
  {
   "cell_type": "markdown",
   "metadata": {},
   "source": [
    "Both are jointly significant.\n",
    "\n",
    "(iii) Test whether the size of the entering class (clsize) or the size of the faculty \n",
    "( faculty) needs to be added to this equation; carry out a single test. (Be careful to \n",
    "account for missing data on clsize and faculty.)\n",
    "\n",
    "H0 : Bclsize, Bfaculty = 0\n",
    "H1 : Bclsize, Bfaculty =/ 0\n",
    "\n"
   ]
  },
  {
   "cell_type": "code",
   "execution_count": 36,
   "metadata": {},
   "outputs": [
    {
     "name": "stdout",
     "output_type": "stream",
     "text": [
      "Sample size: 131.0\n",
      "\n",
      "F-test for joint significance of class size and faculty:\n",
      "F-statistic: 0.9484\n",
      "p-value: 0.3902\n",
      "\n",
      "Coefficients for added variables:\n",
      "Variable    Coefficient    Std Error     t-stat    p-value\n",
      "-------------------------------------------------------\n",
      "clsize           0.0001       0.0002     0.8741     0.3838\n",
      "faculty          0.0001       0.0004     0.1687     0.8663\n"
     ]
    }
   ],
   "source": [
    "import wooldridge as woo\n",
    "from statsmodels.formula.api import ols\n",
    "import scipy.stats as stats\n",
    "\n",
    "# Load and clean data\n",
    "data = woo.data('lawsch85')\n",
    "data_clean = data.dropna(subset=['LSAT', 'GPA', 'lsalary', 'llibvol', 'lcost', 'rank', 'clsize', 'faculty'])\n",
    "\n",
    "# Extended model\n",
    "extended_model = ols('lsalary ~ LSAT + GPA + llibvol + lcost + rank + clsize + faculty', \n",
    "                    data=data_clean).fit()\n",
    "\n",
    "# Base model\n",
    "base_model = ols('lsalary ~ LSAT + GPA + llibvol + lcost + rank', \n",
    "                data=data_clean).fit()\n",
    "\n",
    "# F-test\n",
    "n = base_model.nobs\n",
    "k_extended = extended_model.df_model\n",
    "k_base = base_model.df_model\n",
    "q = k_extended - k_base\n",
    "\n",
    "F = ((extended_model.rsquared - base_model.rsquared) / q) / \\\n",
    "    ((1 - extended_model.rsquared) / (n - k_extended - 1))\n",
    "p_value = 1 - stats.f.cdf(F, q, n - k_extended - 1)\n",
    "\n",
    "# Print results\n",
    "print(f\"Sample size: {n}\")\n",
    "print(f\"\\nF-test for joint significance of class size and faculty:\")\n",
    "print(f\"F-statistic: {F:.4f}\")\n",
    "print(f\"p-value: {p_value:.4f}\")\n",
    "\n",
    "print(\"\\nCoefficients for added variables:\")\n",
    "print(f\"{'Variable':<10} {'Coefficient':>12} {'Std Error':>12} {'t-stat':>10} {'p-value':>10}\")\n",
    "print(\"-\" * 55)\n",
    "print(f\"{'clsize':<10} {extended_model.params['clsize']:12.4f} \"\n",
    "      f\"{extended_model.bse['clsize']:12.4f} \"\n",
    "      f\"{(extended_model.params['clsize']/extended_model.bse['clsize']):10.4f} \"\n",
    "      f\"{extended_model.pvalues['clsize']:10.4f}\")\n",
    "print(f\"{'faculty':<10} {extended_model.params['faculty']:12.4f} \"\n",
    "      f\"{extended_model.bse['faculty']:12.4f} \"\n",
    "      f\"{(extended_model.params['faculty']/extended_model.bse['faculty']):10.4f} \"\n",
    "      f\"{extended_model.pvalues['faculty']:10.4f}\")"
   ]
  },
  {
   "cell_type": "markdown",
   "metadata": {},
   "source": [
    "The F statistic is .9484 and the p-value is .3902\n",
    "There is very little evidence that adding clsize and faculty will improve the model, so we fail to reject H0\n"
   ]
  },
  {
   "cell_type": "markdown",
   "metadata": {},
   "source": [
    "(iv) What factors might influence the rank of the law school that are not included in the model?\n",
    "\n",
    "- Bar passage rate\n",
    "- Student acceptance ratio\n",
    "- Number and quality of academic papers\n",
    "- Ratio of employment after graduation"
   ]
  },
  {
   "cell_type": "markdown",
   "metadata": {},
   "source": [
    "## C3"
   ]
  },
  {
   "cell_type": "markdown",
   "metadata": {},
   "source": [
    "Use the log of the housing price as the \n",
    "dependent variable:\n",
    "log(price) = b0 + b1sqrft + b2bdrms + u.\n",
    "(i) You are interested in estimating and obtaining a confidence interval for the percent\u0002age change in price when a 150-square-foot bedroom is added to a house. In decimal \n",
    "form, this is θ = 150b1 + b2. Use the data in HPRICE1.RAW to estimate θ."
   ]
  },
  {
   "cell_type": "code",
   "execution_count": 1,
   "metadata": {},
   "outputs": [
    {
     "name": "stdout",
     "output_type": "stream",
     "text": [
      "Index(['price', 'assess', 'bdrms', 'lotsize', 'sqrft', 'colonial', 'lprice',\n",
      "       'lassess', 'llotsize', 'lsqrft'],\n",
      "      dtype='object')\n"
     ]
    }
   ],
   "source": [
    "import wooldridge\n",
    "import pandas as pd\n",
    "import numpy as np\n",
    "from scipy import stats\n",
    "import matplotlib.pyplot as plt\n",
    "import seaborn as sns\n",
    "import statsmodels.api as sm\n",
    "\n",
    "from statsmodels.formula.api import ols\n",
    "\n",
    "data = wooldridge.data('hprice1')\n",
    "\n",
    "print (data.columns)"
   ]
  },
  {
   "cell_type": "code",
   "execution_count": 3,
   "metadata": {},
   "outputs": [],
   "source": [
    "\n",
    "model = ols('lprice ~ sqrft + bdrms', data=data).fit()\n",
    "\n",
    "beta1 = model.params['sqrft']\n",
    "beta2 = model.params['bdrms']\n",
    "\n",
    "# Theta 1 which represents a new bedroom of 150 sqrft\n",
    "theta1 = 150 * beta1 + beta2\n",
    "\n",
    "# Covariance matrix\n",
    "vcov = model.cov_params()\n",
    "\n",
    "# Standard error of theta1\n",
    "var_theta1 = (150**2 * vcov.loc['sqrft', 'sqrft'] +\n",
    "              vcov.loc['bdrms', 'bdrms'] +\n",
    "              2 * 150 * vcov.loc['sqrft', 'bdrms'])\n",
    "se_theta1 = np.sqrt(var_theta1)\n"
   ]
  },
  {
   "cell_type": "code",
   "execution_count": 4,
   "metadata": {},
   "outputs": [
    {
     "name": "stdout",
     "output_type": "stream",
     "text": [
      "\n",
      "Resultados del Análisis:\n",
      "========================\n",
      "                 Métrica    Valor\n",
      "   θ₁ (efecto combinado) 0.085801\n",
      "          Error Estándar 0.026768\n",
      "IC 95% - Límite Inferior 0.032580\n",
      "IC 95% - Límite Superior 0.139022\n",
      "       Efecto Porcentual 8.958985\n"
     ]
    }
   ],
   "source": [
    "# Confidence interval of price when theta1 (a 150 ft room) is added \n",
    "degrees_of_freedom = model.df_resid\n",
    "t_critical = stats.t.ppf(0.975, degrees_of_freedom)\n",
    "ci_lower = theta1 - t_critical * se_theta1\n",
    "ci_upper = theta1 + t_critical * se_theta1\n",
    "\n",
    "# Dataframe with the results\n",
    "\n",
    "results_df = pd.DataFrame({\n",
    "    'Métrica': ['θ₁ (efecto combinado)', \n",
    "                'Error Estándar', \n",
    "                'IC 95% - Límite Inferior',\n",
    "                'IC 95% - Límite Superior',\n",
    "                'Efecto Porcentual'],\n",
    "    'Valor': [theta1, \n",
    "              se_theta1, \n",
    "              ci_lower, \n",
    "              ci_upper,\n",
    "              (np.exp(theta1) - 1) * 100]  # Conversión a cambio porcentual exacto\n",
    "})\n",
    "\n",
    "print(\"\\nResultados del Análisis:\")\n",
    "print(\"========================\")\n",
    "print(results_df.to_string(index=False))\n"
   ]
  },
  {
   "cell_type": "code",
   "execution_count": 7,
   "metadata": {},
   "outputs": [
    {
     "name": "stdout",
     "output_type": "stream",
     "text": [
      "\n",
      "Estadísticas del Modelo:\n",
      "=======================\n",
      "R² ajustado: 0.5786\n",
      "Estadístico F: 60.73\n",
      "Valor p (F): 4.1679e-17\n"
     ]
    }
   ],
   "source": [
    "# Imprimir estadísticas adicionales del modelo\n",
    "print(\"\\nEstadísticas del Modelo:\")\n",
    "print(\"=======================\")\n",
    "print(f\"R² ajustado: {model.rsquared_adj:.4f}\")\n",
    "print(f\"Estadístico F: {model.fvalue:.2f}\")\n",
    "print(f\"Valor p (F): {model.f_pvalue:.4e}\")\n"
   ]
  },
  {
   "cell_type": "code",
   "execution_count": 9,
   "metadata": {},
   "outputs": [
    {
     "name": "stdout",
     "output_type": "stream",
     "text": [
      "\n",
      "Coeficientes Individuales:\n",
      "==============================================================================\n",
      "                 coef    std err          t      P>|t|      [0.025      0.975]\n",
      "------------------------------------------------------------------------------\n",
      "Intercept      4.7660      0.097     49.112      0.000       4.573       4.959\n",
      "sqrft          0.0004   4.32e-05      8.781      0.000       0.000       0.000\n",
      "bdrms          0.0289      0.030      0.974      0.333      -0.030       0.088\n",
      "==============================================================================\n"
     ]
    }
   ],
   "source": [
    "\n",
    "# Imprimir los coeficientes individuales y sus estadísticas\n",
    "print(\"\\nCoeficientes Individuales:\")\n",
    "print(model.summary().tables[1])"
   ]
  },
  {
   "cell_type": "markdown",
   "metadata": {},
   "source": [
    "## C4\n",
    "\n",
    "This exercise asks to compute an F statistic to determine if parents' education are statistically significant on an incomplete dataset, so that we can compare the results of when it is computed on the data that is complete.\n",
    "\n",
    "The unrestricted model is bwght = β₀ + β₁cigs + β₂parity + β₃faminc + β₄motheduc + β₅fatheduc + u\n",
    "\n",
    "The sample size is 1388, of which only 1191 where used.  R² unrestricted: 0.0387. R² restricted: 0.0364. F: 1.42, mother and father education are statistically insignificant.\n",
    "\n",
    "Next, we compute the same on the whole dataset, ignoring that there are missing values."
   ]
  },
  {
   "cell_type": "code",
   "execution_count": 10,
   "metadata": {},
   "outputs": [
    {
     "name": "stdout",
     "output_type": "stream",
     "text": [
      "Número total de observaciones en el dataset: 1388\n",
      "\n",
      "Observaciones disponibles por variable:\n",
      "bwght: 1388 observaciones válidas\n",
      "cigs: 1388 observaciones válidas\n",
      "parity: 1388 observaciones válidas\n",
      "faminc: 1388 observaciones válidas\n",
      "\n",
      "Resultados:\n",
      "Observaciones usadas en Example 4.9 (con datos completos): 1191\n",
      "R² reportado en Example 4.9 (1,191 obs): 0.0364\n",
      "R² calculado con las mismas 1,191 obs: 0.0364\n",
      "\n",
      "Observaciones usadas en modelo restringido (ejercicio C4): 1388\n",
      "R² del modelo restringido (usando todas las obs válidas): 0.0348\n"
     ]
    }
   ],
   "source": [
    "import wooldridge\n",
    "import pandas as pd\n",
    "import numpy as np\n",
    "from scipy import stats\n",
    "\n",
    "# Cargar los datos\n",
    "data = wooldridge.data('bwght')\n",
    "\n",
    "# Verificar el número total de observaciones\n",
    "print(f\"Número total de observaciones en el dataset: {len(data)}\")\n",
    "\n",
    "# 1. Modelo restringido usando todas las observaciones válidas para bwght, cigs, parity, faminc\n",
    "# Primero veamos cuántas observaciones tenemos para cada variable\n",
    "print(\"\\nObservaciones disponibles por variable:\")\n",
    "for col in ['bwght', 'cigs', 'parity', 'faminc']:\n",
    "    print(f\"{col}: {data[col].count()} observaciones válidas\")\n",
    "\n",
    "# Ahora seleccionamos solo las variables necesarias para el modelo restringido\n",
    "X_vars = ['cigs', 'parity', 'faminc']\n",
    "mask = data[['bwght'] + X_vars].notna().all(axis=1)\n",
    "model_restricted_full = data[mask]\n",
    "\n",
    "X_restricted_full = model_restricted_full[X_vars]\n",
    "y_full = model_restricted_full['bwght']\n",
    "\n",
    "# Añadir constante\n",
    "X_restricted_full = pd.concat([pd.Series(1, index=X_restricted_full.index, name='const'), \n",
    "                             X_restricted_full], axis=1)\n",
    "\n",
    "# Calcular beta usando OLS\n",
    "beta_restricted_full = np.linalg.inv(X_restricted_full.T @ X_restricted_full) @ (X_restricted_full.T @ y_full)\n",
    "\n",
    "# Calcular valores ajustados y R² para modelo restringido con todas las observaciones válidas\n",
    "y_hat_restricted_full = X_restricted_full @ beta_restricted_full\n",
    "mean_y_full = np.mean(y_full)\n",
    "r2_restricted_full = 1 - (np.sum((y_full - y_hat_restricted_full)**2) / \n",
    "                         np.sum((y_full - mean_y_full)**2))\n",
    "\n",
    "# 2. Modelo restringido usando solo las 1,191 observaciones (del Example 4.9)\n",
    "mask_complete = data[['bwght', 'cigs', 'parity', 'faminc', 'motheduc', 'fatheduc']].notna().all(axis=1)\n",
    "model_complete = data[mask_complete]\n",
    "X_restricted = model_complete[X_vars]\n",
    "y = model_complete['bwght']\n",
    "\n",
    "# Añadir constante\n",
    "X_restricted = pd.concat([pd.Series(1, index=X_restricted.index, name='const'), \n",
    "                         X_restricted], axis=1)\n",
    "\n",
    "# Calcular beta usando OLS\n",
    "beta_restricted = np.linalg.inv(X_restricted.T @ X_restricted) @ (X_restricted.T @ y)\n",
    "\n",
    "# Calcular valores ajustados y R² para modelo restringido\n",
    "y_hat_restricted = X_restricted @ beta_restricted\n",
    "mean_y = np.mean(y)\n",
    "r2_restricted = 1 - (np.sum((y - y_hat_restricted)**2) / \n",
    "                     np.sum((y - mean_y)**2))\n",
    "\n",
    "print(\"\\nResultados:\")\n",
    "print(f\"Observaciones usadas en Example 4.9 (con datos completos): {len(model_complete)}\")\n",
    "print(f\"R² reportado en Example 4.9 (1,191 obs): 0.0364\")\n",
    "print(f\"R² calculado con las mismas 1,191 obs: {r2_restricted:.4f}\")\n",
    "print(f\"\\nObservaciones usadas en modelo restringido (ejercicio C4): {len(model_restricted_full)}\")\n",
    "print(f\"R² del modelo restringido (usando todas las obs válidas): {r2_restricted_full:.4f}\")"
   ]
  },
  {
   "cell_type": "markdown",
   "metadata": {},
   "source": [
    "R² is slightly lower when we use all the available samples. "
   ]
  },
  {
   "cell_type": "markdown",
   "metadata": {},
   "source": [
    "## C5\n",
    "\n",
    "\n",
    "Starting from the following equation:\n",
    "```log(salary) = 11.19 + 0.0689 years + 0.0126 gamesyr + 0.00098 bavg + 0.0144 hrunsyr + 0.0108 rbisyr```\n",
    "\n",
    "We will analyze:\n",
    "1. The effect of omitting rbisyr over the coefficient of hrunsyr\n",
    "2. The impact of including runsyr, fldperc y sbasesyr to the model\n",
    "3. The joint significance of bavg, fldperc y sbasesyr.\n",
    "\n",
    "Dataset: MLB1.RAW, Wooldridge"
   ]
  },
  {
   "cell_type": "code",
   "execution_count": 11,
   "metadata": {},
   "outputs": [
    {
     "name": "stdout",
     "output_type": "stream",
     "text": [
      "Index(['salary', 'teamsal', 'nl', 'years', 'games', 'atbats', 'runs', 'hits',\n",
      "       'doubles', 'triples', 'hruns', 'rbis', 'bavg', 'bb', 'so', 'sbases',\n",
      "       'fldperc', 'frstbase', 'scndbase', 'shrtstop', 'thrdbase', 'outfield',\n",
      "       'catcher', 'yrsallst', 'hispan', 'black', 'whitepop', 'blackpop',\n",
      "       'hisppop', 'pcinc', 'gamesyr', 'hrunsyr', 'atbatsyr', 'allstar',\n",
      "       'slugavg', 'rbisyr', 'sbasesyr', 'runsyr', 'percwhte', 'percblck',\n",
      "       'perchisp', 'blckpb', 'hispph', 'whtepw', 'blckph', 'hisppb',\n",
      "       'lsalary'],\n",
      "      dtype='object')\n"
     ]
    }
   ],
   "source": [
    "import wooldridge as woo\n",
    "import numpy as np\n",
    "import pandas as pd\n",
    "import statsmodels.api as sm\n",
    "from statsmodels.stats.outliers_influence import variance_inflation_factor\n",
    "from scipy import stats\n",
    "\n",
    "# Cargar los datos\n",
    "mlb = woo.data('mlb1')\n",
    "\n",
    "print(mlb.columns)\n"
   ]
  },
  {
   "cell_type": "code",
   "execution_count": 12,
   "metadata": {},
   "outputs": [],
   "source": [
    "# Original model\n",
    "X_orig = sm.add_constant(mlb[['years', 'gamesyr', 'bavg', 'hrunsyr', 'rbisyr']])\n",
    "y = mlb['lsalary']\n",
    "\n",
    "modelo_original = sm.OLS(y, X_orig).fit()"
   ]
  },
  {
   "cell_type": "code",
   "execution_count": 13,
   "metadata": {},
   "outputs": [],
   "source": [
    "# (i) model without rbisyr\n",
    "X_sin_rbi = sm.add_constant(mlb[['years', 'gamesyr', 'bavg', 'hrunsyr']])\n",
    "modelo_sin_rbi = sm.OLS(y, X_sin_rbi).fit()"
   ]
  },
  {
   "cell_type": "code",
   "execution_count": 14,
   "metadata": {},
   "outputs": [],
   "source": [
    "# Model with additional vars\n",
    "X_completo = sm.add_constant(mlb[['years', 'gamesyr', 'bavg', 'hrunsyr', 'runsyr', 'fldperc', 'sbasesyr']])\n",
    "\n",
    "modelo_completo = sm.OLS(y, X_completo).fit()"
   ]
  },
  {
   "cell_type": "code",
   "execution_count": 15,
   "metadata": {},
   "outputs": [],
   "source": [
    "def print_results_comparison():\n",
    "    print(\"=== Comparación de Modelos ===\\n\")\n",
    "    \n",
    "    # Resultados del modelo original\n",
    "    print(\"Modelo Original (ecuación 4.31):\")\n",
    "    print(modelo_original.summary().tables[1])\n",
    "    print(\"\\nR-cuadrado:\", round(modelo_original.rsquared, 4))\n",
    "    print(\"\\n\" + \"=\"*50 + \"\\n\")\n",
    "    \n",
    "    # Resultados del modelo sin rbisyr\n",
    "    print(\"Modelo sin rbisyr:\")\n",
    "    print(modelo_sin_rbi.summary().tables[1])\n",
    "    print(\"\\nR-cuadrado:\", round(modelo_sin_rbi.rsquared, 4))\n",
    "    print(\"\\n\" + \"=\"*50 + \"\\n\")\n",
    "    \n",
    "    # Resultados del modelo completo\n",
    "    print(\"Modelo Completo (con variables adicionales):\")\n",
    "    print(modelo_completo.summary().tables[1])\n",
    "    print(\"\\nR-cuadrado:\", round(modelo_completo.rsquared, 4))"
   ]
  },
  {
   "cell_type": "code",
   "execution_count": 16,
   "metadata": {},
   "outputs": [],
   "source": [
    "def test_joint_significance():\n",
    "    # Prueba F para la significancia conjunta de bavg, fldperc y sbasesyr\n",
    "    # Crear modelos restringido y no restringido\n",
    "    variables_restriccion = ['bavg', 'fldperc', 'sbasesyr']\n",
    "    variables_base = ['years', 'gamesyr', 'hrunsyr', 'runsyr']\n",
    "    \n",
    "    # Modelo no restringido (completo)\n",
    "    X_no_restringido = sm.add_constant(mlb[variables_base + variables_restriccion])\n",
    "    modelo_no_restringido = sm.OLS(y, X_no_restringido).fit()\n",
    "    \n",
    "    # Modelo restringido (sin las variables a probar)\n",
    "    X_restringido = sm.add_constant(mlb[variables_base])\n",
    "    modelo_restringido = sm.OLS(y, X_restringido).fit()\n",
    "    \n",
    "    # Calcular estadístico F\n",
    "    n = len(y)\n",
    "    k_no_restringido = len(X_no_restringido.columns)\n",
    "    k_restringido = len(X_restringido.columns)\n",
    "    q = k_no_restringido - k_restringido\n",
    "    \n",
    "    F_stat = ((modelo_restringido.ssr - modelo_no_restringido.ssr) / q) / \\\n",
    "             (modelo_no_restringido.ssr / (n - k_no_restringido))\n",
    "    \n",
    "    p_value = 1 - stats.f.cdf(F_stat, q, n - k_no_restringido)\n",
    "    \n",
    "    print(\"\\n=== Prueba F de Significancia Conjunta ===\")\n",
    "    print(f\"Variables probadas: {', '.join(variables_restriccion)}\")\n",
    "    print(f\"Estadístico F: {F_stat:.4f}\")\n",
    "    print(f\"Valor p: {p_value:.4f}\")\n",
    "    print(f\"Grados de libertad: ({q}, {n - k_no_restringido})\")"
   ]
  },
  {
   "cell_type": "code",
   "execution_count": 17,
   "metadata": {},
   "outputs": [
    {
     "name": "stdout",
     "output_type": "stream",
     "text": [
      "=== Comparación de Modelos ===\n",
      "\n",
      "Modelo Original (ecuación 4.31):\n",
      "==============================================================================\n",
      "                 coef    std err          t      P>|t|      [0.025      0.975]\n",
      "------------------------------------------------------------------------------\n",
      "const         11.1924      0.289     38.752      0.000      10.624      11.760\n",
      "years          0.0689      0.012      5.684      0.000       0.045       0.093\n",
      "gamesyr        0.0126      0.003      4.742      0.000       0.007       0.018\n",
      "bavg           0.0010      0.001      0.887      0.376      -0.001       0.003\n",
      "hrunsyr        0.0144      0.016      0.899      0.369      -0.017       0.046\n",
      "rbisyr         0.0108      0.007      1.500      0.134      -0.003       0.025\n",
      "==============================================================================\n",
      "\n",
      "R-cuadrado: 0.6278\n",
      "\n",
      "==================================================\n",
      "\n",
      "Modelo sin rbisyr:\n",
      "==============================================================================\n",
      "                 coef    std err          t      P>|t|      [0.025      0.975]\n",
      "------------------------------------------------------------------------------\n",
      "const         11.0209      0.266     41.476      0.000      10.498      11.544\n",
      "years          0.0677      0.012      5.592      0.000       0.044       0.092\n",
      "gamesyr        0.0158      0.002     10.079      0.000       0.013       0.019\n",
      "bavg           0.0014      0.001      1.331      0.184      -0.001       0.004\n",
      "hrunsyr        0.0359      0.007      4.964      0.000       0.022       0.050\n",
      "==============================================================================\n",
      "\n",
      "R-cuadrado: 0.6254\n",
      "\n",
      "==================================================\n",
      "\n",
      "Modelo Completo (con variables adicionales):\n",
      "==============================================================================\n",
      "                 coef    std err          t      P>|t|      [0.025      0.975]\n",
      "------------------------------------------------------------------------------\n",
      "const         10.4083      2.003      5.196      0.000       6.468      14.348\n",
      "years          0.0700      0.012      5.844      0.000       0.046       0.094\n",
      "gamesyr        0.0079      0.003      2.950      0.003       0.003       0.013\n",
      "bavg           0.0005      0.001      0.480      0.632      -0.002       0.003\n",
      "hrunsyr        0.0232      0.009      2.687      0.008       0.006       0.040\n",
      "runsyr         0.0174      0.005      3.434      0.001       0.007       0.027\n",
      "fldperc        0.0010      0.002      0.516      0.606      -0.003       0.005\n",
      "sbasesyr      -0.0064      0.005     -1.238      0.216      -0.017       0.004\n",
      "==============================================================================\n",
      "\n",
      "R-cuadrado: 0.639\n",
      "\n",
      "=== Prueba F de Significancia Conjunta ===\n",
      "Variables probadas: bavg, fldperc, sbasesyr\n",
      "Estadístico F: 0.6850\n",
      "Valor p: 0.5617\n",
      "Grados de libertad: (3, 345)\n"
     ]
    }
   ],
   "source": [
    "print_results_comparison()\n",
    "test_joint_significance()"
   ]
  },
  {
   "cell_type": "markdown",
   "metadata": {},
   "source": [
    "Hrunsyr increased its t value from 0.899 to 4.964, becoming highly significant. This is likely due to a multicolineality problem, which is logic as home runs will always result in at least 1 Run Batted in.\n",
    "\n",
    "Since Runs batted in depend so much on other variables, and R² barely changed, one can conclude that rbisyr and hrunsyr capture similar information. \n",
    "\n",
    "runsyr, fldperc and sbasesyr have the following coefficients:0.0174, 0.0010 and -0.0064, with respective t statistics of 3.43, 0.516 and -1.238. Runsyr seems to be significant, but one might have doubts about bavg, fldperc and sbasesyr. The joint significance of  bavg, fldperc and sbasesyr variables are very low, with an f statistic of 0.685 and a p value of .5617, which means that there is not enough evidence that they are providing jointly any information to the model, and should be removed."
   ]
  },
  {
   "cell_type": "markdown",
   "metadata": {},
   "source": [
    "## C6\n",
    "\n",
    "Using the data from WAGE2, estimate a log-level equation of salaries. Prove if general experience has the same effect as an extra year of remaining with the present employer. \n",
    "\n",
    "h0: β₂ = β₃\n",
    "H₁: β₂ ≠ β₃\n",
    "\n",
    "Significance: 5%\n",
    "Confidence interval: 95%"
   ]
  },
  {
   "cell_type": "code",
   "execution_count": 18,
   "metadata": {},
   "outputs": [],
   "source": [
    "import pandas as pd\n",
    "import numpy as np\n",
    "import statsmodels.api as sm\n",
    "from wooldridge import data\n",
    "import matplotlib.pyplot as plt\n",
    "import seaborn as sns\n",
    "from statsmodels.stats.outliers_influence import variance_inflation_factor\n",
    "\n",
    "# Cargar los datos\n",
    "df = data('wage2')"
   ]
  },
  {
   "cell_type": "code",
   "execution_count": 20,
   "metadata": {},
   "outputs": [],
   "source": [
    "X = df[['educ', 'exper', 'tenure']]\n",
    "X = sm.add_constant(X)\n",
    "y = df['lwage']\n",
    "\n",
    "modelo = sm.OLS(y, X).fit()"
   ]
  },
  {
   "cell_type": "code",
   "execution_count": 24,
   "metadata": {},
   "outputs": [
    {
     "name": "stdout",
     "output_type": "stream",
     "text": [
      "\n",
      "Resultados del Modelo de Regresión:\n",
      "===================================\n",
      "                            OLS Regression Results                            \n",
      "==============================================================================\n",
      "Dep. Variable:                  lwage   R-squared:                       0.155\n",
      "Model:                            OLS   Adj. R-squared:                  0.152\n",
      "Method:                 Least Squares   F-statistic:                     56.97\n",
      "Date:                Tue, 12 Nov 2024   Prob (F-statistic):           8.12e-34\n",
      "Time:                        17:48:47   Log-Likelihood:                -438.84\n",
      "No. Observations:                 935   AIC:                             885.7\n",
      "Df Residuals:                     931   BIC:                             905.0\n",
      "Df Model:                           3                                         \n",
      "Covariance Type:            nonrobust                                         \n",
      "==============================================================================\n",
      "                 coef    std err          t      P>|t|      [0.025      0.975]\n",
      "------------------------------------------------------------------------------\n",
      "const          5.4967      0.111     49.731      0.000       5.280       5.714\n",
      "educ           0.0749      0.007     11.495      0.000       0.062       0.088\n",
      "exper          0.0153      0.003      4.549      0.000       0.009       0.022\n",
      "tenure         0.0134      0.003      5.170      0.000       0.008       0.018\n",
      "==============================================================================\n",
      "Omnibus:                       20.917   Durbin-Watson:                   1.769\n",
      "Prob(Omnibus):                  0.000   Jarque-Bera (JB):               30.558\n",
      "Skew:                          -0.214   Prob(JB):                     2.31e-07\n",
      "Kurtosis:                       3.775   Cond. No.                         170.\n",
      "==============================================================================\n",
      "\n",
      "Notes:\n",
      "[1] Standard Errors assume that the covariance matrix of the errors is correctly specified.\n",
      "\n",
      "Factores de Inflación de Varianza (VIF):\n",
      "=========================================\n",
      "\n",
      "Pruebas de Diagnóstico:\n",
      "======================\n",
      "R-cuadrado: 0.1551\n",
      "R-cuadrado ajustado: 0.1524\n",
      "Estadístico F: 56.9739\n",
      "Prob (F-statistic): 0.0000\n",
      "\n",
      "Interpretación de los Coeficientes:\n",
      "==================================\n",
      "\n",
      "educ: Un aumento de 1 año en educ está asociado con un cambio de 7.77% en el salario, manteniendo las otras variables constantes\n",
      "\n",
      "exper: Un aumento de 1 año en exper está asociado con un cambio de 1.54% en el salario, manteniendo las otras variables constantes\n",
      "\n",
      "tenure: Un aumento de 1 año en tenure está asociado con un cambio de 1.35% en el salario, manteniendo las otras variables constantes\n"
     ]
    }
   ],
   "source": [
    "# Imprimir resultados\n",
    "print(\"\\nResultados del Modelo de Regresión:\")\n",
    "print(\"===================================\")\n",
    "print(modelo.summary())\n",
    "print(\"\\nFactores de Inflación de Varianza (VIF):\")\n",
    "print(\"=========================================\")\n",
    "\n",
    "# Pruebas adicionales de diagnóstico\n",
    "print(\"\\nPruebas de Diagnóstico:\")\n",
    "print(\"======================\")\n",
    "print(f\"R-cuadrado: {modelo.rsquared:.4f}\")\n",
    "print(f\"R-cuadrado ajustado: {modelo.rsquared_adj:.4f}\")\n",
    "print(f\"Estadístico F: {modelo.fvalue:.4f}\")\n",
    "print(f\"Prob (F-statistic): {modelo.f_pvalue:.4f}\")\n",
    "\n",
    "# Interpretación de los coeficientes en términos porcentuales\n",
    "print(\"\\nInterpretación de los Coeficientes:\")\n",
    "print(\"==================================\")\n",
    "for var, coef in zip(X.columns, modelo.params):\n",
    "    if var != 'const':\n",
    "        print(f\"\\n{var}: Un aumento de 1 año en {var} está asociado con un cambio de {(np.exp(coef)-1)*100:.2f}% en el salario, manteniendo las otras variables constantes\")"
   ]
  },
  {
   "cell_type": "code",
   "execution_count": 25,
   "metadata": {},
   "outputs": [],
   "source": [
    "beta_exper = modelo.params['exper']\n",
    "beta_tenure = modelo.params['tenure']\n",
    "cov_matrix = modelo.cov_params()\n",
    "\n",
    "# Calcular la varianza de la diferencia\n",
    "# Var(β₂ - β₃) = Var(β₂) + Var(β₃) - 2Cov(β₂,β₃)\n",
    "\n",
    "var_diff = (cov_matrix.loc['exper', 'exper'] +\n",
    "            cov_matrix.loc['tenure', 'tenure'] -\n",
    "            2 * cov_matrix.loc['exper', 'tenure'])\n",
    "\n",
    "# Calcular estadístico t\n",
    "diff = beta_exper - beta_tenure\n",
    "se_diff = np.sqrt(var_diff)\n",
    "t_stat = diff / se_diff\n",
    "\n",
    "# Grados de libertad\n",
    "df_reg = modelo.df_resid\n",
    "\n",
    "# Valor crítico\n",
    "t_crit = stats.t.ppf(0.975, df_reg)\n",
    "p_value = 2 * (1 - stats.t.cdf(abs(t_stat), df_reg))\n",
    "\n",
    "# Intervalo de confianza\n",
    "ic_lower = diff - t_crit * se_diff\n",
    "ic_upper = diff + t_crit * se_diff"
   ]
  },
  {
   "cell_type": "code",
   "execution_count": 26,
   "metadata": {},
   "outputs": [
    {
     "name": "stdout",
     "output_type": "stream",
     "text": [
      "Prueba de Hipótesis: β_exper = β_tenure\n",
      "=======================================\n",
      "\n",
      "Coeficiente de experiencia (β_exper): 0.0153\n",
      "Coeficiente de tenure (β_tenure): 0.0134\n",
      "Diferencia (β_exper - β_tenure): 0.0020\n",
      "\n",
      "Error estándar de la diferencia: 0.0047\n",
      "Estadístico t: 0.4119\n",
      "Grados de libertad: 931.0\n",
      "Valor crítico (t_931.0,0.025): ±1.9625\n",
      "P-valor: 0.6805\n",
      "\n",
      "Intervalo de Confianza 95%\n",
      "==========================\n",
      "Límite inferior: -0.0074\n",
      "Límite superior: 0.0113\n"
     ]
    }
   ],
   "source": [
    "# Imprimir resultados\n",
    "print(\"Prueba de Hipótesis: β_exper = β_tenure\")\n",
    "print(\"=======================================\")\n",
    "print(f\"\\nCoeficiente de experiencia (β_exper): {beta_exper:.4f}\")\n",
    "print(f\"Coeficiente de tenure (β_tenure): {beta_tenure:.4f}\")\n",
    "print(f\"Diferencia (β_exper - β_tenure): {diff:.4f}\")\n",
    "print(f\"\\nError estándar de la diferencia: {se_diff:.4f}\")\n",
    "print(f\"Estadístico t: {t_stat:.4f}\")\n",
    "print(f\"Grados de libertad: {df_reg}\")\n",
    "print(f\"Valor crítico (t_{df_reg},0.025): ±{t_crit:.4f}\")\n",
    "print(f\"P-valor: {p_value:.4f}\")\n",
    "print(\"\\nIntervalo de Confianza 95%\")\n",
    "print(\"==========================\")\n",
    "print(f\"Límite inferior: {ic_lower:.4f}\")\n",
    "print(f\"Límite superior: {ic_upper:.4f}\")"
   ]
  },
  {
   "cell_type": "markdown",
   "metadata": {},
   "source": [
    "With a t value of .4119 there is not enough evidence that experience is different than tenure, so we can conclude that Bexper = Btenure"
   ]
  },
  {
   "cell_type": "markdown",
   "metadata": {},
   "source": [
    "## C7"
   ]
  },
  {
   "cell_type": "code",
   "execution_count": 31,
   "metadata": {},
   "outputs": [
    {
     "name": "stdout",
     "output_type": "stream",
     "text": [
      "Index(['female', 'phsrank', 'BA', 'AA', 'black', 'hispanic', 'id', 'exper',\n",
      "       'jc', 'univ', 'lwage', 'stotal', 'smcity', 'medcity', 'submed',\n",
      "       'lgcity', 'sublg', 'vlgcity', 'subvlg', 'ne', 'nc', 'south', 'totcoll'],\n",
      "      dtype='object')\n"
     ]
    }
   ],
   "source": [
    "import wooldridge as woo\n",
    "import pandas as pd\n",
    "import numpy as np\n",
    "from scipy import stats\n",
    "import matplotlib.pyplot as plt\n",
    "import seaborn as sns\n",
    "\n",
    "# Cargar los datos\n",
    "data = woo.data('twoyear')\n",
    "print(data.columns)\n"
   ]
  },
  {
   "cell_type": "code",
   "execution_count": 33,
   "metadata": {},
   "outputs": [
    {
     "name": "stdout",
     "output_type": "stream",
     "text": [
      "Estadísticas descriptivas para phsrank (percentil de rango en la escuela secundaria):\n",
      "                         Valor\n",
      "Mínimo                0.000000\n",
      "Máximo               99.000000\n",
      "Promedio             56.157031\n",
      "Mediana              50.000000\n",
      "Desviación estándar  24.272964\n"
     ]
    }
   ],
   "source": [
    "# Calcular estadísticas descriptivas para phsrank\n",
    "phsrank_stats = {\n",
    "    'Mínimo': data['phsrank'].min(),\n",
    "    'Máximo': data['phsrank'].max(),\n",
    "    'Promedio': data['phsrank'].mean(),\n",
    "    'Mediana': data['phsrank'].median(),\n",
    "    'Desviación estándar': data['phsrank'].std()\n",
    "}\n",
    "\n",
    "stats_df = pd.DataFrame.from_dict(phsrank_stats, orient='index', columns=['Valor'])\n",
    "print(\"Estadísticas descriptivas para phsrank (percentil de rango en la escuela secundaria):\")\n",
    "print(stats_df)\n"
   ]
  },
  {
   "cell_type": "code",
   "execution_count": 35,
   "metadata": {},
   "outputs": [
    {
     "name": "stdout",
     "output_type": "stream",
     "text": [
      "==============================================================================\n",
      "                 coef    std err          t      P>|t|      [0.025      0.975]\n",
      "------------------------------------------------------------------------------\n",
      "Intercept      1.4587      0.024     61.756      0.000       1.412       1.505\n",
      "jc             0.0662      0.007      9.671      0.000       0.053       0.080\n",
      "univ           0.0755      0.003     29.496      0.000       0.070       0.080\n",
      "exper          0.0049      0.000     31.360      0.000       0.005       0.005\n",
      "phsrank        0.0003      0.000      1.269      0.204      -0.000       0.001\n",
      "==============================================================================\n",
      "\n",
      "R-cuadrado: 0.2226\n",
      "Número de observaciones: 6763.0\n"
     ]
    }
   ],
   "source": [
    "from statsmodels.formula.api import ols\n",
    "import statsmodels.api as sm\n",
    "\n",
    "# log(wage) = β₀ + β₁jc + β₂univ + β₃exper + β₄phsrank + u\n",
    "model = ols('lwage ~ jc + univ + exper + phsrank', data=data)\n",
    "results = model.fit()\n",
    "print(results.summary().tables[1])\n",
    "\n",
    "# Calcular R-cuadrado\n",
    "print(\"\\nR-cuadrado:\", round(results.rsquared, 4))\n",
    "print(\"Número de observaciones:\", results.nobs)\n",
    "\n"
   ]
  },
  {
   "cell_type": "markdown",
   "metadata": {},
   "source": [
    "phsrank:\n",
    "\n",
    "Not statistically significant (t = 1.26)\n",
    "Increasing 10 percentile points produce a change of 0.3% in salary (.0003 × 10 × 100)\n",
    "\n",
    "Adding phsrank doesn't change the conclusions of the model without it."
   ]
  },
  {
   "cell_type": "markdown",
   "metadata": {},
   "source": [
    "## C8"
   ]
  },
  {
   "cell_type": "code",
   "execution_count": 38,
   "metadata": {},
   "outputs": [
    {
     "name": "stdout",
     "output_type": "stream",
     "text": [
      "Número de hogares unipersonales: 2017\n",
      "\n",
      "Resultados de la Regresión:\n",
      "==============================================================================\n",
      "                 coef    std err          t      P>|t|      [0.025      0.975]\n",
      "------------------------------------------------------------------------------\n",
      "Intercept    -43.0398      4.080    -10.548      0.000     -51.042     -35.038\n",
      "inc            0.7993      0.060     13.382      0.000       0.682       0.916\n",
      "age            0.8427      0.092      9.158      0.000       0.662       1.023\n",
      "==============================================================================\n",
      "\n",
      "R-cuadrado: 0.1193\n",
      "R-cuadrado ajustado: 0.1185\n",
      "\n",
      "Diagnósticos del modelo:\n",
      "Test F (p-valor): 0.0000\n",
      "Estadístico F: 136.4648\n"
     ]
    }
   ],
   "source": [
    "import pandas as pd\n",
    "import numpy as np\n",
    "import wooldridge as wd\n",
    "from statsmodels.formula.api import ols\n",
    "import statsmodels.api as sm\n",
    "\n",
    "# Cargar los datos\n",
    "data = wd.data('401ksubs')\n",
    "\n",
    "# Filtrar solo hogares unipersonales\n",
    "single_household = data[data['fsize'] == 1].copy()\n",
    "\n",
    "# (i) Número de hogares unipersonales\n",
    "n_singles = len(single_household)\n",
    "print(f\"Número de hogares unipersonales: {n_singles}\")\n",
    "\n",
    "# (ii) Estimación del modelo OLS\n",
    "# Crear el modelo\n",
    "model = ols('nettfa ~ inc + age', data=single_household)\n",
    "results = model.fit()\n",
    "\n",
    "# Imprimir resultados\n",
    "print(\"\\nResultados de la Regresión:\")\n",
    "print(results.summary().tables[1])\n",
    "\n",
    "# Calcular R-cuadrado\n",
    "r2 = results.rsquared\n",
    "r2_adj = results.rsquared_adj\n",
    "\n",
    "print(f\"\\nR-cuadrado: {r2:.4f}\")\n",
    "print(f\"R-cuadrado ajustado: {r2_adj:.4f}\")\n",
    "\n",
    "# Diagnósticos básicos\n",
    "print(\"\\nDiagnósticos del modelo:\")\n",
    "print(f\"Test F (p-valor): {results.f_pvalue:.4f}\")\n",
    "print(f\"Estadístico F: {results.fvalue:.4f}\")"
   ]
  },
  {
   "cell_type": "code",
   "execution_count": 39,
   "metadata": {},
   "outputs": [
    {
     "name": "stdout",
     "output_type": "stream",
     "text": [
      "Coeficiente de age (β₂): 0.8427\n",
      "Error estándar: 0.0920\n",
      "Estadístico t: -1.7099\n",
      "P-valor: 0.0874\n",
      "\n",
      "Comparación de coeficientes de ingreso:\n",
      "Modelo múltiple: 0.7993\n",
      "Modelo simple: 0.8207\n"
     ]
    }
   ],
   "source": [
    "# Extraer coeficiente y error estándar para age\n",
    "beta_2 = results.params['age']\n",
    "se_beta_2 = results.bse['age']\n",
    "\n",
    "# Calcular el estadístico t para H0: β₂ = 1\n",
    "t_stat = (beta_2 - 1) / se_beta_2\n",
    "\n",
    "# Calcular el p-valor (prueba de dos colas)\n",
    "p_value = 2 * (1 - stats.t.cdf(abs(t_stat), df=len(single_household)-3))\n",
    "\n",
    "print(f\"Coeficiente de age (β₂): {beta_2:.4f}\")\n",
    "print(f\"Error estándar: {se_beta_2:.4f}\")\n",
    "print(f\"Estadístico t: {t_stat:.4f}\")\n",
    "print(f\"P-valor: {p_value:.4f}\")\n",
    "\n",
    "# Comparación con regresión simple\n",
    "simple_model = ols('nettfa ~ inc', data=single_household)\n",
    "simple_results = simple_model.fit()\n",
    "\n",
    "print(\"\\nComparación de coeficientes de ingreso:\")\n",
    "print(f\"Modelo múltiple: {results.params['inc']:.4f}\")\n",
    "print(f\"Modelo simple: {simple_results.params['inc']:.4f}\")"
   ]
  },
  {
   "cell_type": "markdown",
   "metadata": {},
   "source": [
    "The intercept has no practical meaning in this problem. \n",
    "\n",
    "There is no evidence to reject that the effect on age is different than 1.\n",
    "\n",
    "The coefficient has little change over a simple regression model, which suggests low correlation between these two variables"
   ]
  },
  {
   "cell_type": "markdown",
   "metadata": {},
   "source": [
    "## C9\n",
    "\n",
    "This problem investigates if racial discrimination exists in soft drink prices at fast-food restaurants by analyzing whether the percentage of black population in a zip code significantly influences prices, while controlling for socioeconomic variables such as income, poverty rates, housing values.\n"
   ]
  },
  {
   "cell_type": "code",
   "execution_count": 41,
   "metadata": {},
   "outputs": [
    {
     "name": "stdout",
     "output_type": "stream",
     "text": [
      "Index(['psoda', 'pfries', 'pentree', 'wagest', 'nmgrs', 'nregs', 'hrsopen',\n",
      "       'emp', 'psoda2', 'pfries2', 'pentree2', 'wagest2', 'nmgrs2', 'nregs2',\n",
      "       'hrsopen2', 'emp2', 'compown', 'chain', 'density', 'crmrte', 'state',\n",
      "       'prpblck', 'prppov', 'prpncar', 'hseval', 'nstores', 'income', 'county',\n",
      "       'lpsoda', 'lpfries', 'lhseval', 'lincome', 'ldensity', 'NJ', 'BK',\n",
      "       'KFC', 'RR'],\n",
      "      dtype='object')\n"
     ]
    }
   ],
   "source": [
    "# Importamos las bibliotecas necesarias\n",
    "import wooldridge as woo\n",
    "import numpy as np\n",
    "import pandas as pd\n",
    "import statsmodels.api as sm\n",
    "from scipy import stats\n",
    "\n",
    "# Cargamos los datos\n",
    "data = woo.data('discrim')\n",
    "print (data.columns)"
   ]
  },
  {
   "cell_type": "code",
   "execution_count": 44,
   "metadata": {},
   "outputs": [
    {
     "name": "stdout",
     "output_type": "stream",
     "text": [
      "Información sobre valores faltantes antes de la limpieza:\n",
      "lpsoda     8\n",
      "prpblck    1\n",
      "lincome    1\n",
      "prppov     1\n",
      "dtype: int64\n",
      "\n",
      "Información sobre valores infinitos antes de la limpieza:\n",
      "lpsoda     0\n",
      "prpblck    0\n",
      "lincome    0\n",
      "prppov     0\n",
      "dtype: int64\n"
     ]
    }
   ],
   "source": [
    "# Verificamos valores faltantes o infinitos\n",
    "print(\"Información sobre valores faltantes antes de la limpieza:\")\n",
    "print(data[['lpsoda', 'prpblck', 'lincome', 'prppov']].isna().sum())\n",
    "print(\"\\nInformación sobre valores infinitos antes de la limpieza:\")\n",
    "print(np.isinf(data[['lpsoda', 'prpblck', 'lincome', 'prppov']]).sum())\n"
   ]
  },
  {
   "cell_type": "code",
   "execution_count": 46,
   "metadata": {},
   "outputs": [
    {
     "name": "stdout",
     "output_type": "stream",
     "text": [
      "\n",
      "Tamaño del dataset:\n",
      "Original: 410\n",
      "Después de limpiar: 401\n"
     ]
    }
   ],
   "source": [
    "variables_modelo = ['lpsoda', 'prpblck', 'lincome', 'prppov']\n",
    "data_clean = data[variables_modelo].replace([np.inf, -np.inf], np.nan).dropna()\n",
    "print(\"\\nTamaño del dataset:\")\n",
    "print(f\"Original: {len(data)}\")\n",
    "print(f\"Después de limpiar: {len(data_clean)}\")\n"
   ]
  },
  {
   "cell_type": "code",
   "execution_count": 47,
   "metadata": {},
   "outputs": [
    {
     "name": "stdout",
     "output_type": "stream",
     "text": [
      "Resultados de la Regresión:\n",
      "==========================\n",
      "                            OLS Regression Results                            \n",
      "==============================================================================\n",
      "Dep. Variable:                 lpsoda   R-squared:                       0.087\n",
      "Model:                            OLS   Adj. R-squared:                  0.080\n",
      "Method:                 Least Squares   F-statistic:                     12.60\n",
      "Date:                Tue, 12 Nov 2024   Prob (F-statistic):           6.92e-08\n",
      "Time:                        18:52:00   Log-Likelihood:                 439.04\n",
      "No. Observations:                 401   AIC:                            -870.1\n",
      "Df Residuals:                     397   BIC:                            -854.1\n",
      "Df Model:                           3                                         \n",
      "Covariance Type:            nonrobust                                         \n",
      "==============================================================================\n",
      "                 coef    std err          t      P>|t|      [0.025      0.975]\n",
      "------------------------------------------------------------------------------\n",
      "const         -1.4633      0.294     -4.982      0.000      -2.041      -0.886\n",
      "prpblck        0.0728      0.031      2.373      0.018       0.013       0.133\n",
      "lincome        0.1370      0.027      5.119      0.000       0.084       0.190\n",
      "prppov         0.3804      0.133      2.864      0.004       0.119       0.641\n",
      "==============================================================================\n",
      "Omnibus:                       12.002   Durbin-Watson:                   1.727\n",
      "Prob(Omnibus):                  0.002   Jarque-Bera (JB):               24.056\n",
      "Skew:                          -0.014   Prob(JB):                     5.97e-06\n",
      "Kurtosis:                       4.200   Cond. No.                         834.\n",
      "==============================================================================\n",
      "\n",
      "Notes:\n",
      "[1] Standard Errors assume that the covariance matrix of the errors is correctly specified.\n"
     ]
    }
   ],
   "source": [
    "\n",
    "X = data_clean[['prpblck', 'lincome', 'prppov']]\n",
    "X = sm.add_constant(X)  # Añadimos la constante\n",
    "y = data_clean['lpsoda']\n",
    "\n",
    "# Estimamos el modelo\n",
    "modelo = sm.OLS(y, X).fit()\n",
    "\n",
    "# Imprimimos los resultados\n",
    "print(\"Resultados de la Regresión:\")\n",
    "print(\"==========================\")\n",
    "print(modelo.summary())"
   ]
  },
  {
   "cell_type": "code",
   "execution_count": 48,
   "metadata": {},
   "outputs": [],
   "source": [
    "# Análisis específico del coeficiente de prpblck (β1)\n",
    "beta1 = modelo.params['prpblck']\n",
    "se_beta1 = modelo.bse['prpblck']\n",
    "t_stat = beta1 / se_beta1\n",
    "p_value = 2 * (1 - stats.t.cdf(abs(t_stat), df=modelo.df_resid))"
   ]
  },
  {
   "cell_type": "code",
   "execution_count": 49,
   "metadata": {},
   "outputs": [
    {
     "name": "stdout",
     "output_type": "stream",
     "text": [
      "\n",
      "Análisis detallado del coeficiente de prpblck (β1):\n",
      "=================================================\n",
      "Coeficiente (β1): 0.0728\n",
      "Error estándar: 0.0307\n",
      "Estadístico t: 2.3735\n",
      "Valor p: 0.0181\n"
     ]
    }
   ],
   "source": [
    "print(\"\\nAnálisis detallado del coeficiente de prpblck (β1):\")\n",
    "print(\"=================================================\")\n",
    "print(f\"Coeficiente (β1): {beta1:.4f}\")\n",
    "print(f\"Error estándar: {se_beta1:.4f}\")\n",
    "print(f\"Estadístico t: {t_stat:.4f}\")\n",
    "print(f\"Valor p: {p_value:.4f}\")"
   ]
  },
  {
   "cell_type": "code",
   "execution_count": 50,
   "metadata": {},
   "outputs": [
    {
     "name": "stdout",
     "output_type": "stream",
     "text": [
      "\n",
      "Pruebas de Significancia:\n",
      "========================\n",
      "Valor crítico al 5%: 1.9660\n",
      "Valor crítico al 1%: 2.5883\n",
      "Significativo al 5%: Sí\n",
      "Significativo al 1%: No\n"
     ]
    }
   ],
   "source": [
    "# Análisis de significancia\n",
    "alpha_5 = 0.05\n",
    "alpha_1 = 0.01\n",
    "\n",
    "print(\"\\nPruebas de Significancia:\")\n",
    "print(\"========================\")\n",
    "print(f\"Valor crítico al 5%: {stats.t.ppf(1-alpha_5/2, df=modelo.df_resid):.4f}\")\n",
    "print(f\"Valor crítico al 1%: {stats.t.ppf(1-alpha_1/2, df=modelo.df_resid):.4f}\")\n",
    "print(f\"Significativo al 5%: {'Sí' if p_value < alpha_5 else 'No'}\")\n",
    "print(f\"Significativo al 1%: {'Sí' if p_value < alpha_1 else 'No'}\")\n"
   ]
  },
  {
   "cell_type": "code",
   "execution_count": 51,
   "metadata": {},
   "outputs": [
    {
     "name": "stdout",
     "output_type": "stream",
     "text": [
      "\n",
      "Intervalos de Confianza para β1:\n",
      "===============================\n",
      "Intervalo de confianza al 95%: [0.0125, 0.1331]\n",
      "Intervalo de confianza al 99%: [-0.0066, 0.1522]\n"
     ]
    }
   ],
   "source": [
    "# Intervalos de confianza\n",
    "ci_95 = modelo.conf_int().loc['prpblck']\n",
    "ci_99 = modelo.conf_int(alpha=0.01).loc['prpblck']\n",
    "\n",
    "print(\"\\nIntervalos de Confianza para β1:\")\n",
    "print(\"===============================\")\n",
    "print(f\"Intervalo de confianza al 95%: [{ci_95[0]:.4f}, {ci_95[1]:.4f}]\")\n",
    "print(f\"Intervalo de confianza al 99%: [{ci_99[0]:.4f}, {ci_99[1]:.4f}]\")"
   ]
  },
  {
   "cell_type": "code",
   "execution_count": 52,
   "metadata": {},
   "outputs": [
    {
     "name": "stdout",
     "output_type": "stream",
     "text": [
      "Correlación entre log(income) y prppov:\n",
      "r = -0.8402\n"
     ]
    }
   ],
   "source": [
    "# Calculamos la correlación entre lincome y prppov\n",
    "correlation = data_clean['lincome'].corr(data_clean['prppov'])\n",
    "\n",
    "print(\"Correlación entre log(income) y prppov:\")\n",
    "print(f\"r = {correlation:.4f}\")"
   ]
  },
  {
   "cell_type": "code",
   "execution_count": 55,
   "metadata": {},
   "outputs": [
    {
     "name": "stdout",
     "output_type": "stream",
     "text": [
      "\n",
      "Resultados del nuevo modelo (incluyendo lhseval):\n",
      "===============================================\n",
      "                            OLS Regression Results                            \n",
      "==============================================================================\n",
      "Dep. Variable:                 lpsoda   R-squared:                       0.184\n",
      "Model:                            OLS   Adj. R-squared:                  0.176\n",
      "Method:                 Least Squares   F-statistic:                     22.31\n",
      "Date:                Tue, 12 Nov 2024   Prob (F-statistic):           1.24e-16\n",
      "Time:                        18:58:13   Log-Likelihood:                 461.55\n",
      "No. Observations:                 401   AIC:                            -913.1\n",
      "Df Residuals:                     396   BIC:                            -893.1\n",
      "Df Model:                           4                                         \n",
      "Covariance Type:            nonrobust                                         \n",
      "==============================================================================\n",
      "                 coef    std err          t      P>|t|      [0.025      0.975]\n",
      "------------------------------------------------------------------------------\n",
      "const         -0.8415      0.292     -2.878      0.004      -1.416      -0.267\n",
      "prpblck        0.0976      0.029      3.334      0.001       0.040       0.155\n",
      "lincome       -0.0530      0.038     -1.412      0.159      -0.127       0.021\n",
      "prppov         0.0521      0.134      0.388      0.699      -0.212       0.317\n",
      "lhseval        0.1213      0.018      6.860      0.000       0.087       0.156\n",
      "==============================================================================\n",
      "Omnibus:                       16.452   Durbin-Watson:                   1.973\n",
      "Prob(Omnibus):                  0.000   Jarque-Bera (JB):               40.077\n",
      "Skew:                          -0.016   Prob(JB):                     1.98e-09\n",
      "Kurtosis:                       4.548   Cond. No.                     1.31e+03\n",
      "==============================================================================\n",
      "\n",
      "Notes:\n",
      "[1] Standard Errors assume that the covariance matrix of the errors is correctly specified.\n",
      "[2] The condition number is large, 1.31e+03. This might indicate that there are\n",
      "strong multicollinearity or other numerical problems.\n"
     ]
    }
   ],
   "source": [
    "\n",
    "data_clean = data[['lpsoda', 'prpblck', 'lincome', 'prppov', 'lhseval']].replace([np.inf, -np.inf], np.nan).dropna()\n",
    "\n",
    "# Añadimos log(hseval)\n",
    "X_new = data_clean[['prpblck', 'lincome', 'prppov', 'lhseval']]\n",
    "X_new = sm.add_constant(X_new)\n",
    "y = data_clean['lpsoda']\n",
    "\n",
    "modelo_nuevo = sm.OLS(y, X_new).fit()\n",
    "\n",
    "print(\"\\nResultados del nuevo modelo (incluyendo lhseval):\")\n",
    "print(\"===============================================\")\n",
    "print(modelo_nuevo.summary())"
   ]
  },
  {
   "cell_type": "code",
   "execution_count": 56,
   "metadata": {},
   "outputs": [
    {
     "name": "stdout",
     "output_type": "stream",
     "text": [
      "\n",
      "Prueba de significancia conjunta para lincome y prppov:\n",
      "Estadístico F: 3.5227\n",
      "Valor p: 0.0304\n"
     ]
    }
   ],
   "source": [
    "# Parte (iv) - Prueba F para significancia conjunta de lincome y prppov\n",
    "# Creamos el modelo restringido (sin lincome y prppov)\n",
    "X_restricted = data_clean[['prpblck', 'lhseval']]\n",
    "X_restricted = sm.add_constant(X_restricted)\n",
    "modelo_restringido = sm.OLS(y, X_restricted).fit()\n",
    "\n",
    "# Realizamos la prueba F\n",
    "f_stat = ((modelo_restringido.ssr - modelo_nuevo.ssr) / 2) / (modelo_nuevo.ssr / modelo_nuevo.df_resid)\n",
    "p_value_f = 1 - stats.f.cdf(f_stat, 2, modelo_nuevo.df_resid)\n",
    "\n",
    "print(\"\\nPrueba de significancia conjunta para lincome y prppov:\")\n",
    "print(f\"Estadístico F: {f_stat:.4f}\")\n",
    "print(f\"Valor p: {p_value_f:.4f}\")"
   ]
  },
  {
   "cell_type": "markdown",
   "metadata": {},
   "source": [
    "The analysis reveals that the prpblck coefficient is significant at 5% but not at 1% in the initial model.  (β₁=0.0728, p=0.0181)\n",
    "\n",
    "There is a strong negative correlation between lincome and prppov, (r=-0.8402) indicating multicollinearity. \n",
    "\n",
    "adding lhseval (avg housing prices in the zip code), the prpblck coefficient becomes more significant  (β₁=0.0976, p=0.001) while lincome and prppov lose individual significance, but mantain joint significance  (p=0.0304)\n",
    "\n",
    "The first model, which only has prpblck (p=0.018) might be capturing both racial and socioeconomic effects.\n",
    "\n",
    "The second model, with lhseval, should be capturing better the socioeconomic effect. Including this to the model allows us to separate both racial and economic discrimination. Even though there is a clear multicolinallity problem, which might require more discussion to select the proper model."
   ]
  },
  {
   "cell_type": "markdown",
   "metadata": {},
   "source": [
    "## C10\n",
    "\n",
    "The study examines the relationship between salaries and benefits in the school system, specifically analyzing whether there is a trade-off between these compensation components. It seeks to determine if schools offering higher benefits (measured as a benefits-to-salary ratio) tend to pay lower salaries, controlling for factors such as school size (enrollment), staff, and students' socioeconomic status (lunch)."
   ]
  },
  {
   "cell_type": "code",
   "execution_count": 57,
   "metadata": {},
   "outputs": [
    {
     "name": "stdout",
     "output_type": "stream",
     "text": [
      "Modelo 1: Regresión Simple\n",
      "                            OLS Regression Results                            \n",
      "==============================================================================\n",
      "Dep. Variable:                lavgsal   R-squared:                       0.015\n",
      "Model:                            OLS   Adj. R-squared:                  0.015\n",
      "Method:                 Least Squares   F-statistic:                     28.23\n",
      "Date:                Tue, 12 Nov 2024   Prob (F-statistic):           1.21e-07\n",
      "Time:                        19:18:51   Log-Likelihood:                 85.171\n",
      "No. Observations:                1848   AIC:                            -166.3\n",
      "Df Residuals:                    1846   BIC:                            -155.3\n",
      "Df Model:                           1                                         \n",
      "Covariance Type:            nonrobust                                         \n",
      "==============================================================================\n",
      "                 coef    std err          t      P>|t|      [0.025      0.975]\n",
      "------------------------------------------------------------------------------\n",
      "const         10.7479      0.052    208.042      0.000      10.647      10.849\n",
      "bs            -0.7951      0.150     -5.313      0.000      -1.089      -0.502\n",
      "==============================================================================\n",
      "Omnibus:                       47.654   Durbin-Watson:                   0.932\n",
      "Prob(Omnibus):                  0.000   Jarque-Bera (JB):               76.684\n",
      "Skew:                          -0.231   Prob(JB):                     2.23e-17\n",
      "Kurtosis:                       3.884   Cond. No.                         31.1\n",
      "==============================================================================\n",
      "\n",
      "Notes:\n",
      "[1] Standard Errors assume that the covariance matrix of the errors is correctly specified.\n",
      "\n",
      "Test de hipótesis para β = -1:\n",
      "t-estadístico: 1.3690\n",
      "p-valor: 0.1712\n",
      "\n",
      "Modelo 2: Regresión Múltiple\n",
      "                            OLS Regression Results                            \n",
      "==============================================================================\n",
      "Dep. Variable:                lavgsal   R-squared:                       0.482\n",
      "Model:                            OLS   Adj. R-squared:                  0.481\n",
      "Method:                 Least Squares   F-statistic:                     572.0\n",
      "Date:                Tue, 12 Nov 2024   Prob (F-statistic):          9.17e-263\n",
      "Time:                        19:18:51   Log-Likelihood:                 679.00\n",
      "No. Observations:                1848   AIC:                            -1350.\n",
      "Df Residuals:                    1844   BIC:                            -1328.\n",
      "Df Model:                           3                                         \n",
      "Covariance Type:            nonrobust                                         \n",
      "==============================================================================\n",
      "                 coef    std err          t      P>|t|      [0.025      0.975]\n",
      "------------------------------------------------------------------------------\n",
      "const         13.9530      0.107    130.118      0.000      13.743      14.163\n",
      "bs            -0.6051      0.109     -5.564      0.000      -0.818      -0.392\n",
      "lenrol        -0.0316      0.008     -3.726      0.000      -0.048      -0.015\n",
      "lstaff        -0.7137      0.018    -40.119      0.000      -0.749      -0.679\n",
      "==============================================================================\n",
      "Omnibus:                       43.688   Durbin-Watson:                   0.894\n",
      "Prob(Omnibus):                  0.000   Jarque-Bera (JB):               94.137\n",
      "Skew:                           0.061   Prob(JB):                     3.62e-21\n",
      "Kurtosis:                       4.099   Cond. No.                         235.\n",
      "==============================================================================\n",
      "\n",
      "Notes:\n",
      "[1] Standard Errors assume that the covariance matrix of the errors is correctly specified.\n",
      "\n",
      "Modelo 3: Regresión con lunch\n",
      "                            OLS Regression Results                            \n",
      "==============================================================================\n",
      "Dep. Variable:                lavgsal   R-squared:                       0.488\n",
      "Model:                            OLS   Adj. R-squared:                  0.487\n",
      "Method:                 Least Squares   F-statistic:                     439.4\n",
      "Date:                Tue, 12 Nov 2024   Prob (F-statistic):          4.22e-266\n",
      "Time:                        19:18:51   Log-Likelihood:                 689.98\n",
      "No. Observations:                1848   AIC:                            -1370.\n",
      "Df Residuals:                    1843   BIC:                            -1342.\n",
      "Df Model:                           4                                         \n",
      "Covariance Type:            nonrobust                                         \n",
      "==============================================================================\n",
      "                 coef    std err          t      P>|t|      [0.025      0.975]\n",
      "------------------------------------------------------------------------------\n",
      "const         13.8315      0.110    126.055      0.000      13.616      14.047\n",
      "bs            -0.5161      0.110     -4.702      0.000      -0.731      -0.301\n",
      "lenrol        -0.0284      0.008     -3.360      0.001      -0.045      -0.012\n",
      "lstaff        -0.6906      0.018    -37.615      0.000      -0.727      -0.655\n",
      "lunch         -0.0008      0.000     -4.695      0.000      -0.001      -0.000\n",
      "==============================================================================\n",
      "Omnibus:                       46.324   Durbin-Watson:                   0.921\n",
      "Prob(Omnibus):                  0.000   Jarque-Bera (JB):              105.674\n",
      "Skew:                           0.009   Prob(JB):                     1.13e-23\n",
      "Kurtosis:                       4.171   Cond. No.                     1.46e+03\n",
      "==============================================================================\n",
      "\n",
      "Notes:\n",
      "[1] Standard Errors assume that the covariance matrix of the errors is correctly specified.\n",
      "[2] The condition number is large, 1.46e+03. This might indicate that there are\n",
      "strong multicollinearity or other numerical problems.\n",
      "\n",
      "Comparación de R²:\n",
      "R² Modelo 1: 0.0151\n",
      "R² Modelo 2: 0.4820\n",
      "R² Modelo 3: 0.4882\n"
     ]
    },
    {
     "name": "stderr",
     "output_type": "stream",
     "text": [
      "C:\\Users\\Gerardo\\AppData\\Local\\Temp\\ipykernel_4760\\3571619949.py:19: FutureWarning: Series.__getitem__ treating keys as positions is deprecated. In a future version, integer keys will always be treated as labels (consistent with DataFrame behavior). To access a value by position, use `ser.iloc[pos]`\n",
      "  beta_hat = model1.params[1]\n",
      "C:\\Users\\Gerardo\\AppData\\Local\\Temp\\ipykernel_4760\\3571619949.py:20: FutureWarning: Series.__getitem__ treating keys as positions is deprecated. In a future version, integer keys will always be treated as labels (consistent with DataFrame behavior). To access a value by position, use `ser.iloc[pos]`\n",
      "  se_beta = model1.bse[1]\n"
     ]
    }
   ],
   "source": [
    "import wooldridge as woo\n",
    "import pandas as pd\n",
    "import numpy as np\n",
    "from scipy import stats\n",
    "import statsmodels.api as sm\n",
    "\n",
    "# Cargar los datos\n",
    "data = woo.data('elem94_95')\n",
    "\n",
    "# (i) Regresión simple de lavgsal sobre bs\n",
    "X = data['bs']\n",
    "y = data['lavgsal']\n",
    "X = sm.add_constant(X)\n",
    "model1 = sm.OLS(y, X).fit()\n",
    "print(\"Modelo 1: Regresión Simple\")\n",
    "print(model1.summary())\n",
    "\n",
    "# Test de hipótesis para β = -1\n",
    "beta_hat = model1.params[1]\n",
    "se_beta = model1.bse[1]\n",
    "t_stat = (beta_hat - (-1)) / se_beta\n",
    "p_value = 2 * (1 - stats.t.cdf(abs(t_stat), model1.df_resid))\n",
    "\n",
    "print(\"\\nTest de hipótesis para β = -1:\")\n",
    "print(f\"t-estadístico: {t_stat:.4f}\")\n",
    "print(f\"p-valor: {p_value:.4f}\")\n",
    "\n",
    "# (ii) Regresión múltiple añadiendo lenrol y lstaff\n",
    "X2 = data[['bs', 'lenrol', 'lstaff']]\n",
    "X2 = sm.add_constant(X2)\n",
    "model2 = sm.OLS(y, X2).fit()\n",
    "print(\"\\nModelo 2: Regresión Múltiple\")\n",
    "print(model2.summary())\n",
    "\n",
    "# (v) Añadir la variable lunch\n",
    "X3 = data[['bs', 'lenrol', 'lstaff', 'lunch']]\n",
    "X3 = sm.add_constant(X3)\n",
    "model3 = sm.OLS(y, X3).fit()\n",
    "print(\"\\nModelo 3: Regresión con lunch\")\n",
    "print(model3.summary())\n",
    "\n",
    "# Calcular R² para cada modelo\n",
    "r2_1 = model1.rsquared\n",
    "r2_2 = model2.rsquared\n",
    "r2_3 = model3.rsquared\n",
    "\n",
    "print(\"\\nComparación de R²:\")\n",
    "print(f\"R² Modelo 1: {r2_1:.4f}\")\n",
    "print(f\"R² Modelo 2: {r2_2:.4f}\")\n",
    "print(f\"R² Modelo 3: {r2_3:.4f}\")"
   ]
  },
  {
   "cell_type": "markdown",
   "metadata": {},
   "source": [
    "The analyses confirm a negative trade-off between salaries and benefits: for each unit increase in the benefits-to-salary ratio, salaries decrease by approximately 51.6% (in the full model). This relationship remains significant even after controlling for school size, staff, and student socioeconomic characteristics, although its magnitude reduces when including these controls (from -79.5% in the simple model to -51.6% in the full model). The final model explains 48.8% of the variation in salaries (R² = 0.4882).\n",
    "\n",
    "(i) We can't reject that β = -1\n",
    "\n",
    "(ii) b/s becomes less negative when we add other variables. It stays significant (p-value < .001) and R² increases substantially\n",
    "\n",
    "(iii) when adding the variables, the standard error reduces. When compared to multicolineality, the reduction in variance is stronger. This can be explained by the drastic increase in R²\n",
    "\n",
    "(iv) lstaff seems to be negative and large in magnitude. This reflects a tradeoff between the number of workers and the salary\n",
    "\n",
    "(v) adding lunch decreases salaries because lunch program is a proxy to lower socioeconomic power. Therefore, if a school is on a zone with higher poverty levels, then the salaries are expected to drop.\n",
    "\n"
   ]
  },
  {
   "cell_type": "markdown",
   "metadata": {},
   "source": [
    "## C11\n",
    "\n",
    "This study analyzes the determinants of the years of education in a person, using parental education, student's ability (including a cuadratic term to capture non-linear effects) and college tuition costs as explanatory variables."
   ]
  },
  {
   "cell_type": "code",
   "execution_count": 60,
   "metadata": {},
   "outputs": [
    {
     "name": "stdout",
     "output_type": "stream",
     "text": [
      "Resultados del modelo inicial:\n",
      "                            OLS Regression Results                            \n",
      "==============================================================================\n",
      "Dep. Variable:                   educ   R-squared:                       0.444\n",
      "Model:                            OLS   Adj. R-squared:                  0.443\n",
      "Method:                 Least Squares   F-statistic:                     244.9\n",
      "Date:                Tue, 12 Nov 2024   Prob (F-statistic):          1.34e-154\n",
      "Time:                        19:42:26   Log-Likelihood:                -2436.6\n",
      "No. Observations:                1230   AIC:                             4883.\n",
      "Df Residuals:                    1225   BIC:                             4909.\n",
      "Df Model:                           4                                         \n",
      "Covariance Type:            nonrobust                                         \n",
      "==============================================================================\n",
      "                 coef    std err          t      P>|t|      [0.025      0.975]\n",
      "------------------------------------------------------------------------------\n",
      "const          8.2402      0.287     28.671      0.000       7.676       8.804\n",
      "motheduc       0.1901      0.028      6.767      0.000       0.135       0.245\n",
      "fatheduc       0.1089      0.020      5.558      0.000       0.070       0.147\n",
      "abil           0.4015      0.030     13.255      0.000       0.342       0.461\n",
      "abil2          0.0506      0.008      6.093      0.000       0.034       0.067\n",
      "==============================================================================\n",
      "Omnibus:                       45.933   Durbin-Watson:                   1.820\n",
      "Prob(Omnibus):                  0.000   Jarque-Bera (JB):               56.769\n",
      "Skew:                           0.404   Prob(JB):                     4.71e-13\n",
      "Kurtosis:                       3.674   Cond. No.                         115.\n",
      "==============================================================================\n",
      "\n",
      "Notes:\n",
      "[1] Standard Errors assume that the covariance matrix of the errors is correctly specified.\n",
      "\n",
      "Test para relación cuadrática:\n",
      "t-estadístico para abil2: 6.0934\n",
      "p-valor para abil2: 0.0000\n",
      "\n",
      "Test de igualdad entre coeficientes de motheduc y fatheduc:\n",
      "t-estadístico: 1.9357\n",
      "p-valor: 0.0531\n",
      "\n",
      "Test conjunto para variables de matrícula:\n",
      "F-estadístico: 0.8393\n",
      "p-valor: 0.4322\n",
      "\n",
      "Correlación entre tuit17 y tuit18: 0.9808\n",
      "\n",
      "Modelo con promedio de matrícula:\n",
      "                            OLS Regression Results                            \n",
      "==============================================================================\n",
      "Dep. Variable:                   educ   R-squared:                       0.445\n",
      "Model:                            OLS   Adj. R-squared:                  0.443\n",
      "Method:                 Least Squares   F-statistic:                     196.4\n",
      "Date:                Tue, 12 Nov 2024   Prob (F-statistic):          9.75e-154\n",
      "Time:                        19:42:27   Log-Likelihood:                -2435.8\n",
      "No. Observations:                1230   AIC:                             4884.\n",
      "Df Residuals:                    1224   BIC:                             4914.\n",
      "Df Model:                           5                                         \n",
      "Covariance Type:            nonrobust                                         \n",
      "==============================================================================\n",
      "                 coef    std err          t      P>|t|      [0.025      0.975]\n",
      "------------------------------------------------------------------------------\n",
      "const          8.0813      0.313     25.851      0.000       7.468       8.695\n",
      "motheduc       0.1929      0.028      6.847      0.000       0.138       0.248\n",
      "fatheduc       0.1084      0.020      5.529      0.000       0.070       0.147\n",
      "abil           0.3991      0.030     13.156      0.000       0.340       0.459\n",
      "abil2          0.0506      0.008      6.095      0.000       0.034       0.067\n",
      "tuit_avg       0.0160      0.012      1.290      0.197      -0.008       0.040\n",
      "==============================================================================\n",
      "Omnibus:                       45.884   Durbin-Watson:                   1.824\n",
      "Prob(Omnibus):                  0.000   Jarque-Bera (JB):               56.400\n",
      "Skew:                           0.406   Prob(JB):                     5.66e-13\n",
      "Kurtosis:                       3.664   Cond. No.                         136.\n",
      "==============================================================================\n",
      "\n",
      "Notes:\n",
      "[1] Standard Errors assume that the covariance matrix of the errors is correctly specified.\n"
     ]
    },
    {
     "name": "stderr",
     "output_type": "stream",
     "text": [
      "C:\\Users\\Gerardo\\AppData\\Local\\Temp\\ipykernel_4760\\2605916308.py:36: DeprecationWarning: Conversion of an array with ndim > 0 to a scalar is deprecated, and will error in future. Ensure you extract a single element from your array before performing this operation. (Deprecated NumPy 1.25.)\n",
      "  print(f\"t-estadístico: {float(test_result.statistic):.4f}\")\n"
     ]
    }
   ],
   "source": [
    "# Importamos las bibliotecas necesarias\n",
    "import wooldridge as woo\n",
    "import pandas as pd\n",
    "import numpy as np\n",
    "from scipy import stats\n",
    "import statsmodels.api as sm\n",
    "import matplotlib.pyplot as plt\n",
    "import seaborn as sns\n",
    "\n",
    "# Cargamos los datos\n",
    "data = woo.data('htv')\n",
    "\n",
    "# (i) Estimamos el modelo de regresión\n",
    "# Creamos la variable abil al cuadrado\n",
    "data['abil2'] = data['abil']**2\n",
    "\n",
    "# Creamos el modelo con statsmodels\n",
    "X = sm.add_constant(data[['motheduc', 'fatheduc', 'abil', 'abil2']])\n",
    "y = data['educ']\n",
    "\n",
    "# Estimamos el modelo\n",
    "modelo1 = sm.OLS(y, X).fit()\n",
    "print(\"Resultados del modelo inicial:\")\n",
    "print(modelo1.summary())\n",
    "\n",
    "# Test para relación lineal vs cuadrática (H0: coef_abil2 = 0)\n",
    "print(\"\\nTest para relación cuadrática:\")\n",
    "print(f\"t-estadístico para abil2: {modelo1.tvalues['abil2']:.4f}\")\n",
    "print(f\"p-valor para abil2: {modelo1.pvalues['abil2']:.4f}\")\n",
    "\n",
    "# (ii) Test H0: β1 = β2\n",
    "# Creamos una matriz R para el test de restricción lineal\n",
    "R = np.array([[0, 1, -1, 0, 0]])  # motheduc - fatheduc = 0\n",
    "test_result = modelo1.t_test(R)\n",
    "print(\"\\nTest de igualdad entre coeficientes de motheduc y fatheduc:\")\n",
    "print(f\"t-estadístico: {float(test_result.statistic):.4f}\")\n",
    "print(f\"p-valor: {float(test_result.pvalue):.4f}\")\n",
    "\n",
    "# (iii) Agregamos variables de matrícula\n",
    "X2 = sm.add_constant(data[['motheduc', 'fatheduc', 'abil', 'abil2', 'tuit17', 'tuit18']])\n",
    "modelo2 = sm.OLS(y, X2).fit()\n",
    "\n",
    "# Test conjunto para las variables de matrícula\n",
    "R2 = np.zeros((2, 7))  # 7 es el número de parámetros en el modelo2\n",
    "R2[0, 5] = 1  # coeficiente de tuit17\n",
    "R2[1, 6] = 1  # coeficiente de tuit18\n",
    "test_result2 = modelo2.f_test(R2)\n",
    "print(\"\\nTest conjunto para variables de matrícula:\")\n",
    "print(f\"F-estadístico: {float(test_result2.statistic):.4f}\")\n",
    "print(f\"p-valor: {float(test_result2.pvalue):.4f}\")\n",
    "\n",
    "# (iv) Correlación entre tuit17 y tuit18\n",
    "corr = data['tuit17'].corr(data['tuit18'])\n",
    "print(f\"\\nCorrelación entre tuit17 y tuit18: {corr:.4f}\")\n",
    "\n",
    "# Creamos el promedio de matrícula\n",
    "data['tuit_avg'] = (data['tuit17'] + data['tuit18']) / 2\n",
    "\n",
    "# Modelo con promedio de matrícula\n",
    "X3 = sm.add_constant(data[['motheduc', 'fatheduc', 'abil', 'abil2', 'tuit_avg']])\n",
    "modelo3 = sm.OLS(y, X3).fit()\n",
    "print(\"\\nModelo con promedio de matrícula:\")\n",
    "print(modelo3.summary())\n",
    "\n"
   ]
  },
  {
   "cell_type": "markdown",
   "metadata": {},
   "source": [
    "The model explains 44.4% of the variation in years of education, where both parental education and student's ability are statistically significant. There is a stronger effect in mother's education(0.19 years) compared to father's education (0.11 years). The relationship between ability and education is quadratic, confirmed by a significant abil^2 term.  Tuition costs, however, show no significant effect on years of education, even when using the average of both periods due to their high correlation.\n",
    "\n",
    "(i) H₀: β₄abil² = 0 H₁: β₄ ≠ 0. With a t-statistic of 6.093, we know the relation is quadratic.\n",
    "(ii) H0: β1 = β2. With a t-statistic of 1.93, we cant reject that these coefficients (mother and father educ) are equal. However, we have evidence to reject it at 10%\n",
    "(iii) We cant reject that tuition isn't 0.\n",
    "(iv) tuit17 and tuit18 are highly correlated. It is better to use the average of both due to their correlation. Averaging both years (which are highly correlated at 0.9808) is preferred as it reduces measurement error, provides a more representative measure of the true tuition costs faced by students, and still maintains model parsimony while avoiding multicollinearity issues.\n",
    "(v) Including the average tuition didn't change R², and isn't statistically significant.\n",
    "\n"
   ]
  },
  {
   "cell_type": "markdown",
   "metadata": {},
   "source": [
    "# Chapter 5 OLS Asymptotics"
   ]
  },
  {
   "cell_type": "markdown",
   "metadata": {},
   "source": [
    "## C1 \n",
    "Relationship between salaries and educational/work variables using the following models:\n",
    "\n",
    "1. level-level: wage = β₀ + β₁educ + β₂exper + β₃tenure + u\n",
    "2. log-level: log(wage) = β₀ + β₁educ + β₂exper + β₃tenure + u"
   ]
  },
  {
   "cell_type": "code",
   "execution_count": 1,
   "metadata": {},
   "outputs": [
    {
     "data": {
      "image/png": "[encoded data removed]",
      "text/plain": [
       "<Figure size 1200x500 with 2 Axes>"
      ]
     },
     "metadata": {},
     "output_type": "display_data"
    }
   ],
   "source": [
    "import wooldridge as wd\n",
    "import numpy as np\n",
    "import pandas as pd\n",
    "import matplotlib.pyplot as plt\n",
    "import seaborn as sns\n",
    "from scipy import stats\n",
    "from statsmodels.formula.api import ols\n",
    "\n",
    "df = wd.data('wage1')\n",
    "\n",
    "# Level - level model\n",
    "modelo1 = ols('wage ~ educ + exper + tenure', data=df).fit()\n",
    "residuos1 = modelo1.resid\n",
    "\n",
    "# Log - level model\n",
    "modelo2 = ols('np.log(wage) ~ educ + exper + tenure', data=df).fit()\n",
    "residuos2 = modelo2.resid\n",
    "\n",
    "# Histograms\n",
    "fig, (ax1, ax2) = plt.subplots(1, 2, figsize=(12, 5))\n",
    "\n",
    "# Model 1 histogram\n",
    "sns.histplot(residuos1, kde=True, ax=ax1)\n",
    "ax1.set_title('Residuos Modelo Nivel-Nivel')\n",
    "ax1.set_xlabel('Residuos')\n",
    "ax1.set_ylabel('Frecuencia')\n",
    "\n",
    "# model 2 histogram\n",
    "sns.histplot(residuos2, kde=True, ax=ax2)\n",
    "ax2.set_title('Residuos Modelo Log-Nivel')\n",
    "ax2.set_xlabel('Residuos')\n",
    "ax2.set_ylabel('Frecuencia')\n",
    "\n",
    "plt.tight_layout()\n",
    "\n"
   ]
  },
  {
   "cell_type": "markdown",
   "metadata": {},
   "source": [
    "Visually, the level - level model has a long right tail, which is expected in a wage variable. Transforming the dependent variable to its logarithmic form seems to correct and improve the normality (MLR 6)."
   ]
  },
  {
   "cell_type": "code",
   "execution_count": null,
   "metadata": {},
   "outputs": [
    {
     "name": "stdout",
     "output_type": "stream",
     "text": [
      "\n",
      "Prueba de Shapiro-Wilk para normalidad:\n",
      "Modelo nivel-nivel: estadístico=0.8932, p-valor=1.1687e-18\n",
      "Modelo log-nivel: estadístico=0.9895, p-valor=7.8698e-04\n",
      "\n",
      "Evaluación del supuesto MLR.6:\n",
      "El modelo log-nivel muestra una distribución más cercana a la normal en sus residuos,\n",
      "lo que sugiere que cumple mejor con el supuesto MLR.6 de normalidad.\n"
     ]
    }
   ],
   "source": [
    "# Pruebas de normalidad\n",
    "shapiro1 = stats.shapiro(residuos1)\n",
    "shapiro2 = stats.shapiro(residuos2)\n",
    "\n",
    "print(\"\\nPrueba de Shapiro-Wilk para normalidad:\")\n",
    "print(f\"Modelo nivel-nivel: estadístico={shapiro1[0]:.4f}, p-valor={shapiro1[1]:.4e}\")\n",
    "print(f\"Modelo log-nivel: estadístico={shapiro2[0]:.4f}, p-valor={shapiro2[1]:.4e}\")\n",
    "\n",
    "# (iii) Evaluación del supuesto MLR.6\n",
    "print(\"\\nEvaluación del supuesto MLR.6:\")\n",
    "print(\"El modelo log-nivel muestra una distribución más cercana a la normal en sus residuos,\")\n",
    "print(\"lo que sugiere que cumple mejor con el supuesto MLR.6 de normalidad.\")"
   ]
  },
  {
   "cell_type": "markdown",
   "metadata": {},
   "source": [
    "## C2\n",
    "\n",
    "We analyze the relation between college GPA (colgpa) and two explanatory variables: high school grades percentile (hsperc) and SAT score (sat). \n",
    "1. We will do a regression with the whole sample (4,137)\n",
    "2. We will do a regression with the first half of the sample (2,070)\n",
    "3. Compare the standard error between both regressions. \n",
    "\n",
    "it is expected that as 'n' increases, the standard error should decrease."
   ]
  },
  {
   "cell_type": "code",
   "execution_count": 3,
   "metadata": {},
   "outputs": [],
   "source": [
    "import wooldridge as woo\n",
    "import pandas as pd\n",
    "import numpy as np\n",
    "from sklearn.linear_model import LinearRegression\n",
    "import statsmodels.api as sm\n"
   ]
  },
  {
   "cell_type": "code",
   "execution_count": 4,
   "metadata": {},
   "outputs": [
    {
     "name": "stdout",
     "output_type": "stream",
     "text": [
      "Resultados con toda la muestra:\n",
      "==============================================================================\n",
      "                 coef    std err          t      P>|t|      [0.025      0.975]\n",
      "------------------------------------------------------------------------------\n",
      "const          1.3918      0.072     19.454      0.000       1.251       1.532\n",
      "hsperc        -0.0135      0.001    -24.604      0.000      -0.015      -0.012\n",
      "sat            0.0015   6.53e-05     22.604      0.000       0.001       0.002\n",
      "==============================================================================\n",
      "\n",
      "Resultados con la primera mitad de la muestra:\n",
      "==============================================================================\n",
      "                 coef    std err          t      P>|t|      [0.025      0.975]\n",
      "------------------------------------------------------------------------------\n",
      "const          1.4360      0.098     14.686      0.000       1.244       1.628\n",
      "hsperc        -0.0127      0.001    -17.744      0.000      -0.014      -0.011\n",
      "sat            0.0015   8.86e-05     16.578      0.000       0.001       0.002\n",
      "==============================================================================\n"
     ]
    }
   ],
   "source": [
    "data = woo.data('gpa2')\n",
    "# Regresión con todas las observaciones\n",
    "X = data[['hsperc', 'sat']]\n",
    "y = data['colgpa']\n",
    "# Agregar el intercepto\n",
    "X_const = sm.add_constant(X)\n",
    "\n",
    "model1 = sm.OLS(y, X_const).fit()\n",
    "print(\"Resultados con toda la muestra:\")\n",
    "print(model1.summary().tables[1])\n",
    "\n",
    "# Regresión con las primeras 2,070 observaciones\n",
    "X_half = X_const[:2070]\n",
    "y_half = y[:2070]\n",
    "model2 = sm.OLS(y_half, X_half).fit()\n",
    "print(\"\\nResultados con la primera mitad de la muestra:\")\n",
    "print(model2.summary().tables[1])"
   ]
  },
  {
   "cell_type": "code",
   "execution_count": 6,
   "metadata": {},
   "outputs": [
    {
     "name": "stdout",
     "output_type": "stream",
     "text": [
      "\n",
      "Ratio de errores estándar (hsperc): 0.7647154710870846\n",
      "Ratio teórico según la ecuación se(β̂ⱼ) = cⱼ/√n: 0.7073631186179102\n"
     ]
    },
    {
     "name": "stderr",
     "output_type": "stream",
     "text": [
      "C:\\Users\\Gerardo\\AppData\\Local\\Temp\\ipykernel_5424\\2663887444.py:1: FutureWarning: Series.__getitem__ treating keys as positions is deprecated. In a future version, integer keys will always be treated as labels (consistent with DataFrame behavior). To access a value by position, use `ser.iloc[pos]`\n",
      "  se_ratio = model1.bse[1] / model2.bse[1]\n"
     ]
    }
   ],
   "source": [
    "se_ratio = model1.bse[1] / model2.bse[1]\n",
    "theoretical_ratio = np.sqrt(2070/4137)\n",
    "\n",
    "print(\"\\nRatio de errores estándar (hsperc):\", se_ratio)\n",
    "print(\"Ratio teórico según la ecuación se(β̂ⱼ) = cⱼ/√n:\", theoretical_ratio)\n"
   ]
  },
  {
   "cell_type": "markdown",
   "metadata": {},
   "source": [
    "## C3\n",
    "In this exercise we analyze the effect of parents' education in the weight of birth of babies. \n",
    "We use the LM (lagrange multiplier) to prove if mother's and father's education are jointly significant, controlled by other factors such as cigarette consumption, birth order and family income.\n",
    "\n",
    "H0: β_motheduc = β_fatheduc = 0"
   ]
  },
  {
   "cell_type": "code",
   "execution_count": 8,
   "metadata": {},
   "outputs": [
    {
     "name": "stdout",
     "output_type": "stream",
     "text": [
      "Dimensiones del dataset: (1388, 14)\n",
      "\n",
      "Primeras filas del dataset:\n",
      "   faminc  cigtax    cigprice  bwght  fatheduc  motheduc  parity  male  white  \\\n",
      "0    13.5    16.5  122.300003    109      12.0      12.0       1     1      1   \n",
      "1     7.5    16.5  122.300003    133       6.0      12.0       2     1      0   \n",
      "2     0.5    16.5  122.300003    129       NaN      12.0       2     0      0   \n",
      "3    15.5    16.5  122.300003    126      12.0      12.0       2     1      0   \n",
      "4    27.5    16.5  122.300003    134      14.0      12.0       2     1      1   \n",
      "\n",
      "   cigs    lbwght  bwghtlbs  packs   lfaminc  \n",
      "0     0  4.691348    6.8125    0.0  2.602690  \n",
      "1     0  4.890349    8.3125    0.0  2.014903  \n",
      "2     0  4.859812    8.0625    0.0 -0.693147  \n",
      "3     0  4.836282    7.8750    0.0  2.740840  \n",
      "4     0  4.897840    8.3750    0.0  3.314186  \n",
      "\n",
      "Resultados del Test LM:\n",
      "Estadístico LM: 2.8821\n",
      "Valor crítico (5%): 5.9915\n",
      "P-valor: 0.2367\n",
      "\n",
      "Conclusión: No rechazamos H0 al nivel de significancia del 5%\n"
     ]
    }
   ],
   "source": [
    "import wooldridge as woo\n",
    "import numpy as np\n",
    "import pandas as pd\n",
    "from scipy import stats\n",
    "import statsmodels.api as sm\n",
    "\n",
    "# Cargar los datos - método correcto\n",
    "data = woo.data('bwght')\n",
    "\n",
    "# Verificar que los datos se cargaron correctamente\n",
    "print(\"Dimensiones del dataset:\", data.shape)\n",
    "print(\"\\nPrimeras filas del dataset:\")\n",
    "print(data.head())\n",
    "\n",
    "# Continuar con el análisis\n",
    "variables = ['bwght', 'cigs', 'parity', 'faminc', 'motheduc', 'fatheduc']\n",
    "data_clean = data[variables].dropna()\n",
    "\n",
    "# Modelo restringido (sin motheduc y fatheduc)\n",
    "X_r = sm.add_constant(data_clean[['cigs', 'parity', 'faminc']])\n",
    "y = data_clean['bwght']\n",
    "modelo_r = sm.OLS(y, X_r).fit()\n",
    "residuos_r = modelo_r.resid\n",
    "\n",
    "# Regresión auxiliar para el test LM\n",
    "X_aux = sm.add_constant(data_clean[['cigs', 'parity', 'faminc', 'motheduc', 'fatheduc']])\n",
    "modelo_aux = sm.OLS(residuos_r, X_aux).fit()\n",
    "\n",
    "# Calcular estadístico LM\n",
    "n = len(data_clean)\n",
    "LM = n * modelo_aux.rsquared\n",
    "\n",
    "# Valor crítico y p-valor\n",
    "grados_libertad = 2  # número de restricciones\n",
    "valor_critico = stats.chi2.ppf(0.95, grados_libertad)\n",
    "p_valor = 1 - stats.chi2.cdf(LM, grados_libertad)\n",
    "\n",
    "print(f\"\\nResultados del Test LM:\")\n",
    "print(f\"Estadístico LM: {LM:.4f}\")\n",
    "print(f\"Valor crítico (5%): {valor_critico:.4f}\")\n",
    "print(f\"P-valor: {p_valor:.4f}\")\n",
    "print(f\"\\nConclusión: {'Rechazamos' if p_valor < 0.05 else 'No rechazamos'} H0 al nivel de significancia del 5%\")\n"
   ]
  },
  {
   "cell_type": "code",
   "execution_count": 10,
   "metadata": {},
   "outputs": [
    {
     "name": "stdout",
     "output_type": "stream",
     "text": [
      "\n",
      "Resultados del Test F (para comparación):\n",
      "Estadístico F: 1.4373\n",
      "R² no restringido: 0.0387\n",
      "R² restringido: 0.0364\n"
     ]
    }
   ],
   "source": [
    "# Comparación con el test F\n",
    "X_ur = sm.add_constant(data_clean[['cigs', 'parity', 'faminc', 'motheduc', 'fatheduc']])\n",
    "modelo_ur = sm.OLS(y, X_ur).fit()\n",
    "\n",
    "R2_ur = modelo_ur.rsquared\n",
    "R2_r = modelo_r.rsquared\n",
    "k = X_ur.shape[1] - 1  # número de variables explicativas en modelo no restringido\n",
    "q = 2  # número de restricciones\n",
    "\n",
    "F = ((R2_ur - R2_r)/(1 - R2_ur)) * ((n-k-1)/q)\n",
    "\n",
    "print(f\"\\nResultados del Test F (para comparación):\")\n",
    "print(f\"Estadístico F: {F:.4f}\")\n",
    "print(f\"R² no restringido: {R2_ur:.4f}\")\n",
    "print(f\"R² restringido: {R2_r:.4f}\")"
   ]
  },
  {
   "cell_type": "markdown",
   "metadata": {},
   "source": [
    "Both the F test and the LM arrive to the same conclusion. There is no evidence that parental education has an effect over weight. Also, the difference between the restricted and the unrestricted models' R²  is very small, which suggests that there is very little information lost from removing this variable, as very little variability was added to the error estimate by removing them. "
   ]
  },
  {
   "cell_type": "markdown",
   "metadata": {},
   "source": [
    "## C4\n",
    "We will analyze the normality of different economic variables using different skewness metrics. Skewness is a statistical term that helps us determine how far away from a simetrical distribution is the variable, which is a fundamental characteristic in the normal distribution.\n",
    "\n",
    "We will evaluate:\n",
    "1. Income (inc) and its log transformation in the 401k dataset\n",
    "2. birth weights (bwght) and its log transformation"
   ]
  },
  {
   "cell_type": "code",
   "execution_count": 11,
   "metadata": {},
   "outputs": [],
   "source": [
    "import numpy as np\n",
    "import pandas as pd\n",
    "from wooldridge import data\n",
    "import scipy.stats as stats\n",
    "\n",
    "def calculate_skewness(data):\n",
    "    \"\"\"\n",
    "    Calcula la medida de asimetría usando la estandarización manual\n",
    "    \"\"\"\n",
    "    # Estandarización\n",
    "    z = (data - data.mean()) / data.std()\n",
    "    # Cálculo de asimetría\n",
    "    return ((z**3).sum() / (len(data)-1))"
   ]
  },
  {
   "cell_type": "code",
   "execution_count": 12,
   "metadata": {},
   "outputs": [
    {
     "name": "stdout",
     "output_type": "stream",
     "text": [
      "\n",
      "Resultados de asimetría:\n",
      "Ingresos (inc): 1.8632\n",
      "Log(ingresos): 0.3608\n",
      "Peso al nacer: -0.6005\n",
      "Log(peso al nacer): -2.9502\n"
     ]
    }
   ],
   "source": [
    "# Cargar datos de 401k\n",
    "df_401k = data('401ksubs')\n",
    "# Filtrar para fsize = 1\n",
    "df_401k_filtered = df_401k[df_401k['fsize'] == 1]\n",
    "\n",
    "# Calcular asimetría para inc y log(inc)\n",
    "skew_inc = calculate_skewness(df_401k_filtered['inc'])\n",
    "skew_log_inc = calculate_skewness(np.log(df_401k_filtered['inc']))\n",
    "\n",
    "# Cargar datos de peso al nacer\n",
    "df_bwght = data('bwght2')\n",
    "\n",
    "# Calcular asimetría para bwght y log(bwght)\n",
    "skew_bwght = calculate_skewness(df_bwght['bwght'])\n",
    "skew_log_bwght = calculate_skewness(np.log(df_bwght['bwght']))\n",
    "\n",
    "\n",
    "# Imprimir resultados\n",
    "print(\"\\nResultados de asimetría:\")\n",
    "print(f\"Ingresos (inc): {skew_inc:.4f}\")\n",
    "print(f\"Log(ingresos): {skew_log_inc:.4f}\")\n",
    "print(f\"Peso al nacer: {skew_bwght:.4f}\")\n",
    "print(f\"Log(peso al nacer): {skew_log_bwght:.4f}\")"
   ]
  },
  {
   "cell_type": "markdown",
   "metadata": {},
   "source": [
    "Income reduces its skewness, while weight becomes more skewed. Logarithmic transformation should be done on variables with a large range or that are known to follow a non-linear distribution, has a right skew, has a multiplicative effect (not additive)...\n",
    "\n",
    "Normality doesn't refer to the unconditional distribution of y or log(y), but of the residuals given x (uhat|x)\n",
    "Therefore, only evaluating the distribution of y or log y isn't sufficient to verify the normality assumtion MLR 6, **we should examine the distribution of the residuals after adjusting the model**"
   ]
  },
  {
   "cell_type": "code",
   "execution_count": null,
   "metadata": {},
   "outputs": [],
   "source": []
  },
  {
   "cell_type": "markdown",
   "metadata": {},
   "source": [
    "# C5\n",
    "This exercise analyzes the distribution of years of education and evaluates the CLM assumtions from the model from exercise C11 chapter 4\n",
    "\n",
    "1. The dependent variable (educ)\n",
    "2. Its distribution and normality\n",
    "3. Possible violations to CLM assumptions"
   ]
  },
  {
   "cell_type": "code",
   "execution_count": 13,
   "metadata": {},
   "outputs": [
    {
     "name": "stdout",
     "output_type": "stream",
     "text": [
      "Número de valores únicos de educación: 15\n",
      "\n",
      "Valores únicos de educación:\n",
      "[6, 7, 8, 9, 10, 11, 12, 13, 14, 15, 16, 17, 18, 19, 20]\n"
     ]
    }
   ],
   "source": [
    "import pandas as pd\n",
    "import numpy as np\n",
    "import matplotlib.pyplot as plt\n",
    "from scipy import stats\n",
    "from wooldridge import data\n",
    "\n",
    "# Cargar datos\n",
    "df = data('htv')\n",
    "\n",
    "# (i) Analizar valores únicos de educación\n",
    "n_valores = len(df['educ'].unique())\n",
    "print(f\"Número de valores únicos de educación: {n_valores}\")\n",
    "print(\"\\nValores únicos de educación:\")\n",
    "print(sorted(df['educ'].unique()))"
   ]
  },
  {
   "cell_type": "code",
   "execution_count": 14,
   "metadata": {},
   "outputs": [
    {
     "data": {
      "image/png": "[encoded data removed]",
      "text/plain": [
       "<Figure size 1000x600 with 1 Axes>"
      ]
     },
     "metadata": {},
     "output_type": "display_data"
    }
   ],
   "source": [
    "# (ii) Crear histograma con distribución normal superpuesta\n",
    "plt.figure(figsize=(10, 6))\n",
    "plt.hist(df['educ'], bins=30, density=True, alpha=0.7, color='skyblue')\n",
    "\n",
    "# Ajustar distribución normal\n",
    "mu, sigma = stats.norm.fit(df['educ'])\n",
    "x = np.linspace(df['educ'].min(), df['educ'].max(), 100)\n",
    "y = stats.norm.pdf(x, mu, sigma)\n",
    "plt.plot(x, y, 'r-', lw=2, label=f'Normal (μ={mu:.2f}, σ={sigma:.2f})')\n",
    "\n",
    "plt.title('Distribución de Años de Educación')\n",
    "plt.xlabel('Años de Educación')\n",
    "plt.ylabel('Densidad')\n",
    "plt.legend()\n",
    "plt.grid(True, alpha=0.3)\n",
    "plt.show()"
   ]
  },
  {
   "cell_type": "code",
   "execution_count": 15,
   "metadata": {},
   "outputs": [
    {
     "name": "stdout",
     "output_type": "stream",
     "text": [
      "\n",
      "Estadísticas descriptivas de educación:\n",
      "count    1230.000000\n",
      "mean       13.037398\n",
      "std         2.354346\n",
      "min         6.000000\n",
      "25%        12.000000\n",
      "50%        12.000000\n",
      "75%        15.000000\n",
      "max        20.000000\n",
      "Name: educ, dtype: float64\n",
      "\n",
      "Test de normalidad D'Agostino:\n",
      "Estadístico: 43.3800\n",
      "P-valor: 0.0000\n"
     ]
    }
   ],
   "source": [
    "# Estadísticas descriptivas adicionales\n",
    "print(\"\\nEstadísticas descriptivas de educación:\")\n",
    "print(df['educ'].describe())\n",
    "\n",
    "# Test de normalidad\n",
    "stat, p_value = stats.normaltest(df['educ'])\n",
    "print(f\"\\nTest de normalidad D'Agostino:\")\n",
    "print(f\"Estadístico: {stat:.4f}\")\n",
    "print(f\"P-valor: {p_value:.4f}\")"
   ]
  },
  {
   "cell_type": "markdown",
   "metadata": {},
   "source": [
    "The residuals seem to not have a normal distribution, however, due to the large sample size, this doesn't pose a problem for inference. However, there seems to be heteroscedasticity due to the discrete nature of the dependent variable."
   ]
  },
  {
   "cell_type": "markdown",
   "metadata": {},
   "source": [
    "# CH 6\n",
    "This chapter explores changes of units of measurement, z-scores, and detailed discussion of functional forms such as log, quadratics, and interaction terms."
   ]
  },
  {
   "cell_type": "markdown",
   "metadata": {},
   "source": [
    "## C1\n"
   ]
  },
  {
   "cell_type": "code",
   "execution_count": 1,
   "metadata": {},
   "outputs": [],
   "source": [
    "# Importar bibliotecas necesarias\n",
    "import pandas as pd\n",
    "import numpy as np\n",
    "import matplotlib.pyplot as plt\n",
    "from wooldridge import data\n",
    "import statsmodels.api as sm\n"
   ]
  },
  {
   "cell_type": "code",
   "execution_count": 2,
   "metadata": {},
   "outputs": [
    {
     "name": "stdout",
     "output_type": "stream",
     "text": [
      "Columnas disponibles en el dataset:\n",
      "['year', 'age', 'agesq', 'nbh', 'cbd', 'intst', 'lintst', 'price', 'rooms', 'area', 'land', 'baths', 'dist', 'ldist', 'wind', 'lprice', 'y81', 'larea', 'lland', 'y81ldist', 'lintstsq', 'nearinc', 'y81nrinc', 'rprice', 'lrprice']\n"
     ]
    }
   ],
   "source": [
    "# Cargar los datos\n",
    "df = data('kielmc')\n",
    "\n",
    "# Mostrar las columnas disponibles\n",
    "print(\"Columnas disponibles en el dataset:\")\n",
    "print(df.columns.tolist())"
   ]
  },
  {
   "cell_type": "code",
   "execution_count": 3,
   "metadata": {},
   "outputs": [
    {
     "name": "stdout",
     "output_type": "stream",
     "text": [
      "\n",
      "Número de observaciones en 1981: 142\n"
     ]
    }
   ],
   "source": [
    "# Filtrar datos para 1981\n",
    "df_1981 = df[df['year'] == 1981].copy()\n",
    "print(f\"\\nNúmero de observaciones en 1981: {len(df_1981)}\")"
   ]
  },
  {
   "cell_type": "code",
   "execution_count": 8,
   "metadata": {},
   "outputs": [],
   "source": [
    "# Modelo 1: Regresión simple\n",
    "X1 = df_1981['ldist']\n",
    "y = df_1981['lprice']\n",
    "X1 = sm.add_constant(X1)\n",
    "model1 = sm.OLS(y, X1).fit()"
   ]
  },
  {
   "cell_type": "code",
   "execution_count": 9,
   "metadata": {},
   "outputs": [],
   "source": [
    "# Modelo 2: Regresión múltiple\n",
    "X2 = df_1981[['ldist', 'lintst', 'larea', 'lland', 'rooms', 'baths', 'age']]\n",
    "X2 = sm.add_constant(X2)\n",
    "model2 = sm.OLS(y, X2).fit()"
   ]
  },
  {
   "cell_type": "code",
   "execution_count": null,
   "metadata": {},
   "outputs": [],
   "source": [
    "# Modelo 2: Regresión múltiple\n",
    "X2 = df_1981[['ldist', 'lintst', 'larea', 'lland', 'rooms', 'baths', 'age']]\n",
    "X2 = sm.add_constant(X2)\n",
    "model2 = sm.OLS(y, X2).fit()"
   ]
  },
  {
   "cell_type": "code",
   "execution_count": 10,
   "metadata": {},
   "outputs": [
    {
     "name": "stdout",
     "output_type": "stream",
     "text": [
      "\n",
      "Modelo 1 (Simple):\n",
      "==============================================================================\n",
      "                 coef    std err          t      P>|t|      [0.025      0.975]\n",
      "------------------------------------------------------------------------------\n",
      "const          8.0472      0.646     12.452      0.000       6.770       9.325\n",
      "ldist          0.3649      0.066      5.548      0.000       0.235       0.495\n",
      "==============================================================================\n",
      "\n",
      "Modelo 2 (Múltiple):\n",
      "==============================================================================\n",
      "                 coef    std err          t      P>|t|      [0.025      0.975]\n",
      "------------------------------------------------------------------------------\n",
      "const          7.5923      0.642     11.831      0.000       6.323       8.862\n",
      "ldist          0.0554      0.058      0.961      0.338      -0.059       0.169\n",
      "lintst        -0.0390      0.052     -0.756      0.451      -0.141       0.063\n",
      "larea          0.3193      0.076      4.178      0.000       0.168       0.470\n",
      "lland          0.0768      0.040      1.945      0.054      -0.001       0.155\n",
      "rooms          0.0425      0.028      1.505      0.135      -0.013       0.098\n",
      "baths          0.1669      0.042      3.980      0.000       0.084       0.250\n",
      "age           -0.0036      0.001     -3.369      0.001      -0.006      -0.001\n",
      "==============================================================================\n"
     ]
    }
   ],
   "source": [
    "# Mostrar resultados de ambos modelos\n",
    "print(\"\\nModelo 1 (Simple):\")\n",
    "print(model1.summary().tables[1])\n",
    "print(\"\\nModelo 2 (Múltiple):\")\n",
    "print(model2.summary().tables[1])"
   ]
  },
  {
   "cell_type": "markdown",
   "metadata": {},
   "source": [
    "The first model suffers from omitted variables' bias. The effect of distance to the incinerator was actually capturing the effect of other characteristics that where correlated with the distance."
   ]
  },
  {
   "cell_type": "code",
   "execution_count": 16,
   "metadata": {},
   "outputs": [
    {
     "name": "stdout",
     "output_type": "stream",
     "text": [
      "\n",
      "Modelo 3 (Con término cuadrático):\n",
      "==============================================================================\n",
      "                 coef    std err          t      P>|t|      [0.025      0.975]\n",
      "------------------------------------------------------------------------------\n",
      "const         -3.3171      2.646     -1.254      0.212      -8.550       1.916\n",
      "ldist          0.1852      0.062      2.971      0.004       0.062       0.309\n",
      "lintst         2.0728      0.501      4.138      0.000       1.082       3.064\n",
      "lintstsq      -0.1193      0.028     -4.236      0.000      -0.175      -0.064\n",
      "larea          0.3593      0.073      4.948      0.000       0.216       0.503\n",
      "lland          0.0914      0.037      2.445      0.016       0.017       0.165\n",
      "rooms          0.0381      0.027      1.431      0.155      -0.015       0.091\n",
      "baths          0.1496      0.040      3.764      0.000       0.071       0.228\n",
      "age           -0.0029      0.001     -2.900      0.004      -0.005      -0.001\n",
      "==============================================================================\n"
     ]
    }
   ],
   "source": [
    "\n",
    "# Filtrar datos para 1981\n",
    "df_1981 = df[df['year'] == 1981].copy()\n",
    "\n",
    "# Modelo 3: Regresión con término cuadrático\n",
    "X3 = df_1981[['ldist', 'lintst', 'lintstsq', 'larea', 'lland', 'rooms', 'baths', 'age']]\n",
    "y = df_1981['lprice']\n",
    "X3 = sm.add_constant(X3)\n",
    "model3 = sm.OLS(y, X3).fit()\n",
    "\n",
    "# Mostrar resultados\n",
    "print(\"\\nModelo 3 (Con término cuadrático):\")\n",
    "print(model3.summary().tables[1])"
   ]
  },
  {
   "cell_type": "markdown",
   "metadata": {},
   "source": [
    "Once the squared effect is added, lintst becomes highly significant. It has a quadratic relation, and ignoring this will produce biased estimations."
   ]
  },
  {
   "cell_type": "code",
   "execution_count": 17,
   "metadata": {},
   "outputs": [
    {
     "name": "stdout",
     "output_type": "stream",
     "text": [
      "\n",
      "Modelo 4 (Con ambos términos cuadráticos):\n",
      "=================================================================================\n",
      "                    coef    std err          t      P>|t|      [0.025      0.975]\n",
      "---------------------------------------------------------------------------------\n",
      "const            -5.9212      8.295     -0.714      0.477     -22.329      10.487\n",
      "ldist             0.8711      2.071      0.421      0.675      -3.225       4.967\n",
      "ldist_squared    -0.0365      0.110     -0.331      0.741      -0.254       0.181\n",
      "lintst            1.9340      0.654      2.956      0.004       0.640       3.228\n",
      "lintstsq         -0.1107      0.038     -2.887      0.005      -0.187      -0.035\n",
      "larea             0.3553      0.074      4.810      0.000       0.209       0.501\n",
      "lland             0.0879      0.039      2.254      0.026       0.011       0.165\n",
      "rooms             0.0381      0.027      1.424      0.157      -0.015       0.091\n",
      "baths             0.1507      0.040      3.766      0.000       0.072       0.230\n",
      "age              -0.0029      0.001     -2.794      0.006      -0.005      -0.001\n",
      "=================================================================================\n"
     ]
    }
   ],
   "source": [
    "# Importar bibliotecas necesarias\n",
    "import pandas as pd\n",
    "from wooldridge import data\n",
    "import statsmodels.api as sm\n",
    "\n",
    "# Cargar los datos\n",
    "df = data('kielmc')\n",
    "\n",
    "# Filtrar datos para 1981\n",
    "df_1981 = df[df['year'] == 1981].copy()\n",
    "\n",
    "# Crear término cuadrático para ldist\n",
    "df_1981['ldist_squared'] = df_1981['ldist']**2\n",
    "\n",
    "# Modelo 4: Regresión con ambos términos cuadráticos\n",
    "X4 = df_1981[['ldist', 'ldist_squared', 'lintst', 'lintstsq', 'larea', 'lland', 'rooms', 'baths', 'age']]\n",
    "y = df_1981['lprice']\n",
    "X4 = sm.add_constant(X4)\n",
    "model4 = sm.OLS(y, X4).fit()\n",
    "\n",
    "# Mostrar resultados\n",
    "print(\"\\nModelo 4 (Con ambos términos cuadráticos):\")\n",
    "print(model4.summary().tables[1])"
   ]
  },
  {
   "cell_type": "markdown",
   "metadata": {},
   "source": [
    "Once the quadratic distance to the incinerator is added as a parameter, ldist becomes less significant. This suggests that ldist doesn't have a squared relationship."
   ]
  },
  {
   "cell_type": "markdown",
   "metadata": {},
   "source": [
    "## C2"
   ]
  },
  {
   "cell_type": "code",
   "execution_count": 18,
   "metadata": {},
   "outputs": [
    {
     "name": "stdout",
     "output_type": "stream",
     "text": [
      "                            OLS Regression Results                            \n",
      "==============================================================================\n",
      "Dep. Variable:               log_wage   R-squared:                       0.300\n",
      "Model:                            OLS   Adj. R-squared:                  0.296\n",
      "Method:                 Least Squares   F-statistic:                     74.67\n",
      "Date:                Sun, 08 Dec 2024   Prob (F-statistic):           3.38e-40\n",
      "Time:                        14:41:12   Log-Likelihood:                -319.53\n",
      "No. Observations:                 526   AIC:                             647.1\n",
      "Df Residuals:                     522   BIC:                             664.1\n",
      "Df Model:                           3                                         \n",
      "Covariance Type:            nonrobust                                         \n",
      "==============================================================================\n",
      "                 coef    std err          t      P>|t|      [0.025      0.975]\n",
      "------------------------------------------------------------------------------\n",
      "Intercept      0.1280      0.106      1.208      0.227      -0.080       0.336\n",
      "educ           0.0904      0.007     12.100      0.000       0.076       0.105\n",
      "exper          0.0410      0.005      7.892      0.000       0.031       0.051\n",
      "exper2        -0.0007      0.000     -6.164      0.000      -0.001      -0.000\n",
      "==============================================================================\n",
      "Omnibus:                        5.379   Durbin-Watson:                   1.785\n",
      "Prob(Omnibus):                  0.068   Jarque-Bera (JB):                7.152\n",
      "Skew:                           0.028   Prob(JB):                       0.0280\n",
      "Kurtosis:                       3.568   Cond. No.                     4.24e+03\n",
      "==============================================================================\n",
      "\n",
      "Notes:\n",
      "[1] Standard Errors assume that the covariance matrix of the errors is correctly specified.\n",
      "[2] The condition number is large, 4.24e+03. This might indicate that there are\n",
      "strong multicollinearity or other numerical problems.\n"
     ]
    }
   ],
   "source": [
    "# Importar las bibliotecas necesarias\n",
    "import wooldridge\n",
    "import pandas as pd\n",
    "import numpy as np\n",
    "from statsmodels.formula.api import ols\n",
    "import matplotlib.pyplot as plt\n",
    "\n",
    "# Cargar los datos de wage1\n",
    "df = wooldridge.data('wage1')\n",
    "\n",
    "# Crear el término cuadrático para la experiencia\n",
    "df['exper2'] = df['exper']**2\n",
    "\n",
    "# Crear el logaritmo del salario\n",
    "df['log_wage'] = np.log(df['wage'])\n",
    "\n",
    "# Estimar el modelo OLS\n",
    "model = ols('log_wage ~ educ + exper + exper2', data=df).fit()\n",
    "\n",
    "# Mostrar los resultados\n",
    "print(model.summary())\n"
   ]
  },
  {
   "cell_type": "code",
   "execution_count": 19,
   "metadata": {},
   "outputs": [
    {
     "name": "stdout",
     "output_type": "stream",
     "text": [
      "Retorno aproximado para el 5to año: 3.40%\n",
      "Retorno aproximado para el 20mo año: 1.30%\n"
     ]
    }
   ],
   "source": [
    "# Coeficientes del modelo\n",
    "beta_2 = 0.0410  # coeficiente de exper\n",
    "beta_3 = -0.0007 # coeficiente de exper2\n",
    "\n",
    "def calcular_retorno(años_experiencia):\n",
    "    return 100 * (beta_2 + 2 * beta_3 * años_experiencia)\n",
    "\n",
    "# Calcular retorno para el quinto año\n",
    "retorno_5 = calcular_retorno(5)\n",
    "print(f\"Retorno aproximado para el 5to año: {retorno_5:.2f}%\")\n",
    "\n",
    "# Calcular retorno para el vigésimo año\n",
    "retorno_20 = calcular_retorno(20)\n",
    "print(f\"Retorno aproximado para el 20mo año: {retorno_20:.2f}%\")"
   ]
  },
  {
   "cell_type": "code",
   "execution_count": 20,
   "metadata": {},
   "outputs": [
    {
     "name": "stdout",
     "output_type": "stream",
     "text": [
      "El retorno se vuelve negativo en 29.29 años de experiencia\n",
      "\n",
      "Número de personas con más de 29.29 años de experiencia: 111\n",
      "\n",
      "Estadísticas descriptivas de la experiencia:\n",
      "count    526.00000\n",
      "mean      17.01711\n",
      "std       13.57216\n",
      "min        1.00000\n",
      "25%        5.00000\n",
      "50%       13.50000\n",
      "75%       26.00000\n",
      "max       51.00000\n",
      "Name: exper, dtype: float64\n"
     ]
    }
   ],
   "source": [
    "punto_inflexion = -beta_2 / (2 * beta_3)\n",
    "print(f\"El retorno se vuelve negativo en {punto_inflexion:.2f} años de experiencia\")\n",
    "\n",
    "# Cargar los datos para contar cuántas personas tienen más experiencia\n",
    "df = wooldridge.data('wage1')\n",
    "personas_mas_experiencia = len(df[df['exper'] > punto_inflexion])\n",
    "print(f\"\\nNúmero de personas con más de {punto_inflexion:.2f} años de experiencia: {personas_mas_experiencia}\")\n",
    "\n",
    "# Estadísticas descriptivas de la experiencia\n",
    "print(\"\\nEstadísticas descriptivas de la experiencia:\")\n",
    "print(df['exper'].describe())"
   ]
  },
  {
   "cell_type": "markdown",
   "metadata": {},
   "source": [
    "## C3"
   ]
  },
  {
   "cell_type": "code",
   "execution_count": 23,
   "metadata": {},
   "outputs": [
    {
     "name": "stdout",
     "output_type": "stream",
     "text": [
      "                            OLS Regression Results                            \n",
      "==============================================================================\n",
      "Dep. Variable:               log_wage   R-squared:                       0.135\n",
      "Model:                            OLS   Adj. R-squared:                  0.132\n",
      "Method:                 Least Squares   F-statistic:                     48.41\n",
      "Date:                Sun, 08 Dec 2024   Prob (F-statistic):           4.47e-29\n",
      "Time:                        14:46:22   Log-Likelihood:                -449.87\n",
      "No. Observations:                 935   AIC:                             907.7\n",
      "Df Residuals:                     931   BIC:                             927.1\n",
      "Df Model:                           3                                         \n",
      "Covariance Type:            nonrobust                                         \n",
      "==============================================================================\n",
      "                 coef    std err          t      P>|t|      [0.025      0.975]\n",
      "------------------------------------------------------------------------------\n",
      "const          5.9495      0.241     24.704      0.000       5.477       6.422\n",
      "educ           0.0440      0.017      2.533      0.011       0.010       0.078\n",
      "exper         -0.0215      0.020     -1.076      0.282      -0.061       0.018\n",
      "educ_exper     0.0032      0.002      2.095      0.036       0.000       0.006\n",
      "==============================================================================\n",
      "Omnibus:                       30.632   Durbin-Watson:                   1.789\n",
      "Prob(Omnibus):                  0.000   Jarque-Bera (JB):               39.721\n",
      "Skew:                          -0.344   Prob(JB):                     2.37e-09\n",
      "Kurtosis:                       3.739   Cond. No.                     3.03e+03\n",
      "==============================================================================\n",
      "\n",
      "Notes:\n",
      "[1] Standard Errors assume that the covariance matrix of the errors is correctly specified.\n",
      "[2] The condition number is large, 3.03e+03. This might indicate that there are\n",
      "strong multicollinearity or other numerical problems.\n"
     ]
    }
   ],
   "source": [
    "# Importar las bibliotecas necesarias\n",
    "import wooldridge as woo\n",
    "import numpy as np\n",
    "import pandas as pd\n",
    "import statsmodels.api as sm\n",
    "from statsmodels.stats.outliers_influence import variance_inflation_factor\n",
    "\n",
    "# Cargar los datos WAGE2 (forma correcta)\n",
    "df = woo.data('wage2')\n",
    "\n",
    "# Crear la variable de interacción educ*exper\n",
    "df['educ_exper'] = df['educ'] * df['exper']\n",
    "\n",
    "# Crear la variable dependiente log(wage)\n",
    "df['log_wage'] = np.log(df['wage'])\n",
    "\n",
    "# Preparar las variables para la regresión\n",
    "X = df[['educ', 'exper', 'educ_exper']]\n",
    "X = sm.add_constant(X)\n",
    "y = df['log_wage']\n",
    "\n",
    "# Ajustar el modelo\n",
    "modelo = sm.OLS(y, X).fit()\n",
    "\n",
    "# Mostrar los resultados\n",
    "print(modelo.summary())"
   ]
  },
  {
   "cell_type": "code",
   "execution_count": 24,
   "metadata": {},
   "outputs": [
    {
     "name": "stdout",
     "output_type": "stream",
     "text": [
      "β₁ (coeficiente de educación): 0.0440\n",
      "β₃ (coeficiente de interacción): 0.0032\n",
      "\n",
      "Retorno a la educación = 0.0440 + 0.0032*exper\n"
     ]
    }
   ],
   "source": [
    "# Obtener los coeficientes relevantes\n",
    "beta1 = modelo.params['educ']\n",
    "beta3 = modelo.params['educ_exper']\n",
    "\n",
    "print(f\"β₁ (coeficiente de educación): {beta1:.4f}\")\n",
    "print(f\"β₃ (coeficiente de interacción): {beta3:.4f}\")\n",
    "print(\"\\nRetorno a la educación = {:.4f} + {:.4f}*exper\".format(beta1, beta3))"
   ]
  },
  {
   "cell_type": "code",
   "execution_count": 25,
   "metadata": {},
   "outputs": [
    {
     "name": "stdout",
     "output_type": "stream",
     "text": [
      "Estadístico t para β₃: 2.0946\n",
      "Valor p: 0.0365\n"
     ]
    }
   ],
   "source": [
    "# Realizar la prueba t para β₃\n",
    "t_stat = modelo.tvalues['educ_exper']\n",
    "p_valor = modelo.pvalues['educ_exper']\n",
    "\n",
    "print(f\"Estadístico t para β₃: {t_stat:.4f}\")\n",
    "print(f\"Valor p: {p_valor:.4f}\")"
   ]
  },
  {
   "cell_type": "code",
   "execution_count": null,
   "metadata": {},
   "outputs": [
    {
     "name": "stdout",
     "output_type": "stream",
     "text": [
      "θ₁ (retorno a la educación cuando exper = 10): 0.0761\n",
      "Intervalo de confianza del 95%: [0.0631, 0.0890]\n"
     ]
    }
   ],
   "source": [
    "# Calcular θ₁ = β₁ + 10β₃\n",
    "theta1 = beta1 + 10 * beta3\n",
    "\n",
    "# Para el intervalo de confianza, necesitamos reescribir el modelo\n",
    "df['exper_menos_10'] = df['exper'] - 10\n",
    "df['educ_exper_menos_10'] = df['educ'] * df['exper_menos_10']\n",
    "\n",
    "# Ajustar el modelo transformado\n",
    "X_transformed = df[['educ', 'exper_menos_10', 'educ_exper_menos_10']]\n",
    "X_transformed = sm.add_constant(X_transformed)\n",
    "modelo_transformed = sm.OLS(y, X_transformed).fit()\n",
    "\n",
    "# Obtener el intervalo de confianza para θ₁\n",
    "theta1_se = modelo_transformed.bse['educ']\n",
    "theta1_ci = [\n",
    "    theta1 - 1.96 * theta1_se,\n",
    "    theta1 + 1.96 * theta1_se\n",
    "]\n",
    "\n",
    "print(f\"θ₁ (retorno a la educación cuando exper = 10): {theta1:.4f}\")\n",
    "print(f\"Intervalo de confianza del 95%: [{theta1_ci[0]:.4f}, {theta1_ci[1]:.4f}]\")"
   ]
  },
  {
   "cell_type": "markdown",
   "metadata": {},
   "source": [
    "The return to education is the percentage increase in wages that a person can expect to earn for each additional year of schooling completed.\n",
    "\n",
    "The base return to education (when exper = 0) is 4.40%\n",
    "\n",
    "For each year of experience, this return increases by 0.32 percentage points\n",
    "\n",
    "With 10 years of experience, the return to education is approximately 7.61%\n",
    "\n",
    "We can be 95% confident that the true return to education with 10 years of experience lies between 6.31% and 8.90%\n"
   ]
  },
  {
   "cell_type": "markdown",
   "metadata": {},
   "source": [
    "## C4\n",
    "\n",
    "This exercise explores the relationship between SAT scores and high school class size using data from GPA2.RAW. We'll estimate a quadratic model to determine if there's an optimal high school size that maximizes SAT performance. The analysis includes both linear and logarithmic specifications of the dependent variable (SAT scores) to test the robustness of our findings.\n"
   ]
  },
  {
   "cell_type": "code",
   "execution_count": 28,
   "metadata": {},
   "outputs": [
    {
     "name": "stdout",
     "output_type": "stream",
     "text": [
      "['sat', 'tothrs', 'colgpa', 'athlete', 'verbmath', 'hsize', 'hsrank', 'hsperc', 'female', 'white', 'black', 'hsizesq']\n"
     ]
    }
   ],
   "source": [
    "import wooldridge as woo\n",
    "import numpy as np\n",
    "import pandas as pd\n",
    "from scipy import stats\n",
    "import statsmodels.api as sm\n",
    "\n",
    "# Load the data\n",
    "data = woo.dataWoo('gpa2')\n",
    "\n",
    "print(data.columns.tolist())"
   ]
  },
  {
   "cell_type": "code",
   "execution_count": 29,
   "metadata": {},
   "outputs": [
    {
     "name": "stdout",
     "output_type": "stream",
     "text": [
      "Model 1 Results (SAT vs High School Size):\n",
      "                            OLS Regression Results                            \n",
      "==============================================================================\n",
      "Dep. Variable:                    sat   R-squared:                       0.008\n",
      "Model:                            OLS   Adj. R-squared:                  0.007\n",
      "Method:                 Least Squares   F-statistic:                     15.93\n",
      "Date:                Mon, 09 Dec 2024   Prob (F-statistic):           1.28e-07\n",
      "Time:                        16:07:04   Log-Likelihood:                -26280.\n",
      "No. Observations:                4137   AIC:                         5.257e+04\n",
      "Df Residuals:                    4134   BIC:                         5.258e+04\n",
      "Df Model:                           2                                         \n",
      "Covariance Type:            nonrobust                                         \n",
      "==============================================================================\n",
      "                 coef    std err          t      P>|t|      [0.025      0.975]\n",
      "------------------------------------------------------------------------------\n",
      "const        997.9805      6.203    160.875      0.000     985.818    1010.143\n",
      "hsize         19.8145      3.991      4.965      0.000      11.991      27.638\n",
      "hsizesq       -2.1306      0.549     -3.881      0.000      -3.207      -1.054\n",
      "==============================================================================\n",
      "Omnibus:                        9.736   Durbin-Watson:                   1.956\n",
      "Prob(Omnibus):                  0.008   Jarque-Bera (JB):               10.476\n",
      "Skew:                           0.078   Prob(JB):                      0.00531\n",
      "Kurtosis:                       3.191   Cond. No.                         56.6\n",
      "==============================================================================\n",
      "\n",
      "Notes:\n",
      "[1] Standard Errors assume that the covariance matrix of the errors is correctly specified.\n"
     ]
    }
   ],
   "source": [
    "X = sm.add_constant(data[['hsize', 'hsizesq']])\n",
    "model1 = sm.OLS(data['sat'], X).fit()\n",
    "\n",
    "# Print results\n",
    "print(\"Model 1 Results (SAT vs High School Size):\")\n",
    "print(model1.summary())"
   ]
  },
  {
   "cell_type": "code",
   "execution_count": 30,
   "metadata": {},
   "outputs": [
    {
     "name": "stdout",
     "output_type": "stream",
     "text": [
      "\n",
      "Optimal high school size (in hundreds): 4.65\n"
     ]
    }
   ],
   "source": [
    "# Calculate optimal size\n",
    "b1 = model1.params['hsize']\n",
    "b2 = model1.params['hsizesq']\n",
    "optimal_size = -b1/(2*b2)\n",
    "print(f\"\\nOptimal high school size (in hundreds): {optimal_size:.2f}\")"
   ]
  },
  {
   "cell_type": "code",
   "execution_count": 31,
   "metadata": {},
   "outputs": [
    {
     "name": "stdout",
     "output_type": "stream",
     "text": [
      "\n",
      "Model 2 Results (log(SAT) vs High School Size):\n",
      "                            OLS Regression Results                            \n",
      "==============================================================================\n",
      "Dep. Variable:                log_sat   R-squared:                       0.008\n",
      "Model:                            OLS   Adj. R-squared:                  0.007\n",
      "Method:                 Least Squares   F-statistic:                     16.19\n",
      "Date:                Mon, 09 Dec 2024   Prob (F-statistic):           9.89e-08\n",
      "Time:                        16:09:33   Log-Likelihood:                 2332.6\n",
      "No. Observations:                4137   AIC:                            -4659.\n",
      "Df Residuals:                    4134   BIC:                            -4640.\n",
      "Df Model:                           2                                         \n",
      "Covariance Type:            nonrobust                                         \n",
      "==============================================================================\n",
      "                 coef    std err          t      P>|t|      [0.025      0.975]\n",
      "------------------------------------------------------------------------------\n",
      "const          6.8960      0.006   1121.032      0.000       6.884       6.908\n",
      "hsize          0.0196      0.004      4.954      0.000       0.012       0.027\n",
      "hsizesq       -0.0021      0.001     -3.834      0.000      -0.003      -0.001\n",
      "==============================================================================\n",
      "Omnibus:                      189.839   Durbin-Watson:                   1.952\n",
      "Prob(Omnibus):                  0.000   Jarque-Bera (JB):              277.089\n",
      "Skew:                          -0.424   Prob(JB):                     6.78e-61\n",
      "Kurtosis:                       3.942   Cond. No.                         56.6\n",
      "==============================================================================\n",
      "\n",
      "Notes:\n",
      "[1] Standard Errors assume that the covariance matrix of the errors is correctly specified.\n",
      "\n",
      "Optimal high school size (log model, in hundreds): 4.70\n"
     ]
    }
   ],
   "source": [
    "# Part (iv): Log model estimation\n",
    "data['log_sat'] = np.log(data['sat'])\n",
    "model2 = sm.OLS(data['log_sat'], X).fit()\n",
    "\n",
    "# Print results\n",
    "print(\"\\nModel 2 Results (log(SAT) vs High School Size):\")\n",
    "print(model2.summary())\n",
    "\n",
    "# Calculate optimal size for log model\n",
    "b1_log = model2.params['hsize']\n",
    "b2_log = model2.params['hsizesq']\n",
    "optimal_size_log = -b1_log/(2*b2_log)\n",
    "print(f\"\\nOptimal high school size (log model, in hundreds): {optimal_size_log:.2f}\")"
   ]
  },
  {
   "cell_type": "code",
   "execution_count": 32,
   "metadata": {},
   "outputs": [
    {
     "data": {
      "image/png": "[encoded data removed]",
      "text/plain": [
       "<Figure size 1000x600 with 1 Axes>"
      ]
     },
     "metadata": {},
     "output_type": "display_data"
    }
   ],
   "source": [
    "import matplotlib.pyplot as plt\n",
    "import numpy as np\n",
    "\n",
    "# Crear un rango de valores para hsize\n",
    "hsize_range = np.linspace(0, 10, 100)  # De 0 a 1000 estudiantes (en cientos)\n",
    "\n",
    "# Calcular los valores predichos usando los coeficientes del modelo\n",
    "b0 = model1.params['const']  # Intercepto\n",
    "b1 = model1.params['hsize']  # Coeficiente lineal\n",
    "b2 = model1.params['hsizesq']  # Coeficiente cuadrático\n",
    "\n",
    "predicted_sat = b0 + b1*hsize_range + b2*hsize_range**2\n",
    "\n",
    "# Crear el gráfico\n",
    "plt.figure(figsize=(10, 6))\n",
    "\n",
    "# Graficar la curva cuadrática\n",
    "plt.plot(hsize_range*100, predicted_sat, 'b-', label='Fitted quadratic')\n",
    "\n",
    "# Marcar el punto óptimo\n",
    "optimal_size = -b1/(2*b2)\n",
    "optimal_sat = b0 + b1*optimal_size + b2*optimal_size**2\n",
    "plt.plot(optimal_size*100, optimal_sat, 'ro', label='Optimal point')\n",
    "\n",
    "# Añadir los datos originales como scatter plot\n",
    "plt.scatter(data['hsize']*100, data['sat'], alpha=0.1, color='gray', label='Raw data')\n",
    "\n",
    "# Personalizar el gráfico\n",
    "plt.xlabel('High School Size (number of students)')\n",
    "plt.ylabel('SAT Score')\n",
    "plt.title('SAT Scores vs High School Size with Quadratic Fit')\n",
    "plt.legend()\n",
    "plt.grid(True, alpha=0.3)\n",
    "\n",
    "# Añadir una anotación para el punto óptimo\n",
    "plt.annotate(f'Optimal size: {optimal_size*100:.0f} students\\nSAT score: {optimal_sat:.0f}',\n",
    "             xy=(optimal_size*100, optimal_sat),\n",
    "             xytext=(10, 10), textcoords='offset points',\n",
    "             bbox=dict(facecolor='white', edgecolor='gray', alpha=0.8))\n",
    "\n",
    "plt.show()"
   ]
  },
  {
   "cell_type": "markdown",
   "metadata": {},
   "source": [
    "i. The cuadratic term is statistically significant.\n",
    "\n",
    "ii. The optimal school size is 465, as this is the max point after which the scores begin to lower.\n",
    "\n",
    "iii. SAT isn't representative to all last years' students because:\n",
    "\n",
    "    1. Selection Bias,\n",
    "\n",
    "    2. School participation variation\n",
    "    \n",
    "iv. The logarithmic model is similar to the base model. Both have similar optimal points, which suggests that this analysis is robust, even though its general explicative power is low as shown by the low R^2"
   ]
  },
  {
   "cell_type": "markdown",
   "metadata": {},
   "source": [
    "# C6\n",
    "\n",
    "Housing Price Analysis with Semi-Log Model\n",
    "\n",
    "This exercise analyzes housing prices using the HPRICE1 dataset from Wooldridge. We'll estimate a log-linear model to examine the relationship between house prices and characteristics such as lot size, square footage, and number of bedrooms. The analysis includes prediction and model comparison to understand which functional form better explains variation in housing prices.\n"
   ]
  },
  {
   "cell_type": "code",
   "execution_count": 33,
   "metadata": {},
   "outputs": [
    {
     "name": "stdout",
     "output_type": "stream",
     "text": [
      "\n",
      "Log-Linear Model Results:\n",
      "                            OLS Regression Results                            \n",
      "==============================================================================\n",
      "Dep. Variable:              log_price   R-squared:                       0.643\n",
      "Model:                            OLS   Adj. R-squared:                  0.630\n",
      "Method:                 Least Squares   F-statistic:                     50.42\n",
      "Date:                Mon, 09 Dec 2024   Prob (F-statistic):           9.74e-19\n",
      "Time:                        16:41:42   Log-Likelihood:                 25.861\n",
      "No. Observations:                  88   AIC:                            -43.72\n",
      "Df Residuals:                      84   BIC:                            -33.81\n",
      "Df Model:                           3                                         \n",
      "Covariance Type:            nonrobust                                         \n",
      "===============================================================================\n",
      "                  coef    std err          t      P>|t|      [0.025      0.975]\n",
      "-------------------------------------------------------------------------------\n",
      "const          -1.2970      0.651     -1.992      0.050      -2.592      -0.002\n",
      "log_lotsize     0.1680      0.038      4.388      0.000       0.092       0.244\n",
      "log_sqrft       0.7002      0.093      7.540      0.000       0.516       0.885\n",
      "bdrms           0.0370      0.028      1.342      0.183      -0.018       0.092\n",
      "==============================================================================\n",
      "Omnibus:                       12.060   Durbin-Watson:                   2.089\n",
      "Prob(Omnibus):                  0.002   Jarque-Bera (JB):               34.889\n",
      "Skew:                          -0.188   Prob(JB):                     2.65e-08\n",
      "Kurtosis:                       6.062   Cond. No.                         410.\n",
      "==============================================================================\n",
      "\n",
      "Notes:\n",
      "[1] Standard Errors assume that the covariance matrix of the errors is correctly specified.\n",
      "\n",
      "Prediction Results:\n",
      "Predicted log(price): 5.9929\n",
      "Predicted price: $407.14\n",
      "\n",
      "Linear Model Results:\n",
      "                            OLS Regression Results                            \n",
      "==============================================================================\n",
      "Dep. Variable:                  price   R-squared:                       0.672\n",
      "Model:                            OLS   Adj. R-squared:                  0.661\n",
      "Method:                 Least Squares   F-statistic:                     57.46\n",
      "Date:                Mon, 09 Dec 2024   Prob (F-statistic):           2.70e-20\n",
      "Time:                        16:41:43   Log-Likelihood:                -482.88\n",
      "No. Observations:                  88   AIC:                             973.8\n",
      "Df Residuals:                      84   BIC:                             983.7\n",
      "Df Model:                           3                                         \n",
      "Covariance Type:            nonrobust                                         \n",
      "==============================================================================\n",
      "                 coef    std err          t      P>|t|      [0.025      0.975]\n",
      "------------------------------------------------------------------------------\n",
      "const        -21.7703     29.475     -0.739      0.462     -80.385      36.844\n",
      "lotsize        0.0021      0.001      3.220      0.002       0.001       0.003\n",
      "sqrft          0.1228      0.013      9.275      0.000       0.096       0.149\n",
      "bdrms         13.8525      9.010      1.537      0.128      -4.065      31.770\n",
      "==============================================================================\n",
      "Omnibus:                       20.398   Durbin-Watson:                   2.110\n",
      "Prob(Omnibus):                  0.000   Jarque-Bera (JB):               32.278\n",
      "Skew:                           0.961   Prob(JB):                     9.79e-08\n",
      "Kurtosis:                       5.261   Cond. No.                     6.41e+04\n",
      "==============================================================================\n",
      "\n",
      "Notes:\n",
      "[1] Standard Errors assume that the covariance matrix of the errors is correctly specified.\n",
      "[2] The condition number is large, 6.41e+04. This might indicate that there are\n",
      "strong multicollinearity or other numerical problems.\n"
     ]
    }
   ],
   "source": [
    "# Import necessary libraries\n",
    "import wooldridge as woo\n",
    "import numpy as np\n",
    "import pandas as pd\n",
    "from scipy import stats\n",
    "import statsmodels.api as sm\n",
    "\n",
    "# Load the data\n",
    "data = woo.data('hprice1')\n",
    "\n",
    "# Create log transformed variables\n",
    "data['log_price'] = np.log(data['price'])\n",
    "data['log_lotsize'] = np.log(data['lotsize'])\n",
    "data['log_sqrft'] = np.log(data['sqrft'])\n",
    "\n",
    "# Model 1: Log-linear model\n",
    "X = sm.add_constant(data[['log_lotsize', 'log_sqrft', 'bdrms']])\n",
    "y = data['log_price']\n",
    "\n",
    "model_log = sm.OLS(y, X).fit()\n",
    "print(\"\\nLog-Linear Model Results:\")\n",
    "print(model_log.summary())\n",
    "\n",
    "# Part (ii): Prediction for specific values\n",
    "# Create new observation\n",
    "new_values = pd.DataFrame({\n",
    "    'const': [1],\n",
    "    'log_lotsize': [np.log(20000)],\n",
    "    'log_sqrft': [np.log(2500)],\n",
    "    'bdrms': [4]\n",
    "})\n",
    "\n",
    "# Get predicted log(price)\n",
    "log_price_pred = model_log.predict(new_values)\n",
    "\n",
    "# Calculate predicted price using the correction factor\n",
    "sigma2 = (model_log.resid ** 2).mean()  # estimate of error variance\n",
    "price_pred = np.exp(log_price_pred) * np.exp(sigma2/2)\n",
    "\n",
    "print(\"\\nPrediction Results:\")\n",
    "print(f\"Predicted log(price): {log_price_pred[0]:.4f}\")\n",
    "print(f\"Predicted price: ${price_pred[0]:,.2f}\")\n",
    "\n",
    "# Model 2: Linear model for comparison\n",
    "X_linear = sm.add_constant(data[['lotsize', 'sqrft', 'bdrms']])\n",
    "y_linear = data['price']\n",
    "\n",
    "model_linear = sm.OLS(y_linear, X_linear).fit()\n",
    "print(\"\\nLinear Model Results:\")\n",
    "print(model_linear.summary())"
   ]
  },
  {
   "cell_type": "markdown",
   "metadata": {},
   "source": [
    "i\n",
    "- The model explains 64.3% of the variation in log(price) (R² = 0.643)\n",
    "- Both lot size and square footage are highly significant (p < 0.001)\n",
    "- The coefficients can be interpreted as elasticities for log-transformed variables:\n",
    "\n",
    "- A 1% increase in lot size is associated with a 0.168% increase in price\n",
    "- A 1% increase in square footage is associated with a 0.700% increase in price\n",
    "- An additional bedroom is associated with a 3.7% increase in price (but not statistically significant at conventional levels, p = 0 183)\n",
    "\n",
    "ii\n",
    "For a house with:\n",
    "\n",
    "- lotsize = 20,000\n",
    "- sqrft = 2,500\n",
    "- bdrms = 4\n",
    "\n",
    "The model predicts:\n",
    "\n",
    "- log(price) = 5.9929\n",
    "- Predicted price = $407.14 thousand \n",
    "\n",
    "(iii) Model Comparison (Log-Linear vs Linear):\n",
    "\n",
    "R-squared Comparison:\n",
    "\n",
    "\n",
    "Linear model: R² = 0.672 (67.2%)\n",
    "Log-linear model: R² = 0.643 (64.3%)\n",
    "\n",
    "\n",
    "Model Diagnostics:\n",
    "Linear Model:\n",
    "\n",
    "Shows signs of multicollinearity (condition number = 64,100)\n",
    "Residuals show significant non-normality (JB test p-value = 9.79e-08)\n",
    "Positive skewness (0.961)\n",
    "\n",
    "Log-Linear Model:\n",
    "\n",
    "Better condition number (410)\n",
    "Still shows non-normal residuals (JB test p-value = 2.65e-08)\n",
    "Slight negative skewness (-0.188)"
   ]
  },
  {
   "cell_type": "markdown",
   "metadata": {},
   "source": [
    "# C6\n",
    "**Analysis of Campaign Expenditure Effects on Voting Outcomes**\n",
    "\n",
    "This exercise analyzes how campaign expenditures affect voting outcomes using the VOTE1 dataset. We'll examine the interaction between candidates' campaign spending and their vote shares, controlling for party strength. The model includes interaction terms between expenditures and explores how changes in one candidate's spending affects their opponent's vote share. We'll also analyze alternative specifications using spending shares.\n"
   ]
  },
  {
   "cell_type": "code",
   "execution_count": 34,
   "metadata": {},
   "outputs": [
    {
     "name": "stdout",
     "output_type": "stream",
     "text": [
      "                            OLS Regression Results                            \n",
      "==============================================================================\n",
      "Dep. Variable:                  voteA   R-squared:                       0.571\n",
      "Model:                            OLS   Adj. R-squared:                  0.561\n",
      "Method:                 Least Squares   F-statistic:                     55.86\n",
      "Date:                Mon, 09 Dec 2024   Prob (F-statistic):           6.77e-30\n",
      "Time:                        16:51:45   Log-Likelihood:                -659.75\n",
      "No. Observations:                 173   AIC:                             1329.\n",
      "Df Residuals:                     168   BIC:                             1345.\n",
      "Df Model:                           4                                         \n",
      "Covariance Type:            nonrobust                                         \n",
      "===================================================================================\n",
      "                      coef    std err          t      P>|t|      [0.025      0.975]\n",
      "-----------------------------------------------------------------------------------\n",
      "const              32.1174      4.591      6.995      0.000      23.054      41.181\n",
      "prtystrA            0.3419      0.088      3.886      0.000       0.168       0.516\n",
      "expendA             0.0383      0.005      7.718      0.000       0.028       0.048\n",
      "expendB            -0.0317      0.005     -6.915      0.000      -0.041      -0.023\n",
      "expendA_expendB -6.629e-06   7.19e-06     -0.923      0.358   -2.08e-05    7.56e-06\n",
      "==============================================================================\n",
      "Omnibus:                        1.031   Durbin-Watson:                   1.362\n",
      "Prob(Omnibus):                  0.597   Jarque-Bera (JB):                1.007\n",
      "Skew:                          -0.004   Prob(JB):                        0.604\n",
      "Kurtosis:                       2.626   Cond. No.                     1.60e+06\n",
      "==============================================================================\n",
      "\n",
      "Notes:\n",
      "[1] Standard Errors assume that the covariance matrix of the errors is correctly specified.\n",
      "[2] The condition number is large, 1.6e+06. This might indicate that there are\n",
      "strong multicollinearity or other numerical problems.\n",
      "\n",
      "Average expendA: 310.6110049300111\n",
      "\n",
      "Model with shareA:\n",
      "                            OLS Regression Results                            \n",
      "==============================================================================\n",
      "Dep. Variable:                  voteA   R-squared:                       0.868\n",
      "Model:                            OLS   Adj. R-squared:                  0.865\n",
      "Method:                 Least Squares   F-statistic:                     276.5\n",
      "Date:                Mon, 09 Dec 2024   Prob (F-statistic):           9.03e-73\n",
      "Time:                        16:51:45   Log-Likelihood:                -557.66\n",
      "No. Observations:                 173   AIC:                             1125.\n",
      "Df Residuals:                     168   BIC:                             1141.\n",
      "Df Model:                           4                                         \n",
      "Covariance Type:            nonrobust                                         \n",
      "==============================================================================\n",
      "                 coef    std err          t      P>|t|      [0.025      0.975]\n",
      "------------------------------------------------------------------------------\n",
      "const         18.1954      2.568      7.086      0.000      13.126      23.265\n",
      "prtystrA       0.1573      0.050      3.165      0.002       0.059       0.255\n",
      "expendA       -0.0067      0.003     -2.354      0.020      -0.012      -0.001\n",
      "expendB        0.0043      0.003      1.637      0.104      -0.001       0.009\n",
      "shareA        49.4394      2.531     19.535      0.000      44.443      54.436\n",
      "==============================================================================\n",
      "Omnibus:                       36.148   Durbin-Watson:                   1.743\n",
      "Prob(Omnibus):                  0.000   Jarque-Bera (JB):              112.238\n",
      "Skew:                           0.789   Prob(JB):                     4.24e-25\n",
      "Kurtosis:                       6.616   Cond. No.                     3.45e+03\n",
      "==============================================================================\n",
      "\n",
      "Notes:\n",
      "[1] Standard Errors assume that the covariance matrix of the errors is correctly specified.\n",
      "[2] The condition number is large, 3.45e+03. This might indicate that there are\n",
      "strong multicollinearity or other numerical problems.\n"
     ]
    }
   ],
   "source": [
    "# Import necessary libraries\n",
    "import wooldridge as woo\n",
    "import numpy as np\n",
    "import pandas as pd\n",
    "import statsmodels.api as sm\n",
    "\n",
    "# Load the VOTE1 dataset\n",
    "data = woo.data('vote1')\n",
    "\n",
    "# Create interaction term\n",
    "data['expendA_expendB'] = data['expendA'] * data['expendB']\n",
    "\n",
    "# Model 1: With interaction term\n",
    "X = sm.add_constant(data[['prtystrA', 'expendA', 'expendB', 'expendA_expendB']])\n",
    "y = data['voteA']\n",
    "\n",
    "# Fit the model\n",
    "model1 = sm.OLS(y, X).fit()\n",
    "\n",
    "# Print results\n",
    "print(model1.summary())\n",
    "\n",
    "# Calculate average expendA\n",
    "avg_expendA = data['expendA'].mean()\n",
    "print(\"\\nAverage expendA:\", avg_expendA)\n",
    "\n",
    "# Model 2: With shareA\n",
    "# Calculate shareA\n",
    "data['shareA'] = data['expendA'] / (data['expendA'] + data['expendB'])\n",
    "\n",
    "# Fit model with shareA instead of interaction\n",
    "X2 = sm.add_constant(data[['prtystrA', 'expendA', 'expendB', 'shareA']])\n",
    "model2 = sm.OLS(y, X2).fit()\n",
    "\n",
    "print(\"\\nModel with shareA:\")\n",
    "print(model2.summary())"
   ]
  },
  {
   "cell_type": "code",
   "execution_count": 35,
   "metadata": {},
   "outputs": [
    {
     "name": "stdout",
     "output_type": "stream",
     "text": [
      "Test F de significancia conjunta para expendB y su interacción:\n",
      "<F test: F=68.06976473972558, p=2.227709760311783e-22, df_denom=168, df_num=2>\n",
      "\n",
      "Efectos marginales en puntos específicos:\n",
      "\n",
      "En expendA = 0.30:\n",
      "Efecto Marginal = -0.0317\n",
      "Error Estándar = 0.0046\n",
      "Estadístico t = -6.9181\n",
      "Valor p = 0.0000\n",
      "\n",
      "En expendA = 310.61:\n",
      "Efecto Marginal = -0.0338\n",
      "Error Estándar = 0.0032\n",
      "Estadístico t = -10.4212\n",
      "Valor p = 0.0000\n",
      "\n",
      "En expendA = 1470.67:\n",
      "Efecto Marginal = -0.0415\n",
      "Error Estándar = 0.0077\n",
      "Estadístico t = -5.3799\n",
      "Valor p = 0.0000\n"
     ]
    },
    {
     "data": {
      "image/png": "[encoded data removed]",
      "text/plain": [
       "<Figure size 1000x600 with 1 Axes>"
      ]
     },
     "metadata": {},
     "output_type": "display_data"
    }
   ],
   "source": [
    "import numpy as np\n",
    "import pandas as pd\n",
    "import statsmodels.api as sm\n",
    "from scipy import stats\n",
    "import matplotlib.pyplot as plt\n",
    "\n",
    "# Asumiendo que ya tenemos el modelo1 del código anterior\n",
    "# Realizamos el test F para expendB y su interacción\n",
    "\n",
    "# 1. Test de significancia conjunta\n",
    "# Creamos la matriz de restricciones para expendB y expendA_expendB\n",
    "R = np.array([[0, 0, 0, 1, 0],  # expendB\n",
    "              [0, 0, 0, 0, 1]]) # expendA_expendB\n",
    "              \n",
    "# Realizamos el test F\n",
    "f_test = model1.f_test(R)\n",
    "\n",
    "# 2. Calculamos el efecto marginal en diferentes niveles de expendA\n",
    "# Usamos un rango de valores de expendA\n",
    "expendA_range = np.linspace(data['expendA'].min(), data['expendA'].max(), 100)\n",
    "\n",
    "# Obtenemos los coeficientes y su matriz de covarianza\n",
    "beta_expendB = model1.params['expendB']\n",
    "beta_interaction = model1.params['expendA_expendB']\n",
    "cov = model1.cov_params().loc[['expendB', 'expendA_expendB'], ['expendB', 'expendA_expendB']]\n",
    "\n",
    "# Calculamos el efecto marginal y su error estándar para cada valor de expendA\n",
    "marginal_effects = []\n",
    "std_errors = []\n",
    "\n",
    "for exp_a in expendA_range:\n",
    "    # Efecto marginal\n",
    "    marg_effect = beta_expendB + beta_interaction * exp_a\n",
    "    \n",
    "    # Error estándar del efecto marginal\n",
    "    var = (cov.iloc[0,0] + \n",
    "           exp_a**2 * cov.iloc[1,1] + \n",
    "           2 * exp_a * cov.iloc[0,1])\n",
    "    se = np.sqrt(var)\n",
    "    \n",
    "    marginal_effects.append(marg_effect)\n",
    "    std_errors.append(se)\n",
    "\n",
    "# Convertimos a arrays de numpy\n",
    "marginal_effects = np.array(marginal_effects)\n",
    "std_errors = np.array(std_errors)\n",
    "\n",
    "# Calculamos intervalos de confianza (95%)\n",
    "ci_lower = marginal_effects - 1.96 * std_errors\n",
    "ci_upper = marginal_effects + 1.96 * std_errors\n",
    "\n",
    "# Creamos el gráfico\n",
    "plt.figure(figsize=(10, 6))\n",
    "plt.plot(expendA_range, marginal_effects, 'b-', label='Efecto Marginal')\n",
    "plt.fill_between(expendA_range, ci_lower, ci_upper, alpha=0.2, color='b')\n",
    "plt.axhline(y=0, color='r', linestyle='--', alpha=0.5)\n",
    "plt.xlabel('expendA')\n",
    "plt.ylabel('Efecto Marginal de expendB')\n",
    "plt.title('Efecto Marginal de expendB sobre voteA\\ncon Intervalos de Confianza 95%')\n",
    "plt.legend()\n",
    "\n",
    "# Imprimir resultados del test F\n",
    "print(\"Test F de significancia conjunta para expendB y su interacción:\")\n",
    "print(f_test.summary())\n",
    "\n",
    "# Calcular el efecto marginal en algunos puntos específicos\n",
    "points_of_interest = [data['expendA'].min(), data['expendA'].mean(), data['expendA'].max()]\n",
    "print(\"\\nEfectos marginales en puntos específicos:\")\n",
    "for exp_a in points_of_interest:\n",
    "    idx = np.abs(expendA_range - exp_a).argmin()\n",
    "    me = marginal_effects[idx]\n",
    "    se = std_errors[idx]\n",
    "    t_stat = me / se\n",
    "    p_val = 2 * (1 - stats.t.cdf(abs(t_stat), model1.df_resid))\n",
    "    print(f\"\\nEn expendA = {exp_a:.2f}:\")\n",
    "    print(f\"Efecto Marginal = {me:.4f}\")\n",
    "    print(f\"Error Estándar = {se:.4f}\")\n",
    "    print(f\"Estadístico t = {t_stat:.4f}\")\n",
    "    print(f\"Valor p = {p_val:.4f}\")\n",
    "\n",
    "plt.show()"
   ]
  },
  {
   "cell_type": "markdown",
   "metadata": {},
   "source": [
    "(i) The partial effects are:\n",
    "\n",
    "For expendB: ∂voteA/∂expendB = -0.0317 - (6.629e-06)×expendA\n",
    "\n",
    "For expendA: ∂voteA/∂expendA = 0.0383 - (6.629e-06)×expendB\n",
    "\n",
    "The negative sign for β₄ (expendA_expendB) suggests that increased spending by one candidate diminishes the effectiveness of the other candidate's\n",
    "\n",
    "\n",
    "(ii) Although the interaction term alone is not statistically significant (t = -0.923, p = 0.358), the joint F-test for expendB and its interaction with expendA (F = 68.07, p < 0.001) indicates that they are jointly significant. The marginal effects are statistically significant across all levels of expendA, confirming a meaningful interaction between campaign expenditures.\n",
    "\n",
    "(iii) With expendA fixed at 300:\n",
    "∂voteA/∂expendB = -0.0317 - (6.629e-06×300) = -0.0337\n",
    "\n",
    "For a $100,000 increase in expendB, the effect would be:\n",
    "-0.0337 × 100 = -3.37 percentage points in voteA\n",
    "This is a substantial effect, considering typical margins in elections.\n",
    "\n",
    "(iv) With expendB fixed at 100:\n",
    "∂voteA/∂expendA = 0.0383 - (6.629e-06×100) = 0.0376\n",
    "\n",
    "For a $100,000 increase in expendA:\n",
    "0.0376 × 100 = 3.76 percentage points increase in voteA\n",
    "This makes sense as increased spending by candidate A positively affects their vote share.\n",
    "\n",
    "(v) It doesn't make sense to hold both expendA and expendB fixed while changing shareA, as shareA is directly calculated from these values. shareA = expendA/(expendA + expendB)\n",
    "\n"
   ]
  },
  {
   "cell_type": "markdown",
   "metadata": {},
   "source": [
    "## C7\n",
    "This exercise examines the relationship between class attendance and student performance using the ATTEND dataset. We analyze a multiple regression model that includes student attendance rates, prior GPA, ACT scores, and their interactions to determine their effects on standardized final exam scores. The model includes quadratic terms and interaction effects to capture nonlinear relationships between these variables.\n",
    "\n"
   ]
  },
  {
   "cell_type": "code",
   "execution_count": 36,
   "metadata": {},
   "outputs": [
    {
     "name": "stdout",
     "output_type": "stream",
     "text": [
      "                            OLS Regression Results                            \n",
      "==============================================================================\n",
      "Dep. Variable:                stndfnl   R-squared:                       0.229\n",
      "Model:                            OLS   Adj. R-squared:                  0.222\n",
      "Method:                 Least Squares   F-statistic:                     33.25\n",
      "Date:                Mon, 09 Dec 2024   Prob (F-statistic):           3.49e-35\n",
      "Time:                        17:14:23   Log-Likelihood:                -868.90\n",
      "No. Observations:                 680   AIC:                             1752.\n",
      "Df Residuals:                     673   BIC:                             1783.\n",
      "Df Model:                           6                                         \n",
      "Covariance Type:            nonrobust                                         \n",
      "==================================================================================\n",
      "                     coef    std err          t      P>|t|      [0.025      0.975]\n",
      "----------------------------------------------------------------------------------\n",
      "const              2.0503      1.360      1.507      0.132      -0.621       4.721\n",
      "atndrte           -0.0067      0.010     -0.656      0.512      -0.027       0.013\n",
      "priGPA            -1.6285      0.481     -3.386      0.001      -2.573      -0.684\n",
      "ACT               -0.1280      0.098     -1.300      0.194      -0.321       0.065\n",
      "priGPA2            0.2959      0.101      2.928      0.004       0.097       0.494\n",
      "ACT2               0.0045      0.002      2.083      0.038       0.000       0.009\n",
      "priGPA_atndrte     0.0056      0.004      1.294      0.196      -0.003       0.014\n",
      "==============================================================================\n",
      "Omnibus:                        2.581   Durbin-Watson:                   2.279\n",
      "Prob(Omnibus):                  0.275   Jarque-Bera (JB):                2.474\n",
      "Skew:                          -0.095   Prob(JB):                        0.290\n",
      "Kurtosis:                       3.226   Cond. No.                     2.43e+04\n",
      "==============================================================================\n",
      "\n",
      "Notes:\n",
      "[1] Standard Errors assume that the covariance matrix of the errors is correctly specified.\n",
      "[2] The condition number is large, 2.43e+04. This might indicate that there are\n",
      "strong multicollinearity or other numerical problems.\n"
     ]
    }
   ],
   "source": [
    "# Import necessary libraries\n",
    "import wooldridge as woo\n",
    "import numpy as np\n",
    "import pandas as pd\n",
    "import statsmodels.api as sm\n",
    "\n",
    "# Load the data\n",
    "data = woo.data('attend')\n",
    "\n",
    "# Create the variables needed for the regression\n",
    "data['priGPA2'] = data['priGPA']**2\n",
    "data['ACT2'] = data['ACT']**2\n",
    "data['priGPA_atndrte'] = data['priGPA'] * data['atndrte']\n",
    "\n",
    "# Add constant\n",
    "X = sm.add_constant(data[['atndrte', 'priGPA', 'ACT', \n",
    "                         'priGPA2', 'ACT2', 'priGPA_atndrte']])\n",
    "\n",
    "# Fit the model\n",
    "model = sm.OLS(data['stndfnl'], X)\n",
    "results = model.fit()\n",
    "\n",
    "# Print results\n",
    "print(results.summary())\n",
    "\n",
    "# Calculate partial effect when priGPA = 2.59 and atndrte = 82\n",
    "priGPA_mean = 2.59\n",
    "atndrte_mean = 82"
   ]
  },
  {
   "cell_type": "code",
   "execution_count": 37,
   "metadata": {},
   "outputs": [
    {
     "name": "stdout",
     "output_type": "stream",
     "text": [
      "\n",
      "Partial effect at means: 0.36229028965214927\n"
     ]
    }
   ],
   "source": [
    "partial_effect = (results.params['priGPA'] + \n",
    "                 2 * results.params['priGPA2'] * priGPA_mean + \n",
    "                 results.params['priGPA_atndrte'] * atndrte_mean)\n",
    "\n",
    "print(\"\\nPartial effect at means:\", partial_effect)"
   ]
  },
  {
   "cell_type": "code",
   "execution_count": 38,
   "metadata": {},
   "outputs": [
    {
     "name": "stdout",
     "output_type": "stream",
     "text": [
      "\n",
      "Transformed model results:\n",
      "                            OLS Regression Results                            \n",
      "==============================================================================\n",
      "Dep. Variable:                stndfnl   R-squared:                       0.229\n",
      "Model:                            OLS   Adj. R-squared:                  0.222\n",
      "Method:                 Least Squares   F-statistic:                     33.25\n",
      "Date:                Mon, 09 Dec 2024   Prob (F-statistic):           3.49e-35\n",
      "Time:                        17:16:18   Log-Likelihood:                -868.90\n",
      "No. Observations:                 680   AIC:                             1752.\n",
      "Df Residuals:                     673   BIC:                             1783.\n",
      "Df Model:                           6                                         \n",
      "Covariance Type:            nonrobust                                         \n",
      "===========================================================================================\n",
      "                              coef    std err          t      P>|t|      [0.025      0.975]\n",
      "-------------------------------------------------------------------------------------------\n",
      "const                       0.0653      1.446      0.045      0.964      -2.774       2.905\n",
      "atndrte                    -0.0067      0.010     -0.656      0.512      -0.027       0.013\n",
      "priGPA                      0.3623      0.078      4.663      0.000       0.210       0.515\n",
      "ACT                        -0.1280      0.098     -1.300      0.194      -0.321       0.065\n",
      "priGPA_centered2            0.2959      0.101      2.928      0.004       0.097       0.494\n",
      "ACT2                        0.0045      0.002      2.083      0.038       0.000       0.009\n",
      "priGPA_atndrte_centered     0.0056      0.004      1.294      0.196      -0.003       0.014\n",
      "==============================================================================\n",
      "Omnibus:                        2.581   Durbin-Watson:                   2.279\n",
      "Prob(Omnibus):                  0.275   Jarque-Bera (JB):                2.474\n",
      "Skew:                          -0.095   Prob(JB):                        0.290\n",
      "Kurtosis:                       3.226   Cond. No.                     2.37e+04\n",
      "==============================================================================\n",
      "\n",
      "Notes:\n",
      "[1] Standard Errors assume that the covariance matrix of the errors is correctly specified.\n",
      "[2] The condition number is large, 2.37e+04. This might indicate that there are\n",
      "strong multicollinearity or other numerical problems.\n"
     ]
    }
   ],
   "source": [
    "# Create centered variables\n",
    "data['priGPA_centered2'] = (data['priGPA'] - 2.59)**2\n",
    "data['atndrte_centered'] = data['atndrte'] - 82\n",
    "data['priGPA_atndrte_centered'] = data['priGPA'] * data['atndrte_centered']\n",
    "\n",
    "# Fit the transformed model\n",
    "X_transformed = sm.add_constant(data[['atndrte', 'priGPA', 'ACT', \n",
    "                                    'priGPA_centered2', 'ACT2', \n",
    "                                    'priGPA_atndrte_centered']])\n",
    "\n",
    "model_transformed = sm.OLS(data['stndfnl'], X_transformed)\n",
    "results_transformed = model_transformed.fit()\n",
    "\n",
    "print(\"\\nTransformed model results:\")\n",
    "print(results_transformed.summary())"
   ]
  },
  {
   "cell_type": "code",
   "execution_count": 39,
   "metadata": {},
   "outputs": [
    {
     "name": "stdout",
     "output_type": "stream",
     "text": [
      "\n",
      "Double-centered model results:\n",
      "                            OLS Regression Results                            \n",
      "==============================================================================\n",
      "Dep. Variable:                stndfnl   R-squared:                       0.229\n",
      "Model:                            OLS   Adj. R-squared:                  0.222\n",
      "Method:                 Least Squares   F-statistic:                     33.25\n",
      "Date:                Mon, 09 Dec 2024   Prob (F-statistic):           3.49e-35\n",
      "Time:                        17:16:37   Log-Likelihood:                -868.90\n",
      "No. Observations:                 680   AIC:                             1752.\n",
      "Df Residuals:                     673   BIC:                             1783.\n",
      "Df Model:                           6                                         \n",
      "Covariance Type:            nonrobust                                         \n",
      "==================================================================================================\n",
      "                                     coef    std err          t      P>|t|      [0.025      0.975]\n",
      "--------------------------------------------------------------------------------------------------\n",
      "const                             -1.1210      1.124     -0.997      0.319      -3.329       1.087\n",
      "atndrte                            0.0078      0.003      2.938      0.003       0.003       0.013\n",
      "priGPA                             0.3623      0.078      4.663      0.000       0.210       0.515\n",
      "ACT                               -0.1280      0.098     -1.300      0.194      -0.321       0.065\n",
      "priGPA_centered2                   0.2959      0.101      2.928      0.004       0.097       0.494\n",
      "ACT2                               0.0045      0.002      2.083      0.038       0.000       0.009\n",
      "priGPA_atndrte_double_centered     0.0056      0.004      1.294      0.196      -0.003       0.014\n",
      "==============================================================================\n",
      "Omnibus:                        2.581   Durbin-Watson:                   2.279\n",
      "Prob(Omnibus):                  0.275   Jarque-Bera (JB):                2.474\n",
      "Skew:                          -0.095   Prob(JB):                        0.290\n",
      "Kurtosis:                       3.226   Cond. No.                     1.85e+04\n",
      "==============================================================================\n",
      "\n",
      "Notes:\n",
      "[1] Standard Errors assume that the covariance matrix of the errors is correctly specified.\n",
      "[2] The condition number is large, 1.85e+04. This might indicate that there are\n",
      "strong multicollinearity or other numerical problems.\n"
     ]
    }
   ],
   "source": [
    "# Create double-centered interaction\n",
    "data['priGPA_atndrte_double_centered'] = (data['priGPA'] - 2.59) * (data['atndrte'] - 82)\n",
    "\n",
    "X_double_centered = sm.add_constant(data[['atndrte', 'priGPA', 'ACT', \n",
    "                                        'priGPA_centered2', 'ACT2', \n",
    "                                        'priGPA_atndrte_double_centered']])\n",
    "\n",
    "model_double_centered = sm.OLS(data['stndfnl'], X_double_centered)\n",
    "results_double_centered = model_double_centered.fit()\n",
    "\n",
    "print(\"\\nDouble-centered model results:\")\n",
    "print(results_double_centered.summary())"
   ]
  },
  {
   "cell_type": "markdown",
   "metadata": {},
   "source": [
    "i. We estimated the model \n",
    "\n",
    "stndfnl = β₀ + β₁atndrte + β₂priGPA + β₃ACT + β₄priGPA² + β₅ACT² + β₆priGPA·atndrte\n",
    "\n",
    "- The individual coefficients of atndrte and priGPA.attndrte aren't significant individually, but they are jointly significant.\n",
    "\n",
    "ii. The partial effect  ∂stndfnl/∂priGPA = β₂ + 2β₄·priGPA + β₆·atndrte. Evaluating at priGPA = 2.59 and atndrte = 82, we obtain a partial effect of 0.3623. Increasing the previous GPA by 1 point improves the final score by .36 standard deviations.\n",
    "\n",
    "iii. Recentering the model allows us to obtain directly the standard error of the partial effect\n"
   ]
  },
  {
   "cell_type": "markdown",
   "metadata": {},
   "source": [
    "## C8\n",
    "\n",
    "This exercise uses the HPRICE1 dataset to estimate a multiple regression model for house prices. We'll analyze the relationship between house prices and characteristics such as lot size, square footage, and number of bedrooms. The analysis includes point estimation, prediction intervals, and confidence intervals for future house prices. We'll use the specification:\n",
    "\n",
    "price = β₀ + β₁lotsize + β₂sqrft + β₃bdrms + u"
   ]
  },
  {
   "cell_type": "code",
   "execution_count": 49,
   "metadata": {},
   "outputs": [
    {
     "name": "stdout",
     "output_type": "stream",
     "text": [
      "\n",
      "Resultados de la predicción:\n",
      "Precio predicho: $336.71\n",
      "\n",
      "Intervalo de predicción del 95%:\n",
      "Límite inferior: $216.82\n",
      "Límite superior: $456.59\n",
      "\n",
      "Intervalo de confianza del 95% para la media condicional:\n",
      "Límite inferior: $322.04\n",
      "Límite superior: $351.37\n"
     ]
    }
   ],
   "source": [
    "# Import necessary libraries\n",
    "import wooldridge as woo\n",
    "import statsmodels.api as sm\n",
    "import numpy as np\n",
    "import pandas as pd\n",
    "from scipy import stats\n",
    "\n",
    "# Load the data\n",
    "data = woo.data('hprice1')\n",
    "\n",
    "# Prepare the variables\n",
    "X = data[['lotsize', 'sqrft', 'bdrms']]\n",
    "X = sm.add_constant(X)\n",
    "y = data['price']\n",
    "\n",
    "# Fit the model\n",
    "model = sm.OLS(y, X).fit()\n",
    "\n",
    "# Create prediction data for the specific house\n",
    "predict_data = pd.DataFrame({\n",
    "    'const': [1],\n",
    "    'lotsize': [10000],\n",
    "    'sqrft': [2300],\n",
    "    'bdrms': [4]\n",
    "})\n",
    "\n",
    "# Get point prediction\n",
    "point_pred = model.predict(predict_data)\n",
    "\n",
    "# Calculate prediction interval\n",
    "X_pred = predict_data.values  # Convert to numpy array\n",
    "X_orig = X.values  # Convert original X to numpy array\n",
    "mse = model.mse_resid\n",
    "\n",
    "# Calculate variance of prediction\n",
    "X_pred_var = mse * (1 + X_pred.dot(np.linalg.inv(X_orig.T.dot(X_orig))).dot(X_pred.T))\n",
    "pred_se = np.sqrt(X_pred_var[0,0])\n",
    "\n",
    "# Get degrees of freedom\n",
    "df = model.df_resid\n",
    "\n",
    "# Calculate t-critical value for 95% confidence\n",
    "t_crit = stats.t.ppf(0.975, df)\n",
    "\n",
    "# Calculate prediction interval\n",
    "pred_lower = point_pred - t_crit * pred_se\n",
    "pred_upper = point_pred + t_crit * pred_se\n",
    "\n",
    "print(\"\\nResultados de la predicción:\")\n",
    "print(f\"Precio predicho: ${round(point_pred[0], 2):,.2f}\")\n",
    "print(f\"\\nIntervalo de predicción del 95%:\")\n",
    "print(f\"Límite inferior: ${round(pred_lower[0], 2):,.2f}\")\n",
    "print(f\"Límite superior: ${round(pred_upper[0], 2):,.2f}\")\n",
    "\n",
    "# También calculemos el error estándar de la media condicional\n",
    "mean_se = np.sqrt(mse * X_pred.dot(np.linalg.inv(X_orig.T.dot(X_orig))).dot(X_pred.T))[0,0]\n",
    "mean_lower = point_pred - t_crit * mean_se\n",
    "mean_upper = point_pred + t_crit * mean_se\n",
    "\n",
    "print(f\"\\nIntervalo de confianza del 95% para la media condicional:\")\n",
    "print(f\"Límite inferior: ${round(mean_lower[0], 2):,.2f}\")\n",
    "print(f\"Límite superior: ${round(mean_upper[0], 2):,.2f}\")"
   ]
  },
  {
   "cell_type": "code",
   "execution_count": 50,
   "metadata": {},
   "outputs": [
    {
     "name": "stdout",
     "output_type": "stream",
     "text": [
      "Resumen del Modelo de Regresión:\n",
      "                            OLS Regression Results                            \n",
      "==============================================================================\n",
      "Dep. Variable:                  price   R-squared:                       0.672\n",
      "Model:                            OLS   Adj. R-squared:                  0.661\n",
      "Method:                 Least Squares   F-statistic:                     57.46\n",
      "Date:                Mon, 09 Dec 2024   Prob (F-statistic):           2.70e-20\n",
      "Time:                        17:46:22   Log-Likelihood:                -482.88\n",
      "No. Observations:                  88   AIC:                             973.8\n",
      "Df Residuals:                      84   BIC:                             983.7\n",
      "Df Model:                           3                                         \n",
      "Covariance Type:            nonrobust                                         \n",
      "==============================================================================\n",
      "                 coef    std err          t      P>|t|      [0.025      0.975]\n",
      "------------------------------------------------------------------------------\n",
      "const        -21.7703     29.475     -0.739      0.462     -80.385      36.844\n",
      "lotsize        0.0021      0.001      3.220      0.002       0.001       0.003\n",
      "sqrft          0.1228      0.013      9.275      0.000       0.096       0.149\n",
      "bdrms         13.8525      9.010      1.537      0.128      -4.065      31.770\n",
      "==============================================================================\n",
      "Omnibus:                       20.398   Durbin-Watson:                   2.110\n",
      "Prob(Omnibus):                  0.000   Jarque-Bera (JB):               32.278\n",
      "Skew:                           0.961   Prob(JB):                     9.79e-08\n",
      "Kurtosis:                       5.261   Cond. No.                     6.41e+04\n",
      "==============================================================================\n",
      "\n",
      "Notes:\n",
      "[1] Standard Errors assume that the covariance matrix of the errors is correctly specified.\n",
      "[2] The condition number is large, 6.41e+04. This might indicate that there are\n",
      "strong multicollinearity or other numerical problems.\n"
     ]
    }
   ],
   "source": [
    "# Imprimir el resumen del modelo\n",
    "print(\"Resumen del Modelo de Regresión:\")\n",
    "print(model.summary())\n",
    "\n",
    "# Luego los resultados de predicción como antes...\n"
   ]
  },
  {
   "cell_type": "markdown",
   "metadata": {},
   "source": [
    "i\n",
    "\n",
    "price = -21.77 + 0.0021lotsize + 0.1228sqrft + 13.8525*bdrms\n",
    "\n",
    "Standard Error of the Regression= 59.94\n",
    "\n",
    "For lotsize=10000, sqrft=2300, bdrms=4:\n",
    "Predicted price = $336,710\n",
    "\n",
    "ii\n",
    "\n",
    "The confidence interval for the conditional mean: [$322,040, $351,370]\n",
    "\n",
    "iii \n",
    "\n",
    "The confidence interval for the prediction: [$216,820, $456,590]\n",
    "\n",
    "The prediction interval is always broader because it includes both the individual variation and σ²"
   ]
  },
  {
   "cell_type": "markdown",
   "metadata": {},
   "source": [
    "## C8\n",
    "\n",
    "This analysis explores the relationship between NBA players' performance metrics and their salaries using the NBASAL dataset from Wooldridge. We investigate how points per game are influenced by experience (including quadratic effects), age, and college years. Additionally, we examine wage determinants considering both performance and player characteristics. The analysis includes multiple regression specifications and statistical tests to understand the factors affecting both player performance and compensation in the NBA.\n"
   ]
  },
  {
   "cell_type": "code",
   "execution_count": 53,
   "metadata": {},
   "outputs": [
    {
     "name": "stdout",
     "output_type": "stream",
     "text": [
      "Model 1: Points per Game\n",
      "                            OLS Regression Results                            \n",
      "==============================================================================\n",
      "Dep. Variable:                 points   R-squared:                       0.141\n",
      "Model:                            OLS   Adj. R-squared:                  0.128\n",
      "Method:                 Least Squares   F-statistic:                     10.85\n",
      "Date:                Mon, 09 Dec 2024   Prob (F-statistic):           3.69e-08\n",
      "Time:                        18:12:39   Log-Likelihood:                -838.21\n",
      "No. Observations:                 269   AIC:                             1686.\n",
      "Df Residuals:                     264   BIC:                             1704.\n",
      "Df Model:                           4                                         \n",
      "Covariance Type:            nonrobust                                         \n",
      "==============================================================================\n",
      "                 coef    std err          t      P>|t|      [0.025      0.975]\n",
      "------------------------------------------------------------------------------\n",
      "const         35.2183      6.987      5.041      0.000      21.462      48.975\n",
      "exper          2.3636      0.405      5.829      0.000       1.565       3.162\n",
      "age           -1.0740      0.295     -3.640      0.000      -1.655      -0.493\n",
      "coll          -1.2863      0.451     -2.855      0.005      -2.173      -0.399\n",
      "exper2        -0.0770      0.023     -3.280      0.001      -0.123      -0.031\n",
      "==============================================================================\n",
      "Omnibus:                       19.945   Durbin-Watson:                   2.201\n",
      "Prob(Omnibus):                  0.000   Jarque-Bera (JB):               22.142\n",
      "Skew:                           0.670   Prob(JB):                     1.56e-05\n",
      "Kurtosis:                       3.425   Cond. No.                     1.33e+03\n",
      "==============================================================================\n",
      "\n",
      "Notes:\n",
      "[1] Standard Errors assume that the covariance matrix of the errors is correctly specified.\n",
      "[2] The condition number is large, 1.33e+03. This might indicate that there are\n",
      "strong multicollinearity or other numerical problems.\n",
      "\n",
      "Turning point for experience: 15.342896101914002\n",
      "\n",
      "Model 2: Points per Game (with age squared)\n",
      "                            OLS Regression Results                            \n",
      "==============================================================================\n",
      "Dep. Variable:                 points   R-squared:                       0.145\n",
      "Model:                            OLS   Adj. R-squared:                  0.129\n",
      "Method:                 Least Squares   F-statistic:                     8.925\n",
      "Date:                Mon, 09 Dec 2024   Prob (F-statistic):           7.61e-08\n",
      "Time:                        18:12:39   Log-Likelihood:                -837.61\n",
      "No. Observations:                 269   AIC:                             1687.\n",
      "Df Residuals:                     263   BIC:                             1709.\n",
      "Df Model:                           5                                         \n",
      "Covariance Type:            nonrobust                                         \n",
      "==============================================================================\n",
      "                 coef    std err          t      P>|t|      [0.025      0.975]\n",
      "------------------------------------------------------------------------------\n",
      "const         73.5903     35.933      2.048      0.042       2.837     144.344\n",
      "exper          2.8638      0.613      4.674      0.000       1.657       4.070\n",
      "age           -3.9837      2.689     -1.481      0.140      -9.279       1.311\n",
      "coll          -1.3126      0.451     -2.910      0.004      -2.201      -0.424\n",
      "exper2        -0.1281      0.052     -2.442      0.015      -0.231      -0.025\n",
      "age2           0.0536      0.049      1.089      0.277      -0.043       0.150\n",
      "==============================================================================\n",
      "Omnibus:                       18.662   Durbin-Watson:                   2.207\n",
      "Prob(Omnibus):                  0.000   Jarque-Bera (JB):               20.480\n",
      "Skew:                           0.652   Prob(JB):                     3.57e-05\n",
      "Kurtosis:                       3.354   Cond. No.                     8.46e+04\n",
      "==============================================================================\n",
      "\n",
      "Notes:\n",
      "[1] Standard Errors assume that the covariance matrix of the errors is correctly specified.\n",
      "[2] The condition number is large, 8.46e+04. This might indicate that there are\n",
      "strong multicollinearity or other numerical problems.\n",
      "\n",
      "Joint F-test for age and age squared:\n",
      "<F test: F=7.220705949370505, p=0.0008854352898737409, df_denom=263, df_num=2>\n",
      "\n",
      "Model 3: Log Wage\n",
      "                            OLS Regression Results                            \n",
      "==============================================================================\n",
      "Dep. Variable:                   wage   R-squared:                       0.488\n",
      "Model:                            OLS   Adj. R-squared:                  0.478\n",
      "Method:                 Least Squares   F-statistic:                     50.10\n",
      "Date:                Mon, 09 Dec 2024   Prob (F-statistic):           2.43e-36\n",
      "Time:                        18:12:40   Log-Likelihood:                -257.23\n",
      "No. Observations:                 269   AIC:                             526.5\n",
      "Df Residuals:                     263   BIC:                             548.0\n",
      "Df Model:                           5                                         \n",
      "Covariance Type:            nonrobust                                         \n",
      "==============================================================================\n",
      "                 coef    std err          t      P>|t|      [0.025      0.975]\n",
      "------------------------------------------------------------------------------\n",
      "const          6.7790      0.845      8.019      0.000       5.114       8.444\n",
      "points         0.0777      0.007     10.928      0.000       0.064       0.092\n",
      "exper          0.2178      0.050      4.375      0.000       0.120       0.316\n",
      "age           -0.0481      0.035     -1.377      0.170      -0.117       0.021\n",
      "coll          -0.0403      0.053     -0.762      0.447      -0.144       0.064\n",
      "exper2        -0.0071      0.003     -2.558      0.011      -0.013      -0.002\n",
      "==============================================================================\n",
      "Omnibus:                       17.601   Durbin-Watson:                   2.025\n",
      "Prob(Omnibus):                  0.000   Jarque-Bera (JB):               19.113\n",
      "Skew:                          -0.628   Prob(JB):                     7.08e-05\n",
      "Kurtosis:                       3.357   Cond. No.                     1.40e+03\n",
      "==============================================================================\n",
      "\n",
      "Notes:\n",
      "[1] Standard Errors assume that the covariance matrix of the errors is correctly specified.\n",
      "[2] The condition number is large, 1.4e+03. This might indicate that there are\n",
      "strong multicollinearity or other numerical problems.\n",
      "\n",
      "Joint F-test for age and college:\n",
      "<F test: F=1.1890702625869873, p=0.3061358100305794, df_denom=263, df_num=2>\n"
     ]
    },
    {
     "name": "stderr",
     "output_type": "stream",
     "text": [
      "C:\\Users\\Gerardo\\AppData\\Local\\Temp\\ipykernel_15784\\325075305.py:14: SettingWithCopyWarning: \n",
      "A value is trying to be set on a copy of a slice from a DataFrame.\n",
      "Try using .loc[row_indexer,col_indexer] = value instead\n",
      "\n",
      "See the caveats in the documentation: https://pandas.pydata.org/pandas-docs/stable/user_guide/indexing.html#returning-a-view-versus-a-copy\n",
      "  X['exper2'] = nba['exper']**2\n",
      "C:\\Users\\Gerardo\\AppData\\Local\\Temp\\ipykernel_15784\\325075305.py:45: SettingWithCopyWarning: \n",
      "A value is trying to be set on a copy of a slice from a DataFrame.\n",
      "Try using .loc[row_indexer,col_indexer] = value instead\n",
      "\n",
      "See the caveats in the documentation: https://pandas.pydata.org/pandas-docs/stable/user_guide/indexing.html#returning-a-view-versus-a-copy\n",
      "  X['exper2'] = nba['exper']**2\n"
     ]
    }
   ],
   "source": [
    "# Import necessary libraries\n",
    "import wooldridge as woo\n",
    "import pandas as pd\n",
    "import numpy as np\n",
    "import statsmodels.api as sm\n",
    "from statsmodels.stats.outliers_influence import variance_inflation_factor\n",
    "from scipy import stats\n",
    "\n",
    "# Load the data\n",
    "nba = woo.data('nbasal')\n",
    "\n",
    "# (i) First regression: points vs experience (quadratic), age, and college years\n",
    "X = nba[['exper', 'age', 'coll']]\n",
    "X['exper2'] = nba['exper']**2\n",
    "X = sm.add_constant(X)\n",
    "y = nba['points']\n",
    "\n",
    "model1 = sm.OLS(y, X).fit()\n",
    "print(\"Model 1: Points per Game\")\n",
    "print(model1.summary())\n",
    "\n",
    "# (ii) Calculate the experience turning point\n",
    "beta_exper = model1.params['exper']\n",
    "beta_exper2 = model1.params['exper2']\n",
    "turning_point = -beta_exper/(2*beta_exper2)\n",
    "print(\"\\nTurning point for experience:\", turning_point)\n",
    "\n",
    "# (iv) Add age squared\n",
    "X['age2'] = nba['age']**2\n",
    "model2 = sm.OLS(y, X).fit()\n",
    "print(\"\\nModel 2: Points per Game (with age squared)\")\n",
    "print(model2.summary())\n",
    "\n",
    "# Test for joint significance of age and age^2\n",
    "r_matrix_age = np.zeros((2, len(model2.params)))\n",
    "r_matrix_age[0, X.columns.get_loc('age')] = 1\n",
    "r_matrix_age[1, X.columns.get_loc('age2')] = 1\n",
    "\n",
    "f_test_age = model2.f_test(r_matrix_age)\n",
    "print(\"\\nJoint F-test for age and age squared:\")\n",
    "print(f_test_age)\n",
    "\n",
    "# (v) Log wage regression\n",
    "X = nba[['points', 'exper', 'age', 'coll']]\n",
    "X['exper2'] = nba['exper']**2\n",
    "X = sm.add_constant(X)\n",
    "y = np.log(nba['wage'])\n",
    "\n",
    "model3 = sm.OLS(y, X).fit()\n",
    "print(\"\\nModel 3: Log Wage\")\n",
    "print(model3.summary())\n",
    "\n",
    "# (vi) Joint significance test for age and college\n",
    "r_matrix = np.zeros((2, len(model3.params)))\n",
    "r_matrix[0, X.columns.get_loc('age')] = 1\n",
    "r_matrix[1, X.columns.get_loc('coll')] = 1\n",
    "\n",
    "f_test = model3.f_test(r_matrix)\n",
    "print(\"\\nJoint F-test for age and college:\")\n",
    "print(f_test)"
   ]
  },
  {
   "cell_type": "markdown",
   "metadata": {},
   "source": [
    "**Performance Model (Points per Game):**\n",
    "- Experience shows an inverted U-shaped relationship, peaking at 15.3 years\n",
    "- College years have a significant negative effect (-1.29 points per game)\n",
    "- The quadratic term for age proved unnecessary despite joint significance (R^2 didn't improve, and strong multicolineality)\n",
    "\n",
    "**Salary Model (Log Wage):**\n",
    "- Points per game strongly influence salary (coefficient: 0.078)\n",
    "- Experience shows diminishing returns\n",
    "- Age and college years have no significant independent effect on salary once controlling for performance and experience (F-test p-value: 0.306)\n",
    "\n",
    "\n"
   ]
  },
  {
   "cell_type": "markdown",
   "metadata": {},
   "source": [
    "## C10\n",
    "This analysis explores the relationship between infant birth weight, number of prenatal visits, and mother's age using data from BWGHT2. We'll investigate potential nonlinear relationships using quadratic specifications, determine optimal values for prenatal visits and mother's age, and compare different functional forms for birth weight modeling."
   ]
  },
  {
   "cell_type": "code",
   "execution_count": 57,
   "metadata": {},
   "outputs": [
    {
     "name": "stdout",
     "output_type": "stream",
     "text": [
      "Initial data shape: (1832, 23)\n",
      "\n",
      "Missing values:\n",
      "bwght     0\n",
      "npvis    68\n",
      "mage      0\n",
      "dtype: int64\n",
      "\n",
      "Final data shape: (1764, 23)\n",
      "\n",
      "Model 1 Results (log(bwght) on npvis and npvis^2):\n",
      "==============================================================================\n",
      "                 coef    std err          t      P>|t|      [0.025      0.975]\n",
      "------------------------------------------------------------------------------\n",
      "const          7.9579      0.027    291.364      0.000       7.904       8.011\n",
      "npvis          0.0189      0.004      5.140      0.000       0.012       0.026\n",
      "npvissq       -0.0004      0.000     -3.573      0.000      -0.001      -0.000\n",
      "==============================================================================\n",
      "\n",
      "Optimal number of prenatal visits: 22.06\n",
      "Number of women with 22+ visits: 19\n",
      "\n",
      "Model 2 Results (adding mother's age):\n",
      "==============================================================================\n",
      "                 coef    std err          t      P>|t|      [0.025      0.975]\n",
      "------------------------------------------------------------------------------\n",
      "const          7.5837      0.137     55.333      0.000       7.315       7.853\n",
      "npvis          0.0180      0.004      4.864      0.000       0.011       0.025\n",
      "npvissq       -0.0004      0.000     -3.387      0.001      -0.001      -0.000\n",
      "mage           0.0254      0.009      2.744      0.006       0.007       0.044\n",
      "mage2         -0.0004      0.000     -2.661      0.008      -0.001      -0.000\n",
      "==============================================================================\n",
      "\n",
      "Optimal mother's age: 30.83\n"
     ]
    },
    {
     "name": "stderr",
     "output_type": "stream",
     "text": [
      "C:\\Users\\Gerardo\\AppData\\Local\\Temp\\ipykernel_15784\\2409612022.py:36: FutureWarning: Series.__getitem__ treating keys as positions is deprecated. In a future version, integer keys will always be treated as labels (consistent with DataFrame behavior). To access a value by position, use `ser.iloc[pos]`\n",
      "  npvis_optimal = -model1.params[1]/(2*model1.params[2])\n",
      "C:\\Users\\Gerardo\\AppData\\Local\\Temp\\ipykernel_15784\\2409612022.py:46: FutureWarning: Series.__getitem__ treating keys as positions is deprecated. In a future version, integer keys will always be treated as labels (consistent with DataFrame behavior). To access a value by position, use `ser.iloc[pos]`\n",
      "  age_optimal = -model2.params[3]/(2*model2.params[4])\n"
     ]
    },
    {
     "name": "stdout",
     "output_type": "stream",
     "text": [
      "Number of women above optimal age: 720\n",
      "Percentage of women above optimal age: 40.82%\n",
      "\n",
      "R-squared comparison:\n",
      "Log specification R-squared: 0.0256\n",
      "Level specification R-squared: 0.0192\n"
     ]
    },
    {
     "data": {
      "image/png": "[encoded data removed]",
      "text/plain": [
       "<Figure size 1200x400 with 2 Axes>"
      ]
     },
     "metadata": {},
     "output_type": "display_data"
    }
   ],
   "source": [
    "# Import necessary libraries\n",
    "import wooldridge as woo\n",
    "import numpy as np\n",
    "import pandas as pd\n",
    "import statsmodels.api as sm\n",
    "import matplotlib.pyplot as plt\n",
    "from scipy import stats\n",
    "\n",
    "# Load the data\n",
    "data = woo.data('bwght2')\n",
    "\n",
    "# Check for missing or infinite values\n",
    "print(\"Initial data shape:\", data.shape)\n",
    "print(\"\\nMissing values:\")\n",
    "print(data[['bwght', 'npvis', 'mage']].isnull().sum())\n",
    "\n",
    "# Clean the data\n",
    "data = data.replace([np.inf, -np.inf], np.nan)\n",
    "data = data.dropna(subset=['bwght', 'npvis', 'mage'])\n",
    "\n",
    "print(\"\\nFinal data shape:\", data.shape)\n",
    "\n",
    "# Create transformed variables\n",
    "data['log_bwght'] = np.log(data['bwght'])\n",
    "data['mage2'] = data['mage']**2  # Square of mother's age\n",
    "\n",
    "# Part i: Estimate log(bwght) on npvis and npvis^2\n",
    "X1 = sm.add_constant(data[['npvis', 'npvissq']])\n",
    "y = data['log_bwght']\n",
    "\n",
    "model1 = sm.OLS(y, X1).fit()\n",
    "print(\"\\nModel 1 Results (log(bwght) on npvis and npvis^2):\")\n",
    "print(model1.summary().tables[1])\n",
    "\n",
    "# Part ii: Find maximum point and count observations\n",
    "npvis_optimal = -model1.params[1]/(2*model1.params[2])\n",
    "print(f\"\\nOptimal number of prenatal visits: {npvis_optimal:.2f}\")\n",
    "print(f\"Number of women with {int(npvis_optimal)}+ visits: {(data['npvis'] >= npvis_optimal).sum()}\")\n",
    "\n",
    "# Part iv: Add mother's age quadratic terms\n",
    "X2 = sm.add_constant(data[['npvis', 'npvissq', 'mage', 'mage2']])\n",
    "model2 = sm.OLS(y, X2).fit()\n",
    "print(\"\\nModel 2 Results (adding mother's age):\")\n",
    "print(model2.summary().tables[1])\n",
    "\n",
    "age_optimal = -model2.params[3]/(2*model2.params[4])\n",
    "print(f\"\\nOptimal mother's age: {age_optimal:.2f}\")\n",
    "print(f\"Number of women above optimal age: {(data['mage'] > age_optimal).sum()}\")\n",
    "print(f\"Percentage of women above optimal age: {(data['mage'] > age_optimal).mean()*100:.2f}%\")\n",
    "\n",
    "# Part vi: Compare log vs level specification\n",
    "# Model with level of bwght\n",
    "y_level = data['bwght']\n",
    "model_level = sm.OLS(y_level, X2).fit()\n",
    "\n",
    "# Calculate R-squared for comparison\n",
    "print(\"\\nR-squared comparison:\")\n",
    "print(f\"Log specification R-squared: {model2.rsquared:.4f}\")\n",
    "print(f\"Level specification R-squared: {model_level.rsquared:.4f}\")\n",
    "\n",
    "# Additional diagnostic plots\n",
    "plt.figure(figsize=(12, 4))\n",
    "\n",
    "plt.subplot(1, 2, 1)\n",
    "plt.scatter(model2.fittedvalues, model2.resid, alpha=0.5)\n",
    "plt.xlabel('Fitted values')\n",
    "plt.ylabel('Residuals')\n",
    "plt.title('Residual Plot (Log Specification)')\n",
    "plt.axhline(y=0, color='r', linestyle='--')\n",
    "\n",
    "plt.subplot(1, 2, 2)\n",
    "plt.scatter(model_level.fittedvalues, model_level.resid, alpha=0.5)\n",
    "plt.xlabel('Fitted values')\n",
    "plt.ylabel('Residuals')\n",
    "plt.title('Residual Plot (Level Specification)')\n",
    "plt.axhline(y=0, color='r', linestyle='--')\n",
    "\n",
    "plt.tight_layout()\n",
    "plt.show()"
   ]
  },
  {
   "cell_type": "markdown",
   "metadata": {},
   "source": [
    "## C11\n",
    "\n",
    "This exercise analyzes the relationship between eco-friendly and regular apple prices and their impact on the pounds of eco-friendly apples purchased. Using the APPLE dataset from Wooldridge, we'll examine how price elasticities affect consumer behavior, control for demographic variables, and compare simple versus multiple regression results to understand potential multicollinearity issues.\n",
    "\n"
   ]
  },
  {
   "cell_type": "code",
   "execution_count": 58,
   "metadata": {},
   "outputs": [
    {
     "name": "stdout",
     "output_type": "stream",
     "text": [
      "                            OLS Regression Results                            \n",
      "==============================================================================\n",
      "Dep. Variable:                 ecolbs   R-squared:                       0.036\n",
      "Model:                            OLS   Adj. R-squared:                  0.033\n",
      "Method:                 Least Squares   F-statistic:                     12.41\n",
      "Date:                Mon, 09 Dec 2024   Prob (F-statistic):           5.11e-06\n",
      "Time:                        18:42:06   Log-Likelihood:                -1535.3\n",
      "No. Observations:                 660   AIC:                             3077.\n",
      "Df Residuals:                     657   BIC:                             3090.\n",
      "Df Model:                           2                                         \n",
      "Covariance Type:            nonrobust                                         \n",
      "==============================================================================\n",
      "                 coef    std err          t      P>|t|      [0.025      0.975]\n",
      "------------------------------------------------------------------------------\n",
      "const          1.9653      0.380      5.171      0.000       1.219       2.712\n",
      "ecoprc        -2.9265      0.588     -4.978      0.000      -4.081      -1.772\n",
      "regprc         3.0289      0.711      4.261      0.000       1.633       4.425\n",
      "==============================================================================\n",
      "Omnibus:                      991.053   Durbin-Watson:                   2.020\n",
      "Prob(Omnibus):                  0.000   Jarque-Bera (JB):           354819.834\n",
      "Skew:                           8.309   Prob(JB):                         0.00\n",
      "Kurtosis:                     115.367   Cond. No.                         16.0\n",
      "==============================================================================\n",
      "\n",
      "Notes:\n",
      "[1] Standard Errors assume that the covariance matrix of the errors is correctly specified.\n",
      "\n",
      "Range of fitted values:\n",
      "Min: 0.8552\n",
      "Max: 2.0872\n",
      "\n",
      "Fraction of sample with ecolbs = 0: 0.3758\n",
      "\n",
      "F-test for joint significance of additional variables:\n",
      "F-statistic: 0.6479\n",
      "p-value: 0.6286\n",
      "\n",
      "Simple regression results:\n",
      "\n",
      "Ecoprc coefficient:\n",
      "-0.8452356886943463\n",
      "\n",
      "Regprc coefficient:\n",
      "0.08950474244644555\n",
      "\n",
      "Correlation between ecoprc and regprc: 0.8308\n"
     ]
    }
   ],
   "source": [
    "# Import necessary libraries\n",
    "import wooldridge as woo\n",
    "import pandas as pd\n",
    "import numpy as np\n",
    "from scipy import stats\n",
    "import statsmodels.api as sm\n",
    "\n",
    "# Load the data\n",
    "data = woo.data('apple')\n",
    "\n",
    "# (i) Run the initial regression\n",
    "X = data[['ecoprc', 'regprc']]\n",
    "X = sm.add_constant(X)\n",
    "y = data['ecolbs']\n",
    "\n",
    "# Fit the model\n",
    "model1 = sm.OLS(y, X).fit()\n",
    "print(model1.summary())\n",
    "\n",
    "# (iii) Calculate range of fitted values\n",
    "fitted_values = model1.fittedvalues\n",
    "print(\"\\nRange of fitted values:\")\n",
    "print(f\"Min: {fitted_values.min():.4f}\")\n",
    "print(f\"Max: {fitted_values.max():.4f}\")\n",
    "print(f\"\\nFraction of sample with ecolbs = 0: {(data['ecolbs'] == 0).mean():.4f}\")\n",
    "\n",
    "# (v) Extended model with additional variables\n",
    "X_extended = data[['ecoprc', 'regprc', 'faminc', 'hhsize', 'educ', 'age']]\n",
    "X_extended = sm.add_constant(X_extended)\n",
    "model2 = sm.OLS(y, X_extended).fit()\n",
    "\n",
    "# F-test for joint significance of new variables\n",
    "from scipy import stats\n",
    "restricted_ssr = sum(model1.resid**2)\n",
    "unrestricted_ssr = sum(model2.resid**2)\n",
    "n = len(y)\n",
    "k_restricted = 3  # including constant\n",
    "k_unrestricted = 7  # including constant\n",
    "f_stat = ((restricted_ssr - unrestricted_ssr)/(k_unrestricted-k_restricted)) / (unrestricted_ssr/(n-k_unrestricted))\n",
    "p_value = 1 - stats.f.cdf(f_stat, k_unrestricted-k_restricted, n-k_unrestricted)\n",
    "\n",
    "print(\"\\nF-test for joint significance of additional variables:\")\n",
    "print(f\"F-statistic: {f_stat:.4f}\")\n",
    "print(f\"p-value: {p_value:.4f}\")\n",
    "\n",
    "# (vi) Simple regressions\n",
    "simple_eco = sm.OLS(y, sm.add_constant(data['ecoprc'])).fit()\n",
    "simple_reg = sm.OLS(y, sm.add_constant(data['regprc'])).fit()\n",
    "\n",
    "print(\"\\nSimple regression results:\")\n",
    "print(\"\\nEcoprc coefficient:\")\n",
    "print(simple_eco.params['ecoprc'])\n",
    "print(\"\\nRegprc coefficient:\")\n",
    "print(simple_reg.params['regprc'])\n",
    "\n",
    "# Correlation between prices\n",
    "correlation = data['ecoprc'].corr(data['regprc'])\n",
    "print(f\"\\nCorrelation between ecoprc and regprc: {correlation:.4f}\")"
   ]
  },
  {
   "cell_type": "markdown",
   "metadata": {},
   "source": [
    "- Prices significantly affect eco-friendly apple purchases: eco-friendly apple price has a negative effect (-2.93 lbs per dollar), while regular apple price has a positive effect (3.03 lbs per dollar)\n",
    "- Despite statistical significance, the model's explanatory power is weak (R² = 0.036), suggesting prices alone explain only 3.6% of variation in eco-friendly apple purchases\n",
    "- Demographic variables (income, household size, education, age) do not significantly improve the model's explanatory power\n",
    "- High correlation between eco-friendly and regular apple prices (0.83) indicates multicollinearity, explaining the substantial differences between simple and multiple regression coefficients\n"
   ]
  },
  {
   "cell_type": "markdown",
   "metadata": {},
   "source": [
    "## C12\n",
    "This exercise analyzes the relationship between net total financial assets (nettfa), income (inc), and age for single-person households using the 401KSUBS dataset. We'll examine quadratic relationships in age, controlling for income, and evaluate various model specifications to understand how age and income affect financial assets. The analysis is restricted to households with family size (fsize) equal to 1.\n"
   ]
  },
  {
   "cell_type": "code",
   "execution_count": 59,
   "metadata": {},
   "outputs": [
    {
     "name": "stdout",
     "output_type": "stream",
     "text": [
      "Youngest age: 25\n",
      "Number of people at youngest age: 99\n",
      "\n",
      "Model 1 Results:\n",
      "                            OLS Regression Results                            \n",
      "==============================================================================\n",
      "Dep. Variable:                 nettfa   R-squared:                       0.123\n",
      "Model:                            OLS   Adj. R-squared:                  0.122\n",
      "Method:                 Least Squares   F-statistic:                     93.99\n",
      "Date:                Mon, 09 Dec 2024   Prob (F-statistic):           6.30e-57\n",
      "Time:                        18:48:56   Log-Likelihood:                -10520.\n",
      "No. Observations:                2017   AIC:                         2.105e+04\n",
      "Df Residuals:                    2013   BIC:                         2.107e+04\n",
      "Df Model:                           3                                         \n",
      "Covariance Type:            nonrobust                                         \n",
      "==============================================================================\n",
      "                 coef    std err          t      P>|t|      [0.025      0.975]\n",
      "------------------------------------------------------------------------------\n",
      "const         -1.2042     15.281     -0.079      0.937     -31.172      28.763\n",
      "inc            0.8248      0.060     13.679      0.000       0.707       0.943\n",
      "age           -1.3218      0.767     -1.722      0.085      -2.827       0.183\n",
      "age2           0.0256      0.009      2.841      0.005       0.008       0.043\n",
      "==============================================================================\n",
      "Omnibus:                     3737.631   Durbin-Watson:                   1.969\n",
      "Prob(Omnibus):                  0.000   Jarque-Bera (JB):          6811024.943\n",
      "Skew:                          13.349   Prob(JB):                         0.00\n",
      "Kurtosis:                     286.427   Cond. No.                     2.93e+04\n",
      "==============================================================================\n",
      "\n",
      "Notes:\n",
      "[1] Standard Errors assume that the covariance matrix of the errors is correctly specified.\n",
      "[2] The condition number is large, 2.93e+04. This might indicate that there are\n",
      "strong multicollinearity or other numerical problems.\n",
      "\n",
      "Model 2 Results (reparametrized):\n",
      "                            OLS Regression Results                            \n",
      "==============================================================================\n",
      "Dep. Variable:                 nettfa   R-squared:                       0.123\n",
      "Model:                            OLS   Adj. R-squared:                  0.122\n",
      "Method:                 Least Squares   F-statistic:                     93.99\n",
      "Date:                Mon, 09 Dec 2024   Prob (F-statistic):           6.30e-57\n",
      "Time:                        18:48:56   Log-Likelihood:                -10520.\n",
      "No. Observations:                2017   AIC:                         2.105e+04\n",
      "Df Residuals:                    2013   BIC:                         2.107e+04\n",
      "Df Model:                           3                                         \n",
      "Covariance Type:            nonrobust                                         \n",
      "===============================================================================\n",
      "                  coef    std err          t      P>|t|      [0.025      0.975]\n",
      "-------------------------------------------------------------------------------\n",
      "const         -17.1807      9.973     -1.723      0.085     -36.739       2.378\n",
      "inc             0.8248      0.060     13.679      0.000       0.707       0.943\n",
      "age            -0.0437      0.325     -0.134      0.893      -0.682       0.594\n",
      "age_diff_sq     0.0256      0.009      2.841      0.005       0.008       0.043\n",
      "==============================================================================\n",
      "Omnibus:                     3737.631   Durbin-Watson:                   1.969\n",
      "Prob(Omnibus):                  0.000   Jarque-Bera (JB):          6811024.943\n",
      "Skew:                          13.349   Prob(JB):                         0.00\n",
      "Kurtosis:                     286.427   Cond. No.                     5.10e+03\n",
      "==============================================================================\n",
      "\n",
      "Notes:\n",
      "[1] Standard Errors assume that the covariance matrix of the errors is correctly specified.\n",
      "[2] The condition number is large, 5.1e+03. This might indicate that there are\n",
      "strong multicollinearity or other numerical problems.\n",
      "\n",
      "Model 3 Results (restricted):\n",
      "                            OLS Regression Results                            \n",
      "==============================================================================\n",
      "Dep. Variable:                 nettfa   R-squared:                       0.123\n",
      "Model:                            OLS   Adj. R-squared:                  0.122\n",
      "Method:                 Least Squares   F-statistic:                     141.0\n",
      "Date:                Mon, 09 Dec 2024   Prob (F-statistic):           4.73e-58\n",
      "Time:                        18:48:56   Log-Likelihood:                -10520.\n",
      "No. Observations:                2017   AIC:                         2.105e+04\n",
      "Df Residuals:                    2014   BIC:                         2.106e+04\n",
      "Df Model:                           2                                         \n",
      "Covariance Type:            nonrobust                                         \n",
      "===============================================================================\n",
      "                  coef    std err          t      P>|t|      [0.025      0.975]\n",
      "-------------------------------------------------------------------------------\n",
      "const         -18.4881      2.178     -8.490      0.000     -22.759     -14.218\n",
      "inc             0.8236      0.060     13.826      0.000       0.707       0.940\n",
      "age_diff_sq     0.0244      0.003      9.605      0.000       0.019       0.029\n",
      "==============================================================================\n",
      "Omnibus:                     3737.887   Durbin-Watson:                   1.970\n",
      "Prob(Omnibus):                  0.000   Jarque-Bera (JB):          6811961.805\n",
      "Skew:                          13.351   Prob(JB):                         0.00\n",
      "Kurtosis:                     286.446   Cond. No.                     1.11e+03\n",
      "==============================================================================\n",
      "\n",
      "Notes:\n",
      "[1] Standard Errors assume that the covariance matrix of the errors is correctly specified.\n",
      "[2] The condition number is large, 1.11e+03. This might indicate that there are\n",
      "strong multicollinearity or other numerical problems.\n"
     ]
    },
    {
     "data": {
      "image/png": "[encoded data removed]",
      "text/plain": [
       "<Figure size 1000x600 with 1 Axes>"
      ]
     },
     "metadata": {},
     "output_type": "display_data"
    },
    {
     "name": "stdout",
     "output_type": "stream",
     "text": [
      "\n",
      "Model 4 Results (with quadratic income):\n",
      "                            OLS Regression Results                            \n",
      "==============================================================================\n",
      "Dep. Variable:                 nettfa   R-squared:                       0.123\n",
      "Model:                            OLS   Adj. R-squared:                  0.122\n",
      "Method:                 Least Squares   F-statistic:                     94.01\n",
      "Date:                Mon, 09 Dec 2024   Prob (F-statistic):           6.13e-57\n",
      "Time:                        18:48:58   Log-Likelihood:                -10520.\n",
      "No. Observations:                2017   AIC:                         2.105e+04\n",
      "Df Residuals:                    2013   BIC:                         2.107e+04\n",
      "Df Model:                           3                                         \n",
      "Covariance Type:            nonrobust                                         \n",
      "===============================================================================\n",
      "                  coef    std err          t      P>|t|      [0.025      0.975]\n",
      "-------------------------------------------------------------------------------\n",
      "const         -19.3013      3.688     -5.234      0.000     -26.534     -12.069\n",
      "inc             0.8722      0.188      4.648      0.000       0.504       1.240\n",
      "inc2           -0.0005      0.002     -0.273      0.785      -0.004       0.003\n",
      "age_diff_sq     0.0244      0.003      9.603      0.000       0.019       0.029\n",
      "==============================================================================\n",
      "Omnibus:                     3737.811   Durbin-Watson:                   1.970\n",
      "Prob(Omnibus):                  0.000   Jarque-Bera (JB):          6805122.194\n",
      "Skew:                          13.351   Prob(JB):                         0.00\n",
      "Kurtosis:                     286.302   Cond. No.                     7.29e+03\n",
      "==============================================================================\n",
      "\n",
      "Notes:\n",
      "[1] Standard Errors assume that the covariance matrix of the errors is correctly specified.\n",
      "[2] The condition number is large, 7.29e+03. This might indicate that there are\n",
      "strong multicollinearity or other numerical problems.\n"
     ]
    }
   ],
   "source": [
    "# Import necessary libraries\n",
    "import pandas as pd\n",
    "import numpy as np\n",
    "from wooldridge import data\n",
    "import matplotlib.pyplot as plt\n",
    "import seaborn as sns\n",
    "from scipy import stats\n",
    "import statsmodels.api as sm\n",
    "\n",
    "# Load the data\n",
    "df = data('401ksubs')\n",
    "\n",
    "# Filter for single-person households\n",
    "df_single = df[df['fsize'] == 1].copy()\n",
    "\n",
    "# Part (i): Find youngest age and count\n",
    "youngest_age = df_single['age'].min()\n",
    "count_youngest = df_single[df_single['age'] == youngest_age].shape[0]\n",
    "print(f\"Youngest age: {youngest_age}\")\n",
    "print(f\"Number of people at youngest age: {count_youngest}\")\n",
    "\n",
    "# Part (ii) and (iii): Estimate the initial model\n",
    "X = df_single[['inc', 'age']]\n",
    "X = sm.add_constant(X)\n",
    "X['age2'] = df_single['age']**2\n",
    "y = df_single['nettfa']\n",
    "\n",
    "model1 = sm.OLS(y, X).fit()\n",
    "print(\"\\nModel 1 Results:\")\n",
    "print(model1.summary())\n",
    "\n",
    "# Part (iv): Calculate θ₂ and its p-value\n",
    "# We'll reparametrize the model\n",
    "df_single['age_diff_sq'] = (df_single['age'] - 25)**2\n",
    "X2 = df_single[['inc', 'age', 'age_diff_sq']]\n",
    "X2 = sm.add_constant(X2)\n",
    "model2 = sm.OLS(y, X2).fit()\n",
    "print(\"\\nModel 2 Results (reparametrized):\")\n",
    "print(model2.summary())\n",
    "\n",
    "# Part (v): Estimate the restricted model\n",
    "X3 = df_single[['inc', 'age_diff_sq']]\n",
    "X3 = sm.add_constant(X3)\n",
    "model3 = sm.OLS(y, X3).fit()\n",
    "print(\"\\nModel 3 Results (restricted):\")\n",
    "print(model3.summary())\n",
    "\n",
    "# Part (vi): Create visualization\n",
    "ages = np.arange(25, 65)\n",
    "predicted_nettfa = (model3.params['const'] + \n",
    "                   model3.params['inc'] * 30 + \n",
    "                   model3.params['age_diff_sq'] * (ages - 25)**2)\n",
    "\n",
    "plt.figure(figsize=(10, 6))\n",
    "plt.plot(ages, predicted_nettfa)\n",
    "plt.xlabel('Age')\n",
    "plt.ylabel('Predicted Net Total Financial Assets')\n",
    "plt.title('Predicted NETTFA vs Age (Income = 30)')\n",
    "plt.grid(True)\n",
    "plt.show()\n",
    "\n",
    "# Part (vii): Test for quadratic income term\n",
    "df_single['inc2'] = df_single['inc']**2\n",
    "X4 = df_single[['inc', 'inc2', 'age_diff_sq']]\n",
    "X4 = sm.add_constant(X4)\n",
    "model4 = sm.OLS(y, X4).fit()\n",
    "print(\"\\nModel 4 Results (with quadratic income):\")\n",
    "print(model4.summary())"
   ]
  },
  {
   "cell_type": "markdown",
   "metadata": {},
   "source": [
    "The youngest age in the sample is 25 years old, with 99 individuals at this age.\n",
    "Age has a quadratic relationship with net total financial assets:\n",
    "\n",
    "Assets reach their minimum around age 25\n",
    "After 25, assets increase at an accelerating rate with age\n",
    "\n",
    "\n",
    "Income has a strong positive linear relationship with net total financial assets:\n",
    "\n",
    "Each additional thousand dollars of income increases nettfa by $824\n",
    "No evidence for a quadratic income effect (p-value = 0.785)\n",
    "\n",
    "\n",
    "Model fit:\n",
    "\n",
    "R² = 0.123, indicating the model explains 12.3% of variation in nettfa\n",
    "The most parsimonious model uses income and (age-25)² as predictors\n",
    "All coefficients in the final model are highly significant (p < 0.001)\n",
    "\n",
    "\n",
    "Key equation:\n",
    "nettfa = -18.49 + 0.824×inc + 0.024×(age-25)²"
   ]
  },
  {
   "cell_type": "code",
   "execution_count": null,
   "metadata": {},
   "outputs": [],
   "source": []
  },
  {
   "cell_type": "markdown",
   "metadata": {},
   "source": [
    "## C13\n",
    "\n",
    "This exercise analyzes the relationship between fourth-grade math performance (math4) and various school characteristics using the MEAP00 dataset. We investigate how per-pupil spending (lexppp), school enrollment (lenroll), and the percentage of students eligible for free lunch (lunch) affect math pass rates. The analysis includes basic OLS regression, examination of fitted values and residuals, testing for non-linear relationships through quadratic terms, and standardized regression to compare effect sizes across variables.\n"
   ]
  },
  {
   "cell_type": "code",
   "execution_count": 64,
   "metadata": {},
   "outputs": [
    {
     "name": "stdout",
     "output_type": "stream",
     "text": [
      "Dataset Info:\n",
      "<class 'pandas.core.frame.DataFrame'>\n",
      "RangeIndex: 1692 entries, 0 to 1691\n",
      "Data columns (total 9 columns):\n",
      " #   Column   Non-Null Count  Dtype  \n",
      "---  ------   --------------  -----  \n",
      " 0   dcode    1692 non-null   float64\n",
      " 1   bcode    1692 non-null   int64  \n",
      " 2   math4    1692 non-null   float64\n",
      " 3   read4    1692 non-null   float64\n",
      " 4   lunch    1692 non-null   float64\n",
      " 5   enroll   1692 non-null   int64  \n",
      " 6   exppp    1692 non-null   float64\n",
      " 7   lenroll  1692 non-null   float64\n",
      " 8   lexppp   1692 non-null   float64\n",
      "dtypes: float64(7), int64(2)\n",
      "memory usage: 119.1 KB\n",
      "None\n",
      "\n",
      "First few rows:\n",
      "    dcode  bcode      math4      read4      lunch  enroll        exppp  \\\n",
      "0  1010.0   4937  83.300003  77.800003  40.599998     468  5870.672852   \n",
      "1  3010.0    790  85.699997  60.000000  12.750000     251  4824.836426   \n",
      "2  3010.0   1403  77.300003  59.099998  17.080000     439  4358.771973   \n",
      "3  3010.0   4056  85.199997  67.000000  23.170000     561  4701.395508   \n",
      "4  3020.0    922  91.800003  67.699997  25.570000     442  4311.984375   \n",
      "\n",
      "    lenroll    lexppp  \n",
      "0  6.148468  8.677725  \n",
      "1  5.525453  8.481532  \n",
      "2  6.084499  8.379946  \n",
      "3  6.329721  8.455615  \n",
      "4  6.091310  8.369153  \n"
     ]
    }
   ],
   "source": [
    "# First cell - Import necessary libraries\n",
    "import wooldridge\n",
    "import pandas as pd\n",
    "import numpy as np\n",
    "from scipy import stats\n",
    "import statsmodels.api as sm\n",
    "\n",
    "# Load the data\n",
    "data = wooldridge.data('meap00_01')\n",
    "\n",
    "# Display first few rows and basic info to verify the data\n",
    "print(\"Dataset Info:\")\n",
    "print(data.info())\n",
    "print(\"\\nFirst few rows:\")\n",
    "print(data.head())"
   ]
  },
  {
   "cell_type": "code",
   "execution_count": 65,
   "metadata": {},
   "outputs": [
    {
     "name": "stdout",
     "output_type": "stream",
     "text": [
      "Part (i) - OLS Regression Results:\n",
      "==============================================================================\n",
      "                 coef    std err          t      P>|t|      [0.025      0.975]\n",
      "------------------------------------------------------------------------------\n",
      "const         91.9325     19.962      4.605      0.000      52.780     131.085\n",
      "lexppp         3.5247      2.098      1.680      0.093      -0.590       7.639\n",
      "lenroll       -5.3992      0.940     -5.741      0.000      -7.244      -3.555\n",
      "lunch         -0.4487      0.015    -30.648      0.000      -0.477      -0.420\n",
      "==============================================================================\n",
      "\n",
      "Part (ii) - Fitted Values Analysis:\n",
      "Range of fitted values: [42.41, 92.67]\n",
      "Range of actual math4: [0.00, 100.00]\n",
      "\n",
      "Part (iii) - Residual Analysis:\n",
      "School code with largest positive residual: 1141\n",
      "Residual value: 51.42\n",
      "\n",
      "Part (iv) - Test for Quadratic Terms:\n",
      "F-statistic: 0.5180\n",
      "p-value: 0.6699\n",
      "\n",
      "Part (v) - Standardized Regression Results:\n",
      "==============================================================================\n",
      "                 coef    std err          t      P>|t|      [0.025      0.975]\n",
      "------------------------------------------------------------------------------\n",
      "const       2.004e-16      0.019   1.04e-14      1.000      -0.038       0.038\n",
      "lexppp         0.0347      0.021      1.680      0.093      -0.006       0.075\n",
      "lenroll       -0.1146      0.020     -5.741      0.000      -0.154      -0.075\n",
      "lunch         -0.6129      0.020    -30.648      0.000      -0.652      -0.574\n",
      "==============================================================================\n"
     ]
    }
   ],
   "source": [
    "# Part (i): Basic OLS regression\n",
    "X = data[['lexppp', 'lenroll', 'lunch']]\n",
    "X = sm.add_constant(X)\n",
    "y = data['math4']\n",
    "\n",
    "# Run OLS regression\n",
    "model = sm.OLS(y, X)\n",
    "results = model.fit()\n",
    "print(\"Part (i) - OLS Regression Results:\")\n",
    "print(results.summary().tables[1])  # Print coefficients table\n",
    "\n",
    "# Part (ii): Analyze fitted values\n",
    "fitted_values = results.fittedvalues\n",
    "print(\"\\nPart (ii) - Fitted Values Analysis:\")\n",
    "print(f\"Range of fitted values: [{fitted_values.min():.2f}, {fitted_values.max():.2f}]\")\n",
    "print(f\"Range of actual math4: [{y.min():.2f}, {y.max():.2f}]\")\n",
    "\n",
    "# Part (iii): Analyze residuals\n",
    "residuals = results.resid\n",
    "max_residual_idx = residuals.idxmax()\n",
    "print(\"\\nPart (iii) - Residual Analysis:\")\n",
    "print(f\"School code with largest positive residual: {data.loc[max_residual_idx, 'bcode']}\")\n",
    "print(f\"Residual value: {residuals[max_residual_idx]:.2f}\")\n",
    "\n",
    "# Part (iv): Add quadratic terms\n",
    "X_quad = X.copy()\n",
    "X_quad['lexppp2'] = data['lexppp']**2\n",
    "X_quad['lenroll2'] = data['lenroll']**2\n",
    "X_quad['lunch2'] = data['lunch']**2\n",
    "\n",
    "# Run regression with quadratic terms\n",
    "model_quad = sm.OLS(y, X_quad)\n",
    "results_quad = model_quad.fit()\n",
    "\n",
    "# F-test for joint significance of quadratic terms\n",
    "from scipy import stats\n",
    "\n",
    "# Restricted RSS (original model)\n",
    "rss_restricted = sum(results.resid**2)\n",
    "# Unrestricted RSS (model with quadratic terms)\n",
    "rss_unrestricted = sum(results_quad.resid**2)\n",
    "n = len(y)  # number of observations\n",
    "k = len(X.columns)  # number of parameters in restricted model\n",
    "q = 3  # number of restrictions (quadratic terms)\n",
    "\n",
    "f_stat = ((rss_restricted - rss_unrestricted)/q) / (rss_unrestricted/(n-k-q))\n",
    "p_value = 1 - stats.f.cdf(f_stat, q, n-k-q)\n",
    "\n",
    "print(\"\\nPart (iv) - Test for Quadratic Terms:\")\n",
    "print(f\"F-statistic: {f_stat:.4f}\")\n",
    "print(f\"p-value: {p_value:.4f}\")\n",
    "\n",
    "# Part (v): Standardized regression\n",
    "data_std = data[['math4', 'lexppp', 'lenroll', 'lunch']].apply(lambda x: (x - x.mean()) / x.std())\n",
    "X_std = data_std[['lexppp', 'lenroll', 'lunch']]\n",
    "X_std = sm.add_constant(X_std)\n",
    "y_std = data_std['math4']\n",
    "\n",
    "model_std = sm.OLS(y_std, X_std)\n",
    "results_std = model_std.fit()\n",
    "\n",
    "print(\"\\nPart (v) - Standardized Regression Results:\")\n",
    "print(results_std.summary().tables[1])  # Print coefficients table"
   ]
  },
  {
   "cell_type": "markdown",
   "metadata": {},
   "source": [
    "Socioeconomic factors, as measured by free lunch eligibility, have the strongest impact on math performance. For each standard deviation increase in free lunch eligibility, math scores decrease by 0.61 standard deviations.\n",
    "\n",
    "School size (enrollment) has a significant negative effect on math performance, though smaller than the free lunch effect. Each standard deviation increase in enrollment is associated with a 0.11 standard deviation decrease in math scores.\n",
    "\n",
    "Surprisingly, per-pupil expenditure is not statistically significant at the 5% level, suggesting that simply increasing spending may not directly translate to better math performance.\n",
    "\n",
    "The model shows no significant non-linear relationships, as indicated by the joint test of quadratic terms (p-value = 0.67).\n",
    "\n",
    "There are notable outliers in performance, as demonstrated by school #1141, which outperformed the model's predictions by over 51 percentage points, suggesting other important factors not captured in our model."
   ]
  },
  {
   "cell_type": "markdown",
   "metadata": {},
   "source": [
    "## C14\n",
    "This analysis explores the relationship between teacher salaries, benefits, and various school characteristics using K-5 level school data. We investigate how average teacher salaries are influenced by benefits (bs), enrollment numbers, staff levels, and poverty rates (measured by free lunch program eligibility). The analysis includes multiple regression specifications and hypothesis testing to understand these relationships in depth.\n"
   ]
  },
  {
   "cell_type": "code",
   "execution_count": 66,
   "metadata": {},
   "outputs": [
    {
     "name": "stdout",
     "output_type": "stream",
     "text": [
      "\n",
      "Regression of lavgsal on bs:\n",
      "==============================================================================\n",
      "                 coef    std err          t      P>|t|      [0.025      0.975]\n",
      "------------------------------------------------------------------------------\n",
      "Intercept     10.6476      0.057    186.018      0.000      10.535      10.760\n",
      "bs            -0.5035      0.166     -3.030      0.002      -0.829      -0.178\n",
      "==============================================================================\n",
      "\n",
      "P-value for H0: bs = -1: 0.0028\n",
      "\n",
      "Statistics for bs and lbs:\n",
      "               bs       lbs\n",
      "Min      0.097215 -2.330832\n",
      "Max      0.659488 -0.416291\n",
      "Std Dev  0.032544  0.096824\n",
      "\n",
      "Regression of lavgsal on lbs:\n",
      "==============================================================================\n",
      "                 coef    std err          t      P>|t|      [0.025      0.975]\n",
      "------------------------------------------------------------------------------\n",
      "Intercept     10.3133      0.060    171.062      0.000      10.195      10.432\n",
      "lbs           -0.1504      0.056     -2.691      0.007      -0.260      -0.041\n",
      "==============================================================================\n",
      "\n",
      "Multiple regression results:\n",
      "==============================================================================\n",
      "                 coef    std err          t      P>|t|      [0.025      0.975]\n",
      "------------------------------------------------------------------------------\n",
      "Intercept     13.7236      0.112    122.413      0.000      13.504      13.943\n",
      "bs            -0.1774      0.122     -1.455      0.146      -0.417       0.062\n",
      "lenroll       -0.0292      0.008     -3.440      0.001      -0.046      -0.013\n",
      "lstaff        -0.6907      0.018    -37.417      0.000      -0.727      -0.654\n",
      "lunch         -0.0008      0.000     -5.213      0.000      -0.001      -0.001\n",
      "==============================================================================\n",
      "\n",
      "Regression with quadratic lunch term:\n",
      "==============================================================================\n",
      "                 coef    std err          t      P>|t|      [0.025      0.975]\n",
      "------------------------------------------------------------------------------\n",
      "Intercept     13.8334      0.113    122.471      0.000      13.612      14.055\n",
      "bs            -0.1656      0.121     -1.368      0.171      -0.403       0.072\n",
      "lenroll       -0.0341      0.008     -4.025      0.000      -0.051      -0.017\n",
      "lstaff        -0.7016      0.018    -38.097      0.000      -0.738      -0.666\n",
      "lunch         -0.0036      0.001     -6.911      0.000      -0.005      -0.003\n",
      "lunch2      3.178e-05   5.72e-06      5.557      0.000    2.06e-05     4.3e-05\n",
      "==============================================================================\n",
      "\n",
      "Turning point for lunch: 56.63\n",
      "Number of observations above turning point: 418\n"
     ]
    }
   ],
   "source": [
    "# Import necessary libraries\n",
    "import wooldridge as woo\n",
    "import pandas as pd\n",
    "import numpy as np\n",
    "from scipy import stats\n",
    "import matplotlib.pyplot as plt\n",
    "import seaborn as sns\n",
    "from statsmodels.formula.api import ols\n",
    "import statsmodels.api as sm\n",
    "\n",
    "# Load the data\n",
    "data = woo.data('benefits')\n",
    "\n",
    "# (i) First regression: lavgsal on bs\n",
    "model1 = sm.OLS.from_formula('lavgsal ~ bs', data=data)\n",
    "results1 = model1.fit()\n",
    "print(\"\\nRegression of lavgsal on bs:\")\n",
    "print(results1.summary().tables[1])\n",
    "\n",
    "# Calculate p-value for H0: bs = -1\n",
    "t_stat = (results1.params['bs'] - (-1)) / results1.bse['bs']\n",
    "p_value_minus_one = 2 * (1 - stats.t.cdf(abs(t_stat), results1.df_resid))\n",
    "print(f\"\\nP-value for H0: bs = -1: {p_value_minus_one:.4f}\")\n",
    "\n",
    "# (ii) Create lbs and calculate its statistics\n",
    "data['lbs'] = np.log(data['bs'])\n",
    "print(\"\\nStatistics for bs and lbs:\")\n",
    "print(pd.DataFrame({\n",
    "    'bs': [data['bs'].min(), data['bs'].max(), data['bs'].std()],\n",
    "    'lbs': [data['lbs'].min(), data['lbs'].max(), data['lbs'].std()]\n",
    "}, index=['Min', 'Max', 'Std Dev']))\n",
    "\n",
    "# (iii) Regression with lbs\n",
    "model2 = sm.OLS.from_formula('lavgsal ~ lbs', data=data)\n",
    "results2 = model2.fit()\n",
    "print(\"\\nRegression of lavgsal on lbs:\")\n",
    "print(results2.summary().tables[1])\n",
    "\n",
    "# (iv) Multiple regression\n",
    "model3 = sm.OLS.from_formula('lavgsal ~ bs + lenroll + lstaff + lunch', data=data)\n",
    "results3 = model3.fit()\n",
    "print(\"\\nMultiple regression results:\")\n",
    "print(results3.summary().tables[1])\n",
    "\n",
    "# (vi) Add lunch squared\n",
    "data['lunch2'] = data['lunch']**2\n",
    "model4 = sm.OLS.from_formula('lavgsal ~ bs + lenroll + lstaff + lunch + lunch2', data=data)\n",
    "results4 = model4.fit()\n",
    "print(\"\\nRegression with quadratic lunch term:\")\n",
    "print(results4.summary().tables[1])\n",
    "\n",
    "# Calculate turning point\n",
    "coef_lunch = results4.params['lunch']\n",
    "coef_lunch2 = results4.params['lunch2']\n",
    "turning_point = -coef_lunch / (2 * coef_lunch2)\n",
    "print(f\"\\nTurning point for lunch: {turning_point:.2f}\")\n",
    "\n",
    "# Count observations above turning point\n",
    "n_above = (data['lunch'] > turning_point).sum()\n",
    "print(f\"Number of observations above turning point: {n_above}\")"
   ]
  },
  {
   "cell_type": "markdown",
   "metadata": {},
   "source": [
    "- Initial negative relationship between teacher salaries and benefits becomes weaker when controlling for other factors, suggesting initial estimates were biased.\n",
    "- Schools with larger staff tend to pay lower salaries, likely due to budget constraints.\n",
    "- U-shaped relationship between poverty and teacher salaries. This suggests both wealthy schools and high-poverty schools offer premium salaries, possibly due to available resources in wealthy areas and incentive policies in poor areas.\n",
    "- School size has a small negative effect on teacher salaries, with larger schools paying slightly less.\n",
    "\n"
   ]
  },
  {
   "cell_type": "markdown",
   "metadata": {},
   "source": []
  }
 ],
 "metadata": {
  "kernelspec": {
   "display_name": "ScikitLearn Tutorial Venv",
   "language": "python",
   "name": "scikitlearn_tutorial_venv"
  },
  "language_info": {
   "codemirror_mode": {
    "name": "ipython",
    "version": 3
   },
   "file_extension": ".py",
   "mimetype": "text/x-python",
   "name": "python",
   "nbconvert_exporter": "python",
   "pygments_lexer": "ipython3",
   "version": "3.12.1"
  }
 },
 "nbformat": 4,
 "nbformat_minor": 2
}
