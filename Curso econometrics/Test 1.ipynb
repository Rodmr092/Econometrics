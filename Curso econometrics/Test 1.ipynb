{
 "cells": [
  {
   "cell_type": "code",
   "execution_count": 2,
   "metadata": {},
   "outputs": [],
   "source": [
    "import numpy as np\n",
    "import matplotlib.pyplot as plt\n",
    "import wooldridge\n",
    "import pandas as pd\n"
   ]
  },
  {
   "cell_type": "code",
   "execution_count": 3,
   "metadata": {},
   "outputs": [],
   "source": [
    "\n",
    "\n",
    "wage1 = wooldridge.data('wage1')\n",
    "bwght = wooldridge.data('bwght')\n",
    "meap01 = wooldridge.data('meap01')\n",
    "jtrain2 = wooldridge.data('jtrain2')\n",
    "fertil2 = wooldridge.data('fertil2')\n"
   ]
  },
  {
   "cell_type": "markdown",
   "metadata": {},
   "source": [
    " C1 Use the data in WAGE1.RAW for this exercise.\n",
    " \n",
    "(i) Find the average education level in the sample. What are the lowest and highest \n",
    "years of education?\n",
    "\n",
    "(ii) Find the average hourly wage in the sample. Does it seem high or low?\n",
    "\n",
    "\n",
    "(iii) The wage data are reported in 1976 dollars. Using the Economic Report of the \n",
    "President (2011 or later), obtain and report the Consumer Price Index (CPI) for \n",
    "the years 1976 and 2010.\n",
    "\n",
    "(iv) Use the CPI values from part (iii) to find the average hourly wage in 2010 dollars. \n",
    "Now does the average hourly wage seem reasonable?\n",
    "\n",
    "(v) How many women are in the sample? How many men?"
   ]
  },
  {
   "cell_type": "code",
   "execution_count": 5,
   "metadata": {},
   "outputs": [
    {
     "name": "stdout",
     "output_type": "stream",
     "text": [
      "   wage  educ  exper  tenure  nonwhite  female  married  numdep  smsa  \\\n",
      "0  3.10    11      2       0         0       1        0       2     1   \n",
      "1  3.24    12     22       2         0       1        1       3     1   \n",
      "2  3.00    11      2       0         0       0        0       2     0   \n",
      "3  6.00     8     44      28         0       0        1       0     1   \n",
      "4  5.30    12      7       2         0       0        1       1     0   \n",
      "\n",
      "   northcen  ...  trcommpu  trade  services  profserv  profocc  clerocc  \\\n",
      "0         0  ...         0      0         0         0        0        0   \n",
      "1         0  ...         0      0         1         0        0        0   \n",
      "2         0  ...         0      1         0         0        0        0   \n",
      "3         0  ...         0      0         0         0        0        1   \n",
      "4         0  ...         0      0         0         0        0        0   \n",
      "\n",
      "   servocc     lwage  expersq  tenursq  \n",
      "0        0  1.131402        4        0  \n",
      "1        1  1.175573      484        4  \n",
      "2        0  1.098612        4        0  \n",
      "3        0  1.791759     1936      784  \n",
      "4        0  1.667707       49        4  \n",
      "\n",
      "[5 rows x 24 columns]\n",
      "(526, 24)\n",
      "Index(['wage', 'educ', 'exper', 'tenure', 'nonwhite', 'female', 'married',\n",
      "       'numdep', 'smsa', 'northcen', 'south', 'west', 'construc', 'ndurman',\n",
      "       'trcommpu', 'trade', 'services', 'profserv', 'profocc', 'clerocc',\n",
      "       'servocc', 'lwage', 'expersq', 'tenursq'],\n",
      "      dtype='object')\n"
     ]
    }
   ],
   "source": [
    "print (wage1.head(5))\n",
    "print (wage1.shape)\n",
    "# print the names of the columns\n",
    "print (wage1.columns)\n",
    "# \n"
   ]
  },
  {
   "cell_type": "code",
   "execution_count": 9,
   "metadata": {},
   "outputs": [
    {
     "name": "stdout",
     "output_type": "stream",
     "text": [
      "Average education level in the sample: 12.562737642585551\n",
      "Lowest years of education: 0\n",
      "Highest years of education: 18\n",
      "Average hourly wage in the sample: 5.896102674787035\n",
      "Average hourly wage in 2024 dollars: 32.09034187950963\n",
      "Number of women in the sample: 252\n",
      "Number of men in the sample: 274\n"
     ]
    }
   ],
   "source": [
    "# Average education level in the sample\n",
    "print (f\"Average education level in the sample: {wage1['educ'].mean()}\")\n",
    "# Lowest and highest years of education\n",
    "print (f\"Lowest years of education: {wage1['educ'].min()}\")\n",
    "print (f\"Highest years of education: {wage1['educ'].max()}\")\n",
    "\n",
    "# Average hourly wage in the sample\n",
    "print (f\"Average hourly wage in the sample: {wage1['wage'].mean()}\")\n",
    "\n",
    "# CPI for the years 1976 and 2024\n",
    "cpi_1976 = 56.9  # CPI promedio de 1976\n",
    "cpi_2024 = 309.686  # CPI de marzo 2024 (último dato disponible)\n",
    "\n",
    "# Average hourly wage in 2024 dollars\n",
    "average_wage_2024 = wage1['wage'].mean() * (cpi_2024 / cpi_1976)\n",
    "print (f\"Average hourly wage in 2024 dollars: {average_wage_2024}\")\n",
    "\n",
    "# How many women are in the sample\n",
    "print (f\"Number of women in the sample: {wage1['female'].sum()}\")\n",
    " # the number of men is the total number of observations minus the number of women\n",
    "print (f\"Number of men in the sample: {wage1.shape[0] - wage1['female'].sum()}\")\n"
   ]
  },
  {
   "cell_type": "markdown",
   "metadata": {},
   "source": [
    "C2 Use the data in BWGHT.RAW to answer this question.\n",
    "\n",
    "(i) How many women are in the sample, and how many report smoking during \n",
    "pregnancy?\n",
    "\n",
    "(ii) What is the average number of cigarettes smoked per day? Is the average a good \n",
    "measure of the “typical” woman in this case? Explain.\n",
    "\n",
    "(iii) Among women who smoked during pregnancy, what is the average number \n",
    "of cigarettes smoked per day? How does this compare with your answer from \n",
    "part (ii), and why?\n",
    "\n",
    "(iv) Find the average of fatheduc in the sample. Why are only 1,192 observations used \n",
    "to compute this average?\n",
    "\n",
    "(v) Report the average family income and its standard deviation in dollars."
   ]
  },
  {
   "cell_type": "code",
   "execution_count": 16,
   "metadata": {},
   "outputs": [
    {
     "name": "stdout",
     "output_type": "stream",
     "text": [
      "Number of women in the sample: 1388\n",
      "Number of women who report smoking during pregnancy: 212\n",
      "Average number of cigarettes smoked per day: 2.0871757925072045\n",
      "Average number of cigarettes smoked per day: 13.665094339622641\n",
      "Average of fatheduc: 13.186241610738255\n",
      "Average family income in 1000's of dollars: 29.026657060518733\n",
      "Standard deviation of family income in 1000's of dollars: 18.73928463224534\n"
     ]
    }
   ],
   "source": [
    "# How many women are in the sample, and how many report smoking during pregnancy?\n",
    "print (f\"Number of women in the sample: {bwght.shape[0]}\")\n",
    "print (f\"Number of women who report smoking during pregnancy: {bwght[bwght['cigs'] > 0].shape[0]}\")\n",
    "\n",
    "# Average number of cigarettes smoked per day\n",
    "print (f\"Average number of cigarettes smoked per day: {bwght['cigs'].mean()}\") # Not representative due to excessive number of 0's\n",
    "\n",
    "# If cigs is greater than 0, what is the average number of cigarettes smoked per day?\n",
    "print (f\"Average number of cigarettes smoked per day: {bwght[bwght['cigs'] > 0]['cigs'].mean()}\")\n",
    "\n",
    "# Fatheduc count and average\n",
    "print (f\"Average of fatheduc: {bwght['fatheduc'].mean()}\")\n",
    "# Only 1,192 observations used to compute this average because the variable fatheduc has missing values (NaN)\n",
    "\n",
    "# Average family income and its standard deviation in dollars\n",
    "print (f\"Average family income in 1000's of dollars: {bwght['faminc'].mean()}\")\n",
    "print (f\"Standard deviation of family income in 1000's of dollars: {bwght['faminc'].std()}\")\n",
    "\n",
    "\n"
   ]
  },
  {
   "cell_type": "markdown",
   "metadata": {},
   "source": [
    "C3 The data in MEAP01.RAW are for the state of Michigan in the year 2001. Use these \n",
    "data to answer the following questions.\n",
    "\n",
    "(i) Find the largest and smallest values of math4. Does the range make sense? \n",
    "Explain.\n",
    "\n",
    "(ii) How many schools have a perfect pass rate on the math test? What percentage is \n",
    "this of the total sample?\n",
    "(iii) How many schools have math pass rates of exactly 50%?\n",
    "(iv) Compare the average pass rates for the math and reading scores. Which test is \n",
    "harder to pass?\n",
    "\n",
    "(v) Find the correlation between math4 and read4. What do you conclude?\n",
    "\n",
    "(vi) The variable exppp is expenditure per pupil. Find the average of exppp along \n",
    "with its standard deviation. Would you say there is wide variation in per pupil \n",
    "spending?\n",
    "\n",
    "(vii) Suppose School A spends $6,000 per student and School B spends $5,500 per \n",
    "student. By what percentage does School A’s spending exceed School B’s? Com\u0002pare this to 100 ·[log(6,000) – log(5,500)], which is the approximation percent\u0002age difference based on the difference in the natural logs. "
   ]
  },
  {
   "cell_type": "code",
   "execution_count": 17,
   "metadata": {},
   "outputs": [
    {
     "name": "stdout",
     "output_type": "stream",
     "text": [
      "Columns of the data: Index(['dcode', 'bcode', 'math4', 'read4', 'lunch', 'enroll', 'expend',\n",
      "       'exppp', 'lenroll', 'lexpend', 'lexppp'],\n",
      "      dtype='object')\n",
      "Shape of the data: (1823, 11)\n"
     ]
    }
   ],
   "source": [
    "# Columns of the data and shape\n",
    "print (f\"Columns of the data: {meap01.columns}\")\n",
    "print (f\"Shape of the data: {meap01.shape}\")\n",
    "\n"
   ]
  },
  {
   "cell_type": "code",
   "execution_count": 22,
   "metadata": {},
   "outputs": [
    {
     "name": "stdout",
     "output_type": "stream",
     "text": [
      "Largest value of math4: 100.0\n",
      "Smallest value of math4: 0.0\n",
      "Number of schools with a perfect pass rate on the math test: 38\n",
      "Percentage of schools with a perfect pass rate on the math test: 2.084476138233681%\n",
      "Number of schools with math pass rates of exactly 50%: 17\n",
      "Average pass rate for the math test: 71.90899606805154\n",
      "Average pass rate for the reading test: 60.06187602862904\n",
      "Correlation between math4 and read4: 0.842728145772116\n",
      "Average of exppp: 5194.865478314741\n",
      "Standard deviation of exppp: 1091.8895972167838\n",
      "Percentage difference between School A and School B: 9.090909090909092%\n",
      "Percentage difference based on the difference in the natural logs: 8.701137698962924\n"
     ]
    }
   ],
   "source": [
    "# largest and smallest values of math4\n",
    "print (f\"Largest value of math4: {meap01['math4'].max()}\")\n",
    "print (f\"Smallest value of math4: {meap01['math4'].min()}\")\n",
    "\n",
    "# How many schools have a perfect pass rate on the math test? What percentage is this of the total sample?\n",
    "print (f\"Number of schools with a perfect pass rate on the math test: {meap01[meap01['math4'] == 100].shape[0]}\")\n",
    "print (f\"Percentage of schools with a perfect pass rate on the math test: {(meap01[meap01['math4'] == 100].shape[0] / meap01.shape[0]) * 100}%\")\n",
    "\n",
    "# How many schools have math pass rates of exactly 50%?\n",
    "print (f\"Number of schools with math pass rates of exactly 50%: {meap01[meap01['math4'] == 50].shape[0]}\")\n",
    "\n",
    "# Compare the average pass rates for the math and reading scores. Which test is harder to pass?\n",
    "print (f\"Average pass rate for the math test: {meap01['math4'].mean()}\")\n",
    "print (f\"Average pass rate for the reading test: {meap01['read4'].mean()}\")\n",
    "\n",
    "# Find the correlation between math4 and read4. What do you conclude?\n",
    "print (f\"Correlation between math4 and read4: {meap01['math4'].corr(meap01['read4'])}\") #the correlation is 0.84, which means that the two tests are highly correlated\n",
    "\n",
    "# The variable exppp is expenditure per pupil. Find the average of exppp along with its standard deviation. Would you say there is wide variation in per pupil spending?\n",
    "print (f\"Average of exppp: {meap01['exppp'].mean()}\")\n",
    "print (f\"Standard deviation of exppp: {meap01['exppp'].std()}\")\n",
    "# The average is 5194.86 and the std is 1091.88, which means that there is a wide variation in per pupil spending\n",
    "\n",
    "# Suppose School A spends $6,000 per student and School B spends $5,500 per student. By what percentage does School A’s spending exceed School B’s? Compare this to 100 ·[log(6,000) – log(5,500)], which is the approximation percentage difference based on the difference in the natural logs. \n",
    "print (f\"Percentage difference between School A and School B: {100 * (6000 - 5500) / 5500}%\")\n",
    "print (f\"Percentage difference based on the difference in the natural logs: {100 * (np.log(6000) - np.log(5500))}\")\n",
    "\n",
    "\n",
    "\n",
    "\n",
    "\n"
   ]
  },
  {
   "cell_type": "markdown",
   "metadata": {},
   "source": [
    "The data in JTRAIN2.RAW come from a job training experiment conducted for low\u0002income men during 1976–1977; see Lalonde (1986).\n",
    "\n",
    "(i) Use the indicator variable train to determine the fraction of men receiving job \n",
    "training.\n",
    "\n",
    "(ii) The variable re78 is earnings from 1978, measured in thousands of 1982 dollars. \n",
    "Find the averages of re78 for the sample of men receiving job training and the \n",
    "sample not receiving job training. Is the difference economically large?\n",
    "\n",
    "(iii) The variable unem78 is an indicator of whether a man is unemployed or not in \n",
    "1978. What fraction of the men who received job training are unemployed? What \n",
    "about for men who did not receive job training? Comment on the difference.\n",
    "\n",
    "(iv) From parts (ii) and (iii), does it appear that the job training program was effective? \n",
    "What would make our conclusions more convincing?"
   ]
  },
  {
   "cell_type": "code",
   "execution_count": 23,
   "metadata": {},
   "outputs": [
    {
     "name": "stdout",
     "output_type": "stream",
     "text": [
      "Shape of the data: (445, 19)\n",
      "Columns of the data: Index(['train', 'age', 'educ', 'black', 'hisp', 'married', 'nodegree',\n",
      "       'mosinex', 're74', 're75', 're78', 'unem74', 'unem75', 'unem78',\n",
      "       'lre74', 'lre75', 'lre78', 'agesq', 'mostrn'],\n",
      "      dtype='object')\n"
     ]
    }
   ],
   "source": [
    "#jtrain2 shape and columns\n",
    "print (f\"Shape of the data: {jtrain2.shape}\")\n",
    "print (f\"Columns of the data: {jtrain2.columns}\")\n"
   ]
  },
  {
   "cell_type": "code",
   "execution_count": 25,
   "metadata": {},
   "outputs": [
    {
     "name": "stdout",
     "output_type": "stream",
     "text": [
      "Average of re78 for the sample of men receiving job training: 6.349145357189951\n",
      "Average of re78 for the sample of men not receiving job training: 4.554802284088845\n",
      "Fraction of the men who received job training: 0.4157303370786517\n",
      "Fraction of the men who did not receive job training: 0.5842696629213483\n",
      "Fraction of the men who received job training and are unemployed: 0.24324324324324326\n",
      "Fraction of the men who did not receive job training and are unemployed: 0.35384615384615387\n"
     ]
    }
   ],
   "source": [
    "# Average of re78 for the sample of men receiving job training and the sample not receiving job training\n",
    "print (f\"Average of re78 for the sample of men receiving job training: {jtrain2[jtrain2['train'] == 1]['re78'].mean()}\")\n",
    "print (f\"Average of re78 for the sample of men not receiving job training: {jtrain2[jtrain2['train'] == 0]['re78'].mean()}\")\n",
    "\n",
    "# Fraction of the men who received job training and the sample not receiving job training\n",
    "print (f\"Fraction of the men who received job training: {jtrain2[jtrain2['train'] == 1].shape[0] / jtrain2.shape[0]}\")\n",
    "print (f\"Fraction of the men who did not receive job training: {jtrain2[jtrain2['train'] == 0].shape[0] / jtrain2.shape[0]}\")\n",
    "\n",
    "# What fraction of the men who received job training are unemployed? What about for men who did not receive job training? Comment on the difference.\n",
    "print (f\"Fraction of the men who received job training and are unemployed: {jtrain2[(jtrain2['train'] == 1) & (jtrain2['unem78'] == 1)].shape[0] / jtrain2[jtrain2['train'] == 1].shape[0]}\")\n",
    "print (f\"Fraction of the men who did not receive job training and are unemployed: {jtrain2[(jtrain2['train'] == 0) & (jtrain2['unem78'] == 1)].shape[0] / jtrain2[jtrain2['train'] == 0].shape[0]}\")\n",
    "\n"
   ]
  },
  {
   "cell_type": "markdown",
   "metadata": {},
   "source": [
    "The data in FERTIL2.DTA were collected on women living in the Republic of Botswana \n",
    "in 1988. The variable children refers to the number of living children. The variable \n",
    "electric is a binary indicator equal to one if the woman’s home has electricity, and \n",
    "zero if not.\n",
    "\n",
    "(i) Find the smallest and largest values of children in the sample. What is the average \n",
    "of children?\n",
    "\n",
    "(ii) What percentage of women have electricity in the home?\n",
    "\n",
    "(iii) Compute the average of children for those without electricity and do the same for \n",
    "those with electricity. Comment on what you find.\n",
    "\n",
    "(iv) From part (iii), can you infer that having electricity “causes” women to have fewer \n",
    "children? Explain"
   ]
  },
  {
   "cell_type": "code",
   "execution_count": 27,
   "metadata": {},
   "outputs": [
    {
     "name": "stdout",
     "output_type": "stream",
     "text": [
      "Shape of the data: (4361, 27)\n",
      "Columns of the data: Index(['mnthborn', 'yearborn', 'age', 'electric', 'radio', 'tv', 'bicycle',\n",
      "       'educ', 'ceb', 'agefbrth', 'children', 'knowmeth', 'usemeth', 'monthfm',\n",
      "       'yearfm', 'agefm', 'idlnchld', 'heduc', 'agesq', 'urban', 'urb_educ',\n",
      "       'spirit', 'protest', 'catholic', 'frsthalf', 'educ0', 'evermarr'],\n",
      "      dtype='object')\n"
     ]
    }
   ],
   "source": [
    "#Shape and columns of the data\n",
    "print (f\"Shape of the data: {fertil2.shape}\")\n",
    "print (f\"Columns of the data: {fertil2.columns}\")\n",
    "\n",
    "\n"
   ]
  },
  {
   "cell_type": "code",
   "execution_count": 28,
   "metadata": {},
   "outputs": [
    {
     "name": "stdout",
     "output_type": "stream",
     "text": [
      "Smallest value of children in the sample: 0\n",
      "Largest value of children in the sample: 13\n",
      "Average of children in the sample: 2.2678284797064894\n"
     ]
    }
   ],
   "source": [
    "# Smallest and largest values of children in the sample\n",
    "print (f\"Smallest value of children in the sample: {fertil2['children'].min()}\")\n",
    "print (f\"Largest value of children in the sample: {fertil2['children'].max()}\")\n",
    "\n",
    "# Average of children in the sample\n",
    "print (f\"Average of children in the sample: {fertil2['children'].mean()}\")\n"
   ]
  },
  {
   "cell_type": "code",
   "execution_count": 30,
   "metadata": {},
   "outputs": [
    {
     "name": "stdout",
     "output_type": "stream",
     "text": [
      "Percentage of women who have electricity in the home: 0.14010548039440496\n",
      "Average of children for those without electricity: 2.327728849746464\n",
      "Average of children for those with electricity: 1.8985270049099836\n"
     ]
    }
   ],
   "source": [
    "# What percentage of women have electricity in the home?\n",
    "print (f\"Percentage of women who have electricity in the home: {fertil2[fertil2['electric'] == 1].shape[0] / fertil2.shape[0]}\")\n",
    "\n",
    "# Compute the average of children for those without electricity and do the same for those with electricity. Comment on what you find.\n",
    "print (f\"Average of children for those without electricity: {fertil2[fertil2['electric'] == 0]['children'].mean()}\")\n",
    "print (f\"Average of children for those with electricity: {fertil2[fertil2['electric'] == 1]['children'].mean()}\")\n",
    "\n",
    "# From part (iii), can you infer that having electricity “causes” women to have fewer \n",
    "# children? \n",
    "# No because correlation does not imply causation\n",
    "\n",
    "\n"
   ]
  },
  {
   "cell_type": "markdown",
   "metadata": {},
   "source": [
    "# Functions to perform lineal regression"
   ]
  },
  {
   "cell_type": "code",
   "execution_count": 6,
   "metadata": {},
   "outputs": [],
   "source": [
    "def compute_cost(X, y, w, b):\n",
    "    m = X.shape[0]\n",
    "    return (1/(2*m)) * np.sum((w*X + b - y)**2)"
   ]
  },
  {
   "cell_type": "code",
   "execution_count": 7,
   "metadata": {},
   "outputs": [],
   "source": [
    "def compute_gradient(x, y, w, b): \n",
    "    m = x.shape[0]\n",
    "    dw = (1/m) * np.sum((w*x + b - y) * x)\n",
    "    db = (1/m) * np.sum(w*x + b - y)\n",
    "    return dw, db\n"
   ]
  },
  {
   "cell_type": "code",
   "execution_count": 8,
   "metadata": {},
   "outputs": [],
   "source": [
    "def gradient_descent(X, y, w, b, alpha, iterations):\n",
    "    m = X.shape[0]\n",
    "    y_pred = np.zeros(y.shape)\n",
    "    cost_history = []\n",
    "\n",
    "    for i in range(iterations):\n",
    "        y_pred = w*X + b\n",
    "        dw, db = compute_gradient(X, y, w, b)\n",
    "        w = w - alpha * dw\n",
    "        b = b - alpha * db\n",
    "        cost = compute_cost(X, y, w, b)\n",
    "        cost_history.append(cost)\n",
    "        if i % 1000 == 0:\n",
    "            print(f\"Iteration {i}: Cost = {cost}\")\n",
    "    return w, b, cost_history, y_pred\n",
    "        "
   ]
  },
  {
   "cell_type": "code",
   "execution_count": 9,
   "metadata": {},
   "outputs": [],
   "source": [
    "def plot_residuals_histogram(residuals):\n",
    "    plt.figure(figsize=(8, 6))\n",
    "    plt.hist(residuals, bins=10, color='blue', alpha=0.7)\n",
    "    plt.title('Histogram of Residuals')\n",
    "    plt.xlabel('Residuals')\n",
    "    plt.ylabel('Frequency')\n",
    "    plt.grid(True)\n",
    "    plt.show()"
   ]
  },
  {
   "cell_type": "code",
   "execution_count": 12,
   "metadata": {},
   "outputs": [],
   "source": [
    "def calculate_statistics(X, y, y_pred):\n",
    "    m = X.shape[0]\n",
    "    residuals = y - y_pred\n",
    "    residuals_sum_of_squares = np.sum(residuals**2)\n",
    "    x_mean = np.mean(X)\n",
    "    total_sum_of_squares = np.sum((X - x_mean)**2)\n",
    "\n",
    "    # Standard error of the slope (w)\n",
    "    se_w = np.sqrt((1/(m-2)) * residuals_sum_of_squares / (total_sum_of_squares))\n",
    "    # t-value for the slope\n",
    "    t_w = w_final / se_w\n",
    "    return se_w, t_w"
   ]
  },
  {
   "cell_type": "markdown",
   "metadata": {},
   "source": [
    "# Implementation with outlier"
   ]
  },
  {
   "cell_type": "code",
   "execution_count": 10,
   "metadata": {},
   "outputs": [
    {
     "name": "stdout",
     "output_type": "stream",
     "text": [
      "Iteration 0: Cost = 52.45744051874998\n",
      "Iteration 1000: Cost = 22.80464224340787\n",
      "Iteration 2000: Cost = 17.138896202803977\n",
      "Iteration 3000: Cost = 15.767183670078905\n",
      "Iteration 4000: Cost = 15.435083491399803\n",
      "Iteration 5000: Cost = 15.354679962200002\n",
      "Iteration 6000: Cost = 15.335213765182287\n",
      "Iteration 7000: Cost = 15.330500877202077\n",
      "Iteration 8000: Cost = 15.329359857562038\n",
      "Iteration 9000: Cost = 15.329083609574733\n"
     ]
    },
    {
     "data": {
      "image/png": "[encoded data removed]",
      "text/plain": [
       "<Figure size 800x600 with 1 Axes>"
      ]
     },
     "metadata": {},
     "output_type": "display_data"
    },
    {
     "name": "stdout",
     "output_type": "stream",
     "text": [
      "Estimated parameters:\n",
      "Weight (w): -0.3223570973273493\n",
      "Bias (b): 29.602425638572946\n"
     ]
    }
   ],
   "source": [
    "# Parameters\n",
    "w = 0.0\n",
    "b = 0.0\n",
    "alpha = 0.01\n",
    "iterations = 10000\n",
    "\n",
    "w_final, b_final, cost_history, y_pred = gradient_descent(X, y, w, b, alpha, iterations)\n",
    "\n",
    "residuals = y - y_pred\n",
    "plot_residuals_histogram(residuals)\n",
    "print(f\"Estimated parameters:\\nWeight (w): {w_final}\\nBias (b): {b_final}\")\n"
   ]
  },
  {
   "cell_type": "code",
   "execution_count": 11,
   "metadata": {},
   "outputs": [
    {
     "data": {
      "image/png": "[encoded data removed]",
      "text/plain": [
       "<Figure size 800x600 with 1 Axes>"
      ]
     },
     "metadata": {},
     "output_type": "display_data"
    }
   ],
   "source": [
    "\n",
    "# Create scatter plot of original data\n",
    "plt.figure(figsize=(8, 6))\n",
    "plt.scatter(X, y, color='blue', label='Actual data')\n",
    "\n",
    "# Add the regression line\n",
    "plt.plot(X, y_pred, color='red', label='Fitted line')\n",
    "\n",
    "# Adding plot labels and title\n",
    "plt.xlabel('Advertising')\n",
    "plt.ylabel('Sales')\n",
    "plt.title('Scatter Plot with Fitted Regression Line')\n",
    "plt.legend()\n",
    "\n",
    "# Show the plot\n",
    "plt.show()"
   ]
  },
  {
   "cell_type": "code",
   "execution_count": 20,
   "metadata": {},
   "outputs": [
    {
     "name": "stdout",
     "output_type": "stream",
     "text": [
      "Standard Error of slope: 0.45891129651800133\n",
      "T-value of slope: -0.7024387932335513\n"
     ]
    }
   ],
   "source": [
    "SE_w, t_value = calculate_statistics(X, y, y_pred)\n",
    "print(f\"Standard Error of slope: {SE_w}\\nT-value of slope: {t_value}\")\n"
   ]
  },
  {
   "cell_type": "markdown",
   "metadata": {},
   "source": [
    "# Implementation removing the outlier"
   ]
  },
  {
   "cell_type": "code",
   "execution_count": 13,
   "metadata": {},
   "outputs": [],
   "source": [
    "max_index = np.argmax(y)\n",
    "X_new = np.delete(X, max_index)\n",
    "y_new = np.delete (y, max_index)"
   ]
  },
  {
   "cell_type": "code",
   "execution_count": 14,
   "metadata": {},
   "outputs": [
    {
     "data": {
      "text/plain": [
       "<function matplotlib.pyplot.show(close=None, block=None)>"
      ]
     },
     "execution_count": 14,
     "metadata": {},
     "output_type": "execute_result"
    },
    {
     "data": {
      "image/png": "[encoded data removed]",
      "text/plain": [
       "<Figure size 800x600 with 1 Axes>"
      ]
     },
     "metadata": {},
     "output_type": "display_data"
    }
   ],
   "source": [
    "plt.figure(figsize=(8,6))\n",
    "plt.scatter(X_new, y_new, color=\"blue\", label=\"Scatterplot without outlier\")\n",
    "\n",
    "#Add plot labels and title\n",
    "plt.xlabel(\"Advertising\")\n",
    "plt.ylabel(\"Sales\")\n",
    "plt.title(\"Scatterplot of Advertising vs Sales without outlier\")\n",
    "plt.legend()\n",
    "\n",
    "# Show the plot\n",
    "plt.show"
   ]
  },
  {
   "cell_type": "code",
   "execution_count": 16,
   "metadata": {},
   "outputs": [
    {
     "name": "stdout",
     "output_type": "stream",
     "text": [
      "Iteration 0: Cost = 24.39949032657821\n",
      "Iteration 1000: Cost = 4.4236921863008885\n",
      "Iteration 2000: Cost = 1.5971955550378638\n",
      "Iteration 3000: Cost = 0.8051070005804623\n",
      "Iteration 4000: Cost = 0.5831345873948578\n",
      "Iteration 5000: Cost = 0.5209297342402893\n",
      "Iteration 6000: Cost = 0.5034976412137278\n",
      "Iteration 7000: Cost = 0.4986125261161717\n",
      "Iteration 8000: Cost = 0.49724353677679595\n",
      "Iteration 9000: Cost = 0.4968598954963149\n"
     ]
    },
    {
     "data": {
      "image/png": "[encoded data removed]",
      "text/plain": [
       "<Figure size 800x600 with 1 Axes>"
      ]
     },
     "metadata": {},
     "output_type": "display_data"
    },
    {
     "name": "stdout",
     "output_type": "stream",
     "text": [
      "Estimated parameters:\n",
      "Weight (w): 0.3782332852723425\n",
      "Bias (b): 21.088836080034422\n"
     ]
    }
   ],
   "source": [
    "# Parameters\n",
    "w = 0.0\n",
    "b = 0.0\n",
    "alpha = 0.01\n",
    "iterations = 10000\n",
    "\n",
    "w_final, b_final, cost_history, y_pred = gradient_descent(X_new, y_new, w, b, alpha, iterations)\n",
    "\n",
    "residuals = y_new - y_pred\n",
    "plot_residuals_histogram(residuals)\n",
    "print(f\"Estimated parameters:\\nWeight (w): {w_final}\\nBias (b): {b_final}\")"
   ]
  },
  {
   "cell_type": "code",
   "execution_count": 17,
   "metadata": {},
   "outputs": [
    {
     "name": "stdout",
     "output_type": "stream",
     "text": [
      "Standard Error of slope: 0.08820014977070663\n",
      "T-value of slope: 4.288351961483435\n"
     ]
    }
   ],
   "source": [
    "SE_w, t_value = calculate_statistics(X_new, y_new, y_pred)\n",
    "print(f\"Standard Error of slope: {SE_w}\\nT-value of slope: {t_value}\")\n"
   ]
  },
  {
   "cell_type": "code",
   "execution_count": 19,
   "metadata": {},
   "outputs": [
    {
     "data": {
      "image/png": "[encoded data removed]",
      "text/plain": [
       "<Figure size 800x600 with 1 Axes>"
      ]
     },
     "metadata": {},
     "output_type": "display_data"
    }
   ],
   "source": [
    "\n",
    "# Create scatter plot of original data\n",
    "plt.figure(figsize=(8, 6))\n",
    "plt.scatter(X_new, y_new, color='blue', label='data without outlier')\n",
    "\n",
    "# Add the regression line\n",
    "plt.plot(X_new, y_pred, color='red', label='Fitted line')\n",
    "\n",
    "# Adding plot labels and title\n",
    "plt.xlabel('Advertising')\n",
    "plt.ylabel('Sales')\n",
    "plt.title('Scatter Plot with Fitted Regression Line without Outlier')\n",
    "plt.legend()\n",
    "\n",
    "# Show the plot\n",
    "plt.show()"
   ]
  }
 ],
 "metadata": {
  "kernelspec": {
   "display_name": "scikitlearn_tutorial_venv",
   "language": "python",
   "name": "python3"
  },
  "language_info": {
   "codemirror_mode": {
    "name": "ipython",
    "version": 3
   },
   "file_extension": ".py",
   "mimetype": "text/x-python",
   "name": "python",
   "nbconvert_exporter": "python",
   "pygments_lexer": "ipython3",
   "version": "3.12.1"
  }
 },
 "nbformat": 4,
 "nbformat_minor": 2
}
